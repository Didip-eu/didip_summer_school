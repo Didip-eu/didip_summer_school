{
  "nbformat": 4,
  "nbformat_minor": 0,
  "metadata": {
    "colab": {
      "provenance": []
    },
    "kernelspec": {
      "name": "python3",
      "display_name": "Python 3"
    },
    "language_info": {
      "name": "python"
    }
  },
  "cells": [
    {
      "cell_type": "markdown",
      "source": [
        "# ERC DiDip Summer School 2024 Working Environment\n",
        "\n",
        "The ERC DiDip Summer School 2024 leverages a cloud-based working environment for seamless collaboration and learning. Participants primarily work in **Colab**, a browser-based Jupyter notebook environment that enables real-time interaction and execution of Python code. **Google Drive** serves as the central storage hub for project files, datasets, and any other relevant materials.\n",
        "\n",
        "Additionally, the summer school maintains a dedicated **GitHub** repository where instructional materials, code examples, and project templates are hosted. Participants can clone this repository to their local machines and pull updates daily to stay in sync with any modifications made throughout the course.\n",
        "\n",
        "#### Requirements\n",
        "- Google account"
      ],
      "metadata": {
        "id": "QLN4KlnHt98E"
      }
    },
    {
      "cell_type": "code",
      "execution_count": null,
      "metadata": {
        "colab": {
          "base_uri": "https://localhost:8080/"
        },
        "id": "cYiIcQA7yk5O",
        "outputId": "bdcf2160-cf58-48b4-f237-516eae7fe013"
      },
      "outputs": [
        {
          "output_type": "stream",
          "name": "stdout",
          "text": [
            "Mounted at /content/drive/\n"
          ]
        }
      ],
      "source": [
        "# Import Google Drive\n",
        "from google.colab import drive\n",
        "drive.mount('/content/drive/')"
      ]
    },
    {
      "cell_type": "code",
      "source": [
        "# Set drive/MyDrive/ ad base working directory\n",
        "%cd /content/drive/MyDrive/"
      ],
      "metadata": {
        "colab": {
          "base_uri": "https://localhost:8080/"
        },
        "id": "0cdTcTnjTC8S",
        "outputId": "4e450e3c-5b77-40ee-a45a-e71c04a442af"
      },
      "execution_count": null,
      "outputs": [
        {
          "output_type": "stream",
          "name": "stdout",
          "text": [
            "/content/drive/MyDrive\n"
          ]
        }
      ]
    },
    {
      "cell_type": "code",
      "source": [
        "# Clone the summer school github repo: https://github.com/kreeedit/didip_ss.git\n",
        "!git clone https://github.com/kreeedit/didip_ss.git"
      ],
      "metadata": {
        "colab": {
          "base_uri": "https://localhost:8080/"
        },
        "id": "qdYJYWY6zc_y",
        "outputId": "e4fb3f7c-cae7-45ab-a6d0-e2786ecc6e7d"
      },
      "execution_count": null,
      "outputs": [
        {
          "output_type": "stream",
          "name": "stdout",
          "text": [
            "fatal: destination path 'didip_ss' already exists and is not an empty directory.\n"
          ]
        }
      ]
    },
    {
      "cell_type": "code",
      "source": [
        "# Set didip_ss as a base working directory\n",
        "%cd didip_ss"
      ],
      "metadata": {
        "colab": {
          "base_uri": "https://localhost:8080/"
        },
        "id": "aTV4nn0XTttM",
        "outputId": "2015b658-463f-44f5-870b-b8318cc858d7"
      },
      "execution_count": null,
      "outputs": [
        {
          "output_type": "stream",
          "name": "stdout",
          "text": [
            "/content/drive/MyDrive/didip_ss\n"
          ]
        }
      ]
    },
    {
      "cell_type": "code",
      "source": [
        "# Set Summer School directory as working directory\n",
        "%cd /content/drive/MyDrive/didip_ss/"
      ],
      "metadata": {
        "colab": {
          "base_uri": "https://localhost:8080/"
        },
        "id": "Zxc_mg9hIjQK",
        "outputId": "14200fad-7c13-4859-9ec7-c85bbe7ec7f7"
      },
      "execution_count": 12,
      "outputs": [
        {
          "output_type": "stream",
          "name": "stdout",
          "text": [
            "/content/drive/MyDrive/didip_ss\n"
          ]
        }
      ]
    },
    {
      "cell_type": "code",
      "source": [
        "# Set a morning routine: Anything updated? (run from D02 to D05 before the first session starts)\n",
        "%cd /content/drive/MyDrive/didip_ss/\n",
        "!git pull"
      ],
      "metadata": {
        "id": "_v5KyUSExCUK"
      },
      "execution_count": null,
      "outputs": []
    },
    {
      "cell_type": "code",
      "source": [
        "# Are we in the directory?\n",
        "!ls"
      ],
      "metadata": {
        "colab": {
          "base_uri": "https://localhost:8080/"
        },
        "id": "p4cy3kLci4Bk",
        "outputId": "3cf48fbe-4361-434a-c954-c364ecd65f54"
      },
      "execution_count": 13,
      "outputs": [
        {
          "output_type": "stream",
          "name": "stdout",
          "text": [
            "D01  D02  D03  D04  D05  README.md\n"
          ]
        }
      ]
    }
  ]
}