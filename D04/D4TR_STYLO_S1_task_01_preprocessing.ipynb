{
  "cells": [
    {
      "cell_type": "markdown",
      "id": "cd8258c1-4e65-48f2-9260-e89530f3f193",
      "metadata": {
        "id": "cd8258c1-4e65-48f2-9260-e89530f3f193"
      },
      "source": [
        "# 1. Preprocessing\n",
        "\n",
        "## 1.1 What is Preprocessing?\n",
        "In this notebook, we survey some snippets of code that help 'preprocess' your corpus of medieval texts. The preprocessing of text files is an elementary but fundamental step in ensuring reliability of stylometric analyses. One could argue that especially with texts from the Middle Ages preprocessing is key and perhaps more crucial then when you are digitally analyzing texts written in periods after the invention of the printing press. Stylometry’s application to medieval texts comes with specific desiderata when compared to, for instance, authorship detection of current-day online, electronically available blog posts. As a result of manuscript culture, medieval texts can be tremendously varied. These variations can tell us much about varying editing principles, or various recensions or writing conventions across scriptoria, but more often than not they are redundant when what you want to look at is authorship and literary style.\n",
        "\n",
        "Preprocessing (potentially) entails steps such as these:\n",
        "\n",
        "* the removal and editing of all irrelevant characters in the text: punctuation, numerals, optical character recognition errors, case-folding, titles or annotations, etc …\n",
        "* ‘tokenising’ the text to meaningful units, often word tokens\n",
        "\n",
        "If so desired, preprocessing also takes care of this:\n",
        "* normalization / standardization: align variant orthographical and editorial conventions between text versions\n",
        "* disambiguation, for instance to semantically distinguish homographs.\n",
        "* stemming (recover basis stem or morphological root of word tokens\n",
        "* lemmatisation transforms word tokens to a standard dictionary form\n",
        "* PoS(part-of-speech)-tagging and parsing: identify a token’s part of speech and syntactic function\n",
        "* automated scansion for prosodic units of analysis\n"
      ]
    },
    {
      "cell_type": "code",
      "source": [
        "# Attach Google Drive\n",
        "from google.colab import drive\n",
        "drive.mount('/content/drive')"
      ],
      "metadata": {
        "colab": {
          "base_uri": "https://localhost:8080/"
        },
        "id": "yakfw7AgmC0r",
        "outputId": "cac0ce27-a08f-47cc-88d5-0596e8ecc3f4"
      },
      "id": "yakfw7AgmC0r",
      "execution_count": 1,
      "outputs": [
        {
          "output_type": "stream",
          "name": "stdout",
          "text": [
            "Mounted at /content/drive\n"
          ]
        }
      ]
    },
    {
      "cell_type": "code",
      "source": [
        "# Set didip_ss folder as base working directory\n",
        "%cd /content/drive/MyDrive/didip_ss"
      ],
      "metadata": {
        "colab": {
          "base_uri": "https://localhost:8080/"
        },
        "id": "LxIYidH_mH1p",
        "outputId": "f9042ef1-b2d9-46cd-9d5c-d5dc539e83f5"
      },
      "id": "LxIYidH_mH1p",
      "execution_count": 2,
      "outputs": [
        {
          "output_type": "stream",
          "name": "stdout",
          "text": [
            "/content/drive/MyDrive/didip_ss\n"
          ]
        }
      ]
    },
    {
      "cell_type": "code",
      "source": [
        "# Do git pull if you did not yet today\n",
        "!git pull"
      ],
      "metadata": {
        "colab": {
          "base_uri": "https://localhost:8080/"
        },
        "id": "Pcg0N7Rjmbbn",
        "outputId": "5affce04-4823-48e2-e195-2bbd9dd46585"
      },
      "id": "Pcg0N7Rjmbbn",
      "execution_count": 3,
      "outputs": [
        {
          "output_type": "stream",
          "name": "stdout",
          "text": [
            "Already up to date.\n"
          ]
        }
      ]
    },
    {
      "cell_type": "markdown",
      "id": "b9134155-9064-4973-8a0b-f02857ea2495",
      "metadata": {
        "id": "b9134155-9064-4973-8a0b-f02857ea2495"
      },
      "source": [
        "## 1.2 Reading and Handling File Objects\n",
        "\n",
        "The first step is reading in your corpus of texts, so that we can start manipulating them. The steps below will be easier to follow and execute correctly if you have ensured that your file names are formatted as such: ```author-name_text-title.txt```."
      ]
    },
    {
      "cell_type": "code",
      "execution_count": 4,
      "id": "07f5c8f2-785d-46c6-b162-9904ef3e1562",
      "metadata": {
        "scrolled": true,
        "colab": {
          "base_uri": "https://localhost:8080/"
        },
        "id": "07f5c8f2-785d-46c6-b162-9904ef3e1562",
        "outputId": "77358bed-a6b6-4587-c5ff-10b5ebf4d0d1"
      },
      "outputs": [
        {
          "output_type": "stream",
          "name": "stdout",
          "text": [
            "D04/corpus/train/Hildegardis-Bingensis_Liber-diuinorum-operum.txt\n",
            "D04/corpus/train/Joannes-Saresberiensis_Epistolae.txt\n",
            "D04/corpus/train/Petrus-Cellensis_Epistolae.txt\n"
          ]
        }
      ],
      "source": [
        "import glob\n",
        "import os\n",
        "\n",
        "current_directory = os.getcwd() # gets current directory\n",
        "folder_path = 'D04/corpus/train' # gets directory path to corpus folder containing .txt files\n",
        "\n",
        "for filename in glob.glob(folder_path + '/*'):\n",
        "    print(filename)"
      ]
    },
    {
      "cell_type": "markdown",
      "id": "1c6f147a-692b-4ddf-b0bd-41f9ae119c94",
      "metadata": {
        "id": "1c6f147a-692b-4ddf-b0bd-41f9ae119c94"
      },
      "source": [
        "Below is a rather large chunk of code in which a number of consecutive steps are introduced and combined.\n",
        "First, we declare empty list containers (```authors```, ```titles```, ```texts```), where we will store our metadata and data.\n",
        "We introduce our first stylometric parameter, the sample length (variable ```sample_len```)\n",
        "We then go over all files in the folder, and extract the data and metadata from the files, using the ```glob``` module.\n",
        "\n",
        "In the text itself, we use the ```re``` (RegEx Module in Python, which stands for regular expressions) which removes digits and punctuation from the text (if so desired). We also apply case folding (convert upper to lowercase).\n",
        "\n",
        "Once the data has been 'cleared' of all text items that are insignificant for stylistic analysis, we proceed by slicing up the data into discrete segments, or chunks of text."
      ]
    },
    {
      "cell_type": "code",
      "execution_count": 19,
      "id": "f84a7f20-b570-43ea-a9ca-479fed7e4ed6",
      "metadata": {
        "id": "f84a7f20-b570-43ea-a9ca-479fed7e4ed6",
        "colab": {
          "base_uri": "https://localhost:8080/"
        },
        "outputId": "4797e1c3-6c18-4d6f-d6c9-b9bdaedfad97"
      },
      "outputs": [
        {
          "output_type": "stream",
          "name": "stdout",
          "text": [
            "['Liber-diuinorum-operum_1', 'Liber-diuinorum-operum_2', 'Liber-diuinorum-operum_3', 'Liber-diuinorum-operum_4', 'Liber-diuinorum-operum_5', 'Liber-diuinorum-operum_6', 'Liber-diuinorum-operum_7', 'Liber-diuinorum-operum_8', 'Liber-diuinorum-operum_9', 'Liber-diuinorum-operum_10', 'Liber-diuinorum-operum_11', 'Liber-diuinorum-operum_12', 'Liber-diuinorum-operum_13', 'Liber-diuinorum-operum_14', 'Liber-diuinorum-operum_15', 'Liber-diuinorum-operum_16', 'Liber-diuinorum-operum_17', 'Liber-diuinorum-operum_18', 'Liber-diuinorum-operum_19', 'Liber-diuinorum-operum_20', 'Liber-diuinorum-operum_21', 'Liber-diuinorum-operum_22', 'Liber-diuinorum-operum_23', 'Liber-diuinorum-operum_24', 'Liber-diuinorum-operum_25', 'Liber-diuinorum-operum_26', 'Liber-diuinorum-operum_27', 'Liber-diuinorum-operum_28', 'Liber-diuinorum-operum_29', 'Liber-diuinorum-operum_30', 'Liber-diuinorum-operum_31', 'Liber-diuinorum-operum_32', 'Liber-diuinorum-operum_33', 'Liber-diuinorum-operum_34', 'Liber-diuinorum-operum_35', 'Liber-diuinorum-operum_36', 'Liber-diuinorum-operum_37', 'Liber-diuinorum-operum_38', 'Liber-diuinorum-operum_39', 'Liber-diuinorum-operum_40', 'Liber-diuinorum-operum_41', 'Liber-diuinorum-operum_42', 'Liber-diuinorum-operum_43', 'Liber-diuinorum-operum_44', 'Liber-diuinorum-operum_45', 'Liber-diuinorum-operum_46', 'Liber-diuinorum-operum_47', 'Liber-diuinorum-operum_48', 'Liber-diuinorum-operum_49', 'Liber-diuinorum-operum_50', 'Liber-diuinorum-operum_51', 'Liber-diuinorum-operum_52', 'Liber-diuinorum-operum_53', 'Liber-diuinorum-operum_54', 'Liber-diuinorum-operum_55', 'Liber-diuinorum-operum_56', 'Liber-diuinorum-operum_57', 'Liber-diuinorum-operum_58', 'Liber-diuinorum-operum_59', 'Liber-diuinorum-operum_60', 'Liber-diuinorum-operum_61', 'Liber-diuinorum-operum_62', 'Liber-diuinorum-operum_63', 'Liber-diuinorum-operum_64', 'Liber-diuinorum-operum_65', 'Liber-diuinorum-operum_66', 'Liber-diuinorum-operum_67', 'Liber-diuinorum-operum_68', 'Liber-diuinorum-operum_69', 'Liber-diuinorum-operum_70', 'Liber-diuinorum-operum_71', 'Liber-diuinorum-operum_72', 'Liber-diuinorum-operum_73', 'Liber-diuinorum-operum_74', 'Liber-diuinorum-operum_75', 'Liber-diuinorum-operum_76', 'Liber-diuinorum-operum_77', 'Liber-diuinorum-operum_78', 'Liber-diuinorum-operum_79', 'Liber-diuinorum-operum_80', 'Liber-diuinorum-operum_81', 'Liber-diuinorum-operum_82', 'Epistolae_1', 'Epistolae_2', 'Epistolae_3', 'Epistolae_4', 'Epistolae_5', 'Epistolae_6', 'Epistolae_7', 'Epistolae_8', 'Epistolae_9', 'Epistolae_10', 'Epistolae_11', 'Epistolae_12', 'Epistolae_13', 'Epistolae_14', 'Epistolae_15', 'Epistolae_16', 'Epistolae_17', 'Epistolae_18', 'Epistolae_19', 'Epistolae_20', 'Epistolae_21', 'Epistolae_22', 'Epistolae_23', 'Epistolae_24', 'Epistolae_25', 'Epistolae_26', 'Epistolae_27', 'Epistolae_28', 'Epistolae_29', 'Epistolae_30', 'Epistolae_31', 'Epistolae_32', 'Epistolae_33', 'Epistolae_34', 'Epistolae_35', 'Epistolae_36', 'Epistolae_37', 'Epistolae_38', 'Epistolae_39', 'Epistolae_40', 'Epistolae_41', 'Epistolae_42', 'Epistolae_43', 'Epistolae_44', 'Epistolae_45', 'Epistolae_46', 'Epistolae_47', 'Epistolae_48', 'Epistolae_49', 'Epistolae_50', 'Epistolae_51', 'Epistolae_52', 'Epistolae_53', 'Epistolae_54', 'Epistolae_55', 'Epistolae_56', 'Epistolae_57', 'Epistolae_58', 'Epistolae_59', 'Epistolae_60', 'Epistolae_61', 'Epistolae_62', 'Epistolae_63', 'Epistolae_64', 'Epistolae_65', 'Epistolae_66', 'Epistolae_67', 'Epistolae_68', 'Epistolae_69', 'Epistolae_70', 'Epistolae_71', 'Epistolae_72', 'Epistolae_73', 'Epistolae_74', 'Epistolae_75', 'Epistolae_76', 'Epistolae_77', 'Epistolae_78', 'Epistolae_79', 'Epistolae_80', 'Epistolae_81', 'Epistolae_82', 'Epistolae_83', 'Epistolae_84', 'Epistolae_85', 'Epistolae_86', 'Epistolae_87', 'Epistolae_88', 'Epistolae_89', 'Epistolae_90', 'Epistolae_91', 'Epistolae_92', 'Epistolae_93', 'Epistolae_94', 'Epistolae_95', 'Epistolae_96', 'Epistolae_97', 'Epistolae_98', 'Epistolae_99', 'Epistolae_100', 'Epistolae_101', 'Epistolae_1', 'Epistolae_2', 'Epistolae_3', 'Epistolae_4', 'Epistolae_5', 'Epistolae_6', 'Epistolae_7', 'Epistolae_8', 'Epistolae_9', 'Epistolae_10', 'Epistolae_11', 'Epistolae_12', 'Epistolae_13', 'Epistolae_14', 'Epistolae_15', 'Epistolae_16', 'Epistolae_17', 'Epistolae_18', 'Epistolae_19', 'Epistolae_20', 'Epistolae_21', 'Epistolae_22', 'Epistolae_23', 'Epistolae_24', 'Epistolae_25', 'Epistolae_26', 'Epistolae_27', 'Epistolae_28', 'Epistolae_29', 'Epistolae_30', 'Epistolae_31', 'Epistolae_32', 'Epistolae_33', 'Epistolae_34', 'Epistolae_35', 'Epistolae_36', 'Epistolae_37', 'Epistolae_38', 'Epistolae_39', 'Epistolae_40', 'Epistolae_41', 'Epistolae_42', 'Epistolae_43', 'Epistolae_44', 'Epistolae_45', 'Epistolae_46', 'Epistolae_47', 'Epistolae_48', 'Epistolae_49', 'Epistolae_50', 'Epistolae_51']\n"
          ]
        }
      ],
      "source": [
        "import re\n",
        "import glob\n",
        "from string import punctuation\n",
        "\n",
        "# Declare empty lists to fill up with our metadata and data\n",
        "authors, titles, texts = [], [], []\n",
        "\n",
        "# We declare some parameters — the 'settings' of our stylometric experiments\n",
        "sample_len = 1400 # word length of text segment\n",
        "\n",
        "# Function to clean and split text\n",
        "def clean_and_split_text(text, sample_len):\n",
        "    words = re.sub(r'[\\d%s]' % re.escape(punctuation), '', text.lower()).split()\n",
        "    return [words[i:i + sample_len] for i in range(0, len(words), sample_len)]\n",
        "\n",
        "# Open all file objects in folder and gather data\n",
        "for filename in glob.glob(folder_path + '/*'):\n",
        "    # Extract author and title from filename\n",
        "    author, title = filename.split('/')[-1].split('.')[0].split('_')[:2]\n",
        "\n",
        "    with open(filename, encoding='utf-8-sig') as file:\n",
        "        text = file.read().strip()\n",
        "        bulk = clean_and_split_text(text, sample_len)\n",
        "\n",
        "        for index, sample in enumerate(bulk):\n",
        "            if len(sample) == sample_len:\n",
        "                authors.append(author)\n",
        "                titles.append(f\"{title}_{index + 1}\")\n",
        "                texts.append(\" \".join(sample))\n",
        "\n",
        "print(titles)"
      ]
    },
    {
      "cell_type": "markdown",
      "id": "f3aa3261-e91a-453a-a06e-be82a3d08d9a",
      "metadata": {
        "id": "f3aa3261-e91a-453a-a06e-be82a3d08d9a"
      },
      "source": [
        "## 1.3 Sampling (Text Segmentation)\n",
        "\n",
        "Despite many permutations, sampling methods generally fall within one of these four categories: (a) discrete, (b) rolling, (c) random and (d) generative.\n",
        "\n",
        "* **Discrete** is as above. A longer text is sliced in discrete pieces according to a predefined fixed sample size, where the next sample picks up the trail where the previous one ended.\n",
        "* **Rolling**: makes use of a sliding window, it 'shingles' your text segments. Rolling segmentation samples the text in non-identical, partially overlapping windows instead of discrete chunks of text. It is generally considered to be a more sensitive way of linearly scanning the stylistic profile of a text, and registers how it changes from first to last word.\n",
        "* **Random**: sentences from a certain author’s entire oeuvre are randomly selected until a predefined sample length limit is reached (e.g. keep on randomly selecting until 1,000 words have been found) in order to come to an almost inexhaustible number of new, real-world representations of the author’s lexical distribution through new combinations.\n",
        "* **Generative**: closely related to random sampling, but takes the idea of inexhaustible representability of a stylistic profile one more step further. Text generation attempts to not only imitate the distribution by making use of extant text samples, but even expands a corpus by generating new text. Needless to say this is an interesting yet underexplored area of research for medieval texts. Some work has been done in this regard for Latin-writing late antique and medieval authors (Manjavacas et al. 2017).\n",
        "\n",
        "### 1.3.1 Rolling Sampling\n",
        "\n",
        "The block of code below allows you to apply a relatively easy form of sampling, that of **rolling sampling**. The `step_size`-variable specifies the number of words between the starting indices of consecutive samples. For example, if `step_size=100`, each sample starts 100 words after the previous sample. It determines the amount of overlap between consecutive samples."
      ]
    },
    {
      "cell_type": "code",
      "execution_count": 6,
      "id": "faf30c8a-7bf3-45cb-87fc-a920064a1c21",
      "metadata": {
        "colab": {
          "base_uri": "https://localhost:8080/"
        },
        "id": "faf30c8a-7bf3-45cb-87fc-a920064a1c21",
        "outputId": "836ff022-c1bf-49dd-83ea-243ed677fba4"
      },
      "outputs": [
        {
          "output_type": "stream",
          "name": "stdout",
          "text": [
            "['Hildegardis-Bingensis', 'Hildegardis-Bingensis', 'Hildegardis-Bingensis', 'Hildegardis-Bingensis', 'Hildegardis-Bingensis']\n",
            "['Liber-diuinorum-operum-0-1400', 'Liber-diuinorum-operum-200-1600', 'Liber-diuinorum-operum-400-1800', 'Liber-diuinorum-operum-600-2000', 'Liber-diuinorum-operum-800-2200']\n"
          ]
        }
      ],
      "source": [
        "import re\n",
        "import numpy as np\n",
        "from string import punctuation\n",
        "\n",
        "# Declare empty lists to fill up with our metadata and data\n",
        "authors = []\n",
        "titles = []\n",
        "texts = []\n",
        "\n",
        "sample_len = 1400 # word length of text segment\n",
        "step_size = 200 # step size\n",
        "\n",
        "for filename in glob.glob(folder_path + '/*'):\n",
        "    author, title = filename.split(\"/\")[-1].split(\".\")[0].split(\"_\")[:2]\n",
        "    with open(filename, 'r') as file:\n",
        "        text = file.read().lower()\n",
        "        text = re.sub('[%s]' % re.escape(punctuation), '', text)\n",
        "        text = re.sub('\\d+', '', text)\n",
        "        words = text.split()\n",
        "        steps = np.arange(0, len(words), step_size)\n",
        "        for each_begin in steps:\n",
        "            sample_range = range(each_begin, each_begin + sample_len)\n",
        "            sample = [words[index] for index in sample_range if index < len(words)]\n",
        "            if len(sample) == sample_len:\n",
        "                key = '{}-{}-{}'.format(title, str(each_begin), str(each_begin + sample_len))\n",
        "                authors.append(author)\n",
        "                titles.append(key)\n",
        "                texts.append(\" \".join(sample))\n",
        "\n",
        "print(authors[:5])\n",
        "print(titles[:5])"
      ]
    },
    {
      "cell_type": "markdown",
      "id": "44623a18-21a3-4155-aac6-453252f46ae3",
      "metadata": {
        "id": "44623a18-21a3-4155-aac6-453252f46ae3"
      },
      "source": [
        "### 1.3.2 Random sampling"
      ]
    },
    {
      "cell_type": "markdown",
      "id": "cbb10930-fc5e-4f9d-9a74-049b60a17abb",
      "metadata": {
        "id": "cbb10930-fc5e-4f9d-9a74-049b60a17abb"
      },
      "source": [
        "The code block below gives you a starting point to experiment with **random sampling**. The variable `word_limit` is virtually the same as the desired `sample_len` above: it indicates how many words you want to include in your sample. `n_samples` yields the desired number of random samples per author."
      ]
    },
    {
      "cell_type": "code",
      "execution_count": 20,
      "id": "dbeb2b44-d5dc-4aef-aeda-58c0bf27c21d",
      "metadata": {
        "id": "dbeb2b44-d5dc-4aef-aeda-58c0bf27c21d",
        "colab": {
          "base_uri": "https://localhost:8080/"
        },
        "outputId": "59d91ece-083c-422a-ac9b-19f5c59999be"
      },
      "outputs": [
        {
          "output_type": "stream",
          "name": "stdout",
          "text": [
            "['sample_1', 'sample_2', 'sample_3', 'sample_4', 'sample_5', 'sample_6', 'sample_7', 'sample_8', 'sample_9', 'sample_10', 'sample_1', 'sample_2', 'sample_3', 'sample_4', 'sample_5', 'sample_6', 'sample_7', 'sample_8', 'sample_9', 'sample_10', 'sample_1', 'sample_2', 'sample_3', 'sample_4', 'sample_5', 'sample_6', 'sample_7', 'sample_8', 'sample_9', 'sample_10']\n"
          ]
        }
      ],
      "source": [
        "import re\n",
        "import glob\n",
        "from string import punctuation\n",
        "import random\n",
        "\n",
        "# Upper word limit (or sample length)\n",
        "word_limit = 1400\n",
        "n_samples = 10 # number of desired randomly generated segments per author\n",
        "\n",
        "# Function that counts the number of words in a list of sentences\n",
        "def count_words(sentences):\n",
        "    return sum(len(sentence.split()) for sentence in sentences)\n",
        "\n",
        "# Function that samples sentences until the word limit is reached\n",
        "def sample_sentences(sentences, word_limit):\n",
        "    sampled_sentences = []\n",
        "    total_words = 0\n",
        "    remaining_sentences = sentences.copy()\n",
        "\n",
        "    while total_words < word_limit and remaining_sentences:\n",
        "        sentence = random.choice(remaining_sentences)\n",
        "        sentence_word_count = len(sentence.split())\n",
        "        if total_words + sentence_word_count <= word_limit:\n",
        "            sampled_sentences.append(sentence)\n",
        "            total_words += sentence_word_count\n",
        "        remaining_sentences.remove(sentence)\n",
        "\n",
        "    return sampled_sentences\n",
        "\n",
        "data = {}\n",
        "# Open all file objects in folder and gather data\n",
        "for filename in glob.glob(folder_path + '/*'):\n",
        "    # Extract author and title from filename\n",
        "    author, title = filename.split('/')[-1].split('.')[0].split('_')[:2]\n",
        "    data[author] = []\n",
        "    with open(filename, encoding='utf-8-sig') as file:\n",
        "        text = file.read().strip()\n",
        "        sentences = re.split(r'(?<!\\w\\.\\w.)(?<![A-Z][a-z]\\.)(?<=\\.|\\?)\\s', text)\n",
        "        for sentence in sentences:\n",
        "            data[author].append(sentence)\n",
        "\n",
        "# Store randomly sampled data for each author\n",
        "authors, titles, texts = [], [], []\n",
        "sampled_data = {}\n",
        "for author in data.keys():\n",
        "    sampled_data[author] = []\n",
        "for author, sentences in data.items():\n",
        "    for i in range(0, n_samples):\n",
        "        random_sample = sample_sentences(sentences, word_limit)\n",
        "        random_sample = ' '.join(random_sample)\n",
        "        title = 'sample_' + str(i+1) # indexes random samples\n",
        "        authors.append(author)\n",
        "        titles.append(title)\n",
        "        texts.append(random_sample)\n",
        "\n",
        "print(titles)"
      ]
    },
    {
      "cell_type": "markdown",
      "id": "b717dd5f-ec13-43f0-9847-2006f4d3f3d6",
      "metadata": {
        "id": "b717dd5f-ec13-43f0-9847-2006f4d3f3d6"
      },
      "source": [
        "## 1.4 Advanced NLP Annotation for Ancient and Medieval Languages (DO NOT USE IT IN COLAB!!! ALTERNATIVA BELOW (STANZA))\n",
        "**CLTK may have problems with dependencies and packages, see the alternative below**\n",
        "\n",
        "Depending on what your source language is, you may want to **standardize** (normalize), **stem**, **lemmatize**, **tag**, **parse** or **scan** your texts. Here CLTK (The Classical Language Toolkit) can provide ways in which one could accomplish this.\n",
        "\n",
        "### [The Classical Language Toolkit](https://docs.cltk.org/en/latest/index.html)\n",
        "\n",
        "The Classical Language Toolkit (CLTK) offers natural language processing (NLP) support for the languages of Ancient, Classical, and Medieval Eurasia. Greek, Latin, Akkadian, and the Germanic languages are currently most complete.\n",
        "To install CLTK, open your Terminal, and type:\n",
        "\n",
        "`$ pip install cltk`\n",
        "\n",
        "CLTK depends on libraries `Stanza NLP` (Stanford NLP Group's official Python NLP library), `fastText` (open-source, free, lightweight library that allows users to learn text representations and text classifiers), or external dictionaries of the language you are analyzing. The CLTK will offer to download these for you.\n",
        "\n",
        "Available languages in CLTK are:\n",
        "\n",
        "* Akkadian\n",
        "* Arabic\n",
        "* Aramaic\n",
        "* Classical Chinese\n",
        "* Coptic\n",
        "* Gothic\n",
        "* Greek\n",
        "* Hindi\n",
        "* Latin\n",
        "* Middle High German\n",
        "* English\n",
        "* French\n",
        "* Old Church Slavonic\n",
        "* Old Norse\n",
        "* Pali\n",
        "* Panjabi\n",
        "* Sanskrit\n",
        "\n",
        "When you call nlp on a text, `cltk` (similar to `spaCy`) first tokenizes the text to produce a doc object. The doc is then processed in several different steps – this is also referred to as the processing pipeline. The pipeline used by the trained pipelines typically include a tagger, a lemmatizer, a parser and an entity recognizer. Each pipeline component returns the processed doc, which is then passed on to the next component."
      ]
    },
    {
      "cell_type": "code",
      "execution_count": 21,
      "id": "9d33274d-6c77-4295-856a-76aa9f81b557",
      "metadata": {
        "id": "9d33274d-6c77-4295-856a-76aa9f81b557",
        "outputId": "afa0d543-e816-47bc-c09e-bfe23ce5f029",
        "colab": {
          "base_uri": "https://localhost:8080/",
          "height": 387
        }
      },
      "outputs": [
        {
          "output_type": "error",
          "ename": "ModuleNotFoundError",
          "evalue": "No module named 'cltk'",
          "traceback": [
            "\u001b[0;31m---------------------------------------------------------------------------\u001b[0m",
            "\u001b[0;31mModuleNotFoundError\u001b[0m                       Traceback (most recent call last)",
            "\u001b[0;32m<ipython-input-21-982af8ed120f>\u001b[0m in \u001b[0;36m<cell line: 1>\u001b[0;34m()\u001b[0m\n\u001b[0;32m----> 1\u001b[0;31m \u001b[0;32mfrom\u001b[0m \u001b[0mcltk\u001b[0m \u001b[0;32mimport\u001b[0m \u001b[0mNLP\u001b[0m\u001b[0;34m\u001b[0m\u001b[0;34m\u001b[0m\u001b[0m\n\u001b[0m\u001b[1;32m      2\u001b[0m \u001b[0;32mimport\u001b[0m \u001b[0mpickle\u001b[0m \u001b[0;31m# library to help save / serialize data obtained after costly performances\u001b[0m\u001b[0;34m\u001b[0m\u001b[0;34m\u001b[0m\u001b[0m\n\u001b[1;32m      3\u001b[0m \u001b[0;34m\u001b[0m\u001b[0m\n\u001b[1;32m      4\u001b[0m \u001b[0mcltk_nlp\u001b[0m \u001b[0;34m=\u001b[0m \u001b[0mNLP\u001b[0m\u001b[0;34m(\u001b[0m\u001b[0mlanguage\u001b[0m\u001b[0;34m=\u001b[0m\u001b[0;34m\"lat\"\u001b[0m\u001b[0;34m)\u001b[0m \u001b[0;31m# find the abbreviation to summon up the language of choice\u001b[0m\u001b[0;34m\u001b[0m\u001b[0;34m\u001b[0m\u001b[0m\n\u001b[1;32m      5\u001b[0m \u001b[0;31m# ‎𐤀 CLTK version '1.0.11'.\u001b[0m\u001b[0;34m\u001b[0m\u001b[0;34m\u001b[0m\u001b[0m\n",
            "\u001b[0;31mModuleNotFoundError\u001b[0m: No module named 'cltk'",
            "",
            "\u001b[0;31m---------------------------------------------------------------------------\u001b[0;32m\nNOTE: If your import is failing due to a missing package, you can\nmanually install dependencies using either !pip or !apt.\n\nTo view examples of installing some common dependencies, click the\n\"Open Examples\" button below.\n\u001b[0;31m---------------------------------------------------------------------------\u001b[0m\n"
          ],
          "errorDetails": {
            "actions": [
              {
                "action": "open_url",
                "actionText": "Open Examples",
                "url": "/notebooks/snippets/importing_libraries.ipynb"
              }
            ]
          }
        }
      ],
      "source": [
        "from cltk import NLP\n",
        "import pickle # library to help save / serialize data obtained after costly performances\n",
        "\n",
        "cltk_nlp = NLP(language=\"lat\") # find the abbreviation to summon up the language of choice\n",
        "# ‎𐤀 CLTK version '1.0.11'.\n",
        "# Pipeline for language 'Latin' (ISO: 'lat'): `LatinNormalizeProcess`, `LatinStanzaProcess`, `LatinEmbeddingsProcess`, `StopsProcess`, `LatinNERProcess`, `LatinLexiconProcess`.\n",
        "\n",
        "# Will ask you to download Stanza NLP library on which CLTK depends.\n",
        "# If it asks that, it is safe to download these in order to optimize performance.\n",
        "\n",
        "# Note that cltk_nlp.analyze() (i.e. tokenization, PoS-tagging, lemmatization, morphology, NER, syntax, etc.) can take some time\n",
        "cltk_docs = []\n",
        "for segment in texts[:1]:  # [:1] is a slicing operation where we only look at first segment of corpus\n",
        "    cltk_doc = cltk_nlp.analyze(text=segment) # returns variety of linguistic features and annotations\n",
        "    cltk_docs.append(cltk_doc)\n",
        "\n",
        "# Considering that tokenizing, lemmatizing, tagging, etc. your texts of choice can be a rather costly operation\n",
        "# to perform computationally (it takes quite a bit of time), it can be convenient to store your data in a serialized\n",
        "# data format (converted into a saved, reconstructable format) which can later be deserialized and called.\n",
        "with open(current_directory + '/output/cltk_docs.pkl', 'wb') as f:\n",
        "    pickle.dump(cltk_docs, f)"
      ]
    },
    {
      "cell_type": "code",
      "execution_count": 8,
      "id": "d164ea84-9d23-40af-8c4c-78cf66a0a2f6",
      "metadata": {
        "id": "d164ea84-9d23-40af-8c4c-78cf66a0a2f6",
        "outputId": "a9e6d896-4975-421f-ba93-4a5547d6d246",
        "colab": {
          "base_uri": "https://localhost:8080/",
          "height": 387
        }
      },
      "outputs": [
        {
          "output_type": "error",
          "ename": "ModuleNotFoundError",
          "evalue": "No module named 'cltk'",
          "traceback": [
            "\u001b[0;31m---------------------------------------------------------------------------\u001b[0m",
            "\u001b[0;31mModuleNotFoundError\u001b[0m                       Traceback (most recent call last)",
            "\u001b[0;32m<ipython-input-8-ce2bbae249ba>\u001b[0m in \u001b[0;36m<cell line: 1>\u001b[0;34m()\u001b[0m\n\u001b[0;32m----> 1\u001b[0;31m \u001b[0;32mfrom\u001b[0m \u001b[0mcltk\u001b[0m \u001b[0;32mimport\u001b[0m \u001b[0mNLP\u001b[0m\u001b[0;34m\u001b[0m\u001b[0;34m\u001b[0m\u001b[0m\n\u001b[0m\u001b[1;32m      2\u001b[0m \u001b[0;32mimport\u001b[0m \u001b[0mpickle\u001b[0m\u001b[0;34m\u001b[0m\u001b[0;34m\u001b[0m\u001b[0m\n\u001b[1;32m      3\u001b[0m \u001b[0;34m\u001b[0m\u001b[0m\n\u001b[1;32m      4\u001b[0m \u001b[0;31m# Load the data from the pickle file\u001b[0m\u001b[0;34m\u001b[0m\u001b[0;34m\u001b[0m\u001b[0m\n\u001b[1;32m      5\u001b[0m \u001b[0;32mwith\u001b[0m \u001b[0mopen\u001b[0m\u001b[0;34m(\u001b[0m\u001b[0mcurrent_directory\u001b[0m \u001b[0;34m+\u001b[0m \u001b[0;34m'/output/cltk_docs.pkl'\u001b[0m\u001b[0;34m,\u001b[0m \u001b[0;34m'rb'\u001b[0m\u001b[0;34m)\u001b[0m \u001b[0;32mas\u001b[0m \u001b[0mf\u001b[0m\u001b[0;34m:\u001b[0m\u001b[0;34m\u001b[0m\u001b[0;34m\u001b[0m\u001b[0m\n",
            "\u001b[0;31mModuleNotFoundError\u001b[0m: No module named 'cltk'",
            "",
            "\u001b[0;31m---------------------------------------------------------------------------\u001b[0;32m\nNOTE: If your import is failing due to a missing package, you can\nmanually install dependencies using either !pip or !apt.\n\nTo view examples of installing some common dependencies, click the\n\"Open Examples\" button below.\n\u001b[0;31m---------------------------------------------------------------------------\u001b[0m\n"
          ],
          "errorDetails": {
            "actions": [
              {
                "action": "open_url",
                "actionText": "Open Examples",
                "url": "/notebooks/snippets/importing_libraries.ipynb"
              }
            ]
          }
        }
      ],
      "source": [
        "from cltk import NLP\n",
        "import pickle\n",
        "\n",
        "# Load the data from the pickle file\n",
        "with open(current_directory + '/output/cltk_docs.pkl', 'rb') as f:\n",
        "    cltk_docs = pickle.load(f)\n",
        "\n",
        "# Print the loaded data\n",
        "for cltk_doc in cltk_docs: # extract annotations from the NLP doc object\n",
        "    tokens = cltk_doc.tokens\n",
        "    lemmata = cltk_doc.lemmata\n",
        "    pos_tags = cltk_doc.pos\n",
        "\n",
        "print(tokens[:5])\n",
        "print(lemmata[:5])\n",
        "print(pos_tags[:5])"
      ]
    },
    {
      "cell_type": "markdown",
      "source": [
        "## 1.4B Advanced NLP Annotation for Ancient and Medieval Languages (with Stanza) USE THIS!!!!"
      ],
      "metadata": {
        "id": "b0-Rvz9EnXQt"
      },
      "id": "b0-Rvz9EnXQt"
    },
    {
      "cell_type": "code",
      "source": [
        "!pip install stanza --quiet"
      ],
      "metadata": {
        "id": "ZuoMpb6rn61S",
        "colab": {
          "base_uri": "https://localhost:8080/"
        },
        "outputId": "8dad3f24-bdc3-41c8-e36e-86dcc92b6ee6"
      },
      "id": "ZuoMpb6rn61S",
      "execution_count": 9,
      "outputs": [
        {
          "output_type": "stream",
          "name": "stdout",
          "text": [
            "\u001b[2K     \u001b[90m━━━━━━━━━━━━━━━━━━━━━━━━━━━━━━━━━━━━━━━━\u001b[0m \u001b[32m990.1/990.1 kB\u001b[0m \u001b[31m7.3 MB/s\u001b[0m eta \u001b[36m0:00:00\u001b[0m\n",
            "\u001b[2K     \u001b[90m━━━━━━━━━━━━━━━━━━━━━━━━━━━━━━━━━━━━━━━━\u001b[0m \u001b[32m431.4/431.4 kB\u001b[0m \u001b[31m10.8 MB/s\u001b[0m eta \u001b[36m0:00:00\u001b[0m\n",
            "\u001b[2K     \u001b[90m━━━━━━━━━━━━━━━━━━━━━━━━━━━━━━━━━━━━━━━━\u001b[0m \u001b[32m21.3/21.3 MB\u001b[0m \u001b[31m43.2 MB/s\u001b[0m eta \u001b[36m0:00:00\u001b[0m\n",
            "\u001b[?25h"
          ]
        }
      ]
    },
    {
      "cell_type": "code",
      "source": [
        "import stanza\n",
        "import pickle\n",
        "\n",
        "# Download and initialize the Latin model\n",
        "stanza.download('la')\n",
        "nlp = stanza.Pipeline('la')\n",
        "\n",
        "# Download and initialize the Latin model\n",
        "stanza.download('la')\n",
        "nlp = stanza.Pipeline('la')\n",
        "\n",
        "# Assuming 'texts' is defined elsewhere\n",
        "stanza_docs = []\n",
        "for segment in texts[:1]:  # Process only the first segment\n",
        "    stanza_doc = nlp(segment)\n",
        "    stanza_docs.append(stanza_doc)\n",
        "\n",
        "# Define the path to save in Google Drive\n",
        "save_path = 'D04/output'\n",
        "\n",
        "# Create the directory if it doesn't exist\n",
        "os.makedirs(save_path, exist_ok=True)\n",
        "\n",
        "# Serialize the processed documents\n",
        "with open(os.path.join(save_path, 'stanza_docs.pkl'), 'wb') as f:\n",
        "    pickle.dump(stanza_docs, f)\n",
        "\n",
        "print(f\"Processed documents saved to {os.path.join(save_path, 'stanza_docs.pkl')}\")"
      ],
      "metadata": {
        "colab": {
          "base_uri": "https://localhost:8080/",
          "height": 1000,
          "referenced_widgets": [
            "c2bfb82e1c59481ea1646c0f82ac096f",
            "e57e59acce8e4c04aef2d645e2dd6077",
            "cce626e57b744ad984cce8cb9d62a2ca",
            "3e999a022b8848f2ab7bf7da1dd3038d",
            "77ae03f9815d4383a62607b7eefdbb35",
            "21bb6c5b0b9f41289b1563c79df09a2c",
            "5875229ec1464da597aa3b86c86359bf",
            "202aa3d080e645b98c801726362566ed",
            "900d690774eb4e22ab2e6f2dcfae6267",
            "1f5a68b0bd9948358107a7c189dd6aec",
            "8c583e3d637f4a48bf0efb2de025ca31",
            "ef2b86cb00eb403a9e602fbe352023dd",
            "67b780a6412543f294d2d389a8e6b8ac",
            "9af49dec33f5483c88d499f43eae9c23",
            "0bbc2add99e74045b93acebe99d80017",
            "5e1540bd02284a0c8651dc3b9a51ca50",
            "46fde5275c824432b850a5a639183adc",
            "324d4f09141447a6a3f633e0e5ce5822",
            "da6be69cf9ad4cd690d771cdcb8243fd",
            "216409d8abf3459e886327452588ad78",
            "acf4cba796b845328b5733678dbd008f",
            "9ee8d2b5d60f413b90c7a290a11ad42f",
            "0e975812e18744daafac184fa3932b31",
            "819221ef408547c8a06b2389cd5231be",
            "d3bb29fc662b4e87888047d66aab5fa4",
            "8b8db8f577e74a469ea2dd0138c76830",
            "d3ef8252be2a49b3a4363f59307c5f1e",
            "d34e819894bc4bbab05d9a75e51e1eb4",
            "b5dca0794a214ea8b5b4ab1c369871aa",
            "ef6609f881994344b42ebbf8da7e970e",
            "1cb53788e5014098afcd3fb77fb21793",
            "adc83133bd3f4edfbd8814e8c2b332b5",
            "aae0d3f7347042c689f165bcb9d02278",
            "311e5da884224565beb40bc61ba4c017",
            "e0dd361561554cc9b2f1d47f0f118bb8",
            "571b71d90bf545d28f222abd0d7b4b64",
            "fb760dc9f90140e59e0ee99e37495ce4",
            "e4dccd6ef958493598e588ca1dd152b1",
            "66214f57cdb44783a47e53bea88353a5",
            "a1a041b9721b4f5697883975fb4d48e2",
            "e1023522ce174a2ea8bdafe86219c4b1",
            "9fa4173f970d4001a1123bfe0bf564cf",
            "6b3a438b928a4d2a9e2fc174a8f05f8a",
            "41adda0ccd7e4c538c854ad8cd47e90d",
            "e3894cc293514c53a0a82a88931a6bea",
            "7e2f002438e44e52a45af7f638cd83bb",
            "3fae01f1c2d941eaba23d72601b2703e",
            "eac93cbc84e14f9da179889dffe1acfa",
            "97c743ba98bf4f06b8919d0aa01bf00f",
            "6d1a42768f364f738b170a177c84a42f",
            "f4bf64fea41c42f7bead13c559d3648b",
            "021fdd87a554474a84bcaa64b5f626e5",
            "424fbd42fe9d41bc980ed768d4ff2b52",
            "dbfe8ba7e33c4d919620e5e6014a1b0d",
            "3cfa106b88204b2bb5242bf1c3b3e70b"
          ]
        },
        "id": "3WvYX_U7n3-C",
        "outputId": "e449ac7f-36a2-4a42-b048-fe50a108fe89"
      },
      "id": "3WvYX_U7n3-C",
      "execution_count": 10,
      "outputs": [
        {
          "output_type": "display_data",
          "data": {
            "text/plain": [
              "Downloading https://raw.githubusercontent.com/stanfordnlp/stanza-resources/main/resources_1.8.0.json:   0%|   …"
            ],
            "application/vnd.jupyter.widget-view+json": {
              "version_major": 2,
              "version_minor": 0,
              "model_id": "c2bfb82e1c59481ea1646c0f82ac096f"
            }
          },
          "metadata": {}
        },
        {
          "output_type": "stream",
          "name": "stderr",
          "text": [
            "INFO:stanza:Downloaded file to /root/stanza_resources/resources.json\n",
            "INFO:stanza:Downloading default packages for language: la (Latin) ...\n"
          ]
        },
        {
          "output_type": "display_data",
          "data": {
            "text/plain": [
              "Downloading https://huggingface.co/stanfordnlp/stanza-la/resolve/v1.8.0/models/default.zip:   0%|          | 0…"
            ],
            "application/vnd.jupyter.widget-view+json": {
              "version_major": 2,
              "version_minor": 0,
              "model_id": "ef2b86cb00eb403a9e602fbe352023dd"
            }
          },
          "metadata": {}
        },
        {
          "output_type": "stream",
          "name": "stderr",
          "text": [
            "INFO:stanza:Downloaded file to /root/stanza_resources/la/default.zip\n",
            "INFO:stanza:Finished downloading models and saved to /root/stanza_resources\n",
            "INFO:stanza:Checking for updates to resources.json in case models have been updated.  Note: this behavior can be turned off with download_method=None or download_method=DownloadMethod.REUSE_RESOURCES\n"
          ]
        },
        {
          "output_type": "display_data",
          "data": {
            "text/plain": [
              "Downloading https://raw.githubusercontent.com/stanfordnlp/stanza-resources/main/resources_1.8.0.json:   0%|   …"
            ],
            "application/vnd.jupyter.widget-view+json": {
              "version_major": 2,
              "version_minor": 0,
              "model_id": "0e975812e18744daafac184fa3932b31"
            }
          },
          "metadata": {}
        },
        {
          "output_type": "stream",
          "name": "stderr",
          "text": [
            "INFO:stanza:Downloaded file to /root/stanza_resources/resources.json\n",
            "INFO:stanza:Loading these models for language: la (Latin):\n",
            "=============================\n",
            "| Processor | Package       |\n",
            "-----------------------------\n",
            "| tokenize  | ittb          |\n",
            "| pos       | ittb_nocharlm |\n",
            "| lemma     | ittb_nocharlm |\n",
            "| depparse  | ittb_nocharlm |\n",
            "=============================\n",
            "\n",
            "INFO:stanza:Using device: cpu\n",
            "INFO:stanza:Loading: tokenize\n",
            "INFO:stanza:Loading: pos\n",
            "INFO:stanza:Loading: lemma\n",
            "INFO:stanza:Loading: depparse\n",
            "INFO:stanza:Done loading processors!\n"
          ]
        },
        {
          "output_type": "display_data",
          "data": {
            "text/plain": [
              "Downloading https://raw.githubusercontent.com/stanfordnlp/stanza-resources/main/resources_1.8.0.json:   0%|   …"
            ],
            "application/vnd.jupyter.widget-view+json": {
              "version_major": 2,
              "version_minor": 0,
              "model_id": "311e5da884224565beb40bc61ba4c017"
            }
          },
          "metadata": {}
        },
        {
          "output_type": "stream",
          "name": "stderr",
          "text": [
            "INFO:stanza:Downloaded file to /root/stanza_resources/resources.json\n",
            "INFO:stanza:Downloading default packages for language: la (Latin) ...\n",
            "INFO:stanza:File exists: /root/stanza_resources/la/default.zip\n",
            "INFO:stanza:Finished downloading models and saved to /root/stanza_resources\n",
            "INFO:stanza:Checking for updates to resources.json in case models have been updated.  Note: this behavior can be turned off with download_method=None or download_method=DownloadMethod.REUSE_RESOURCES\n"
          ]
        },
        {
          "output_type": "display_data",
          "data": {
            "text/plain": [
              "Downloading https://raw.githubusercontent.com/stanfordnlp/stanza-resources/main/resources_1.8.0.json:   0%|   …"
            ],
            "application/vnd.jupyter.widget-view+json": {
              "version_major": 2,
              "version_minor": 0,
              "model_id": "e3894cc293514c53a0a82a88931a6bea"
            }
          },
          "metadata": {}
        },
        {
          "output_type": "stream",
          "name": "stderr",
          "text": [
            "INFO:stanza:Downloaded file to /root/stanza_resources/resources.json\n",
            "INFO:stanza:Loading these models for language: la (Latin):\n",
            "=============================\n",
            "| Processor | Package       |\n",
            "-----------------------------\n",
            "| tokenize  | ittb          |\n",
            "| pos       | ittb_nocharlm |\n",
            "| lemma     | ittb_nocharlm |\n",
            "| depparse  | ittb_nocharlm |\n",
            "=============================\n",
            "\n",
            "INFO:stanza:Using device: cpu\n",
            "INFO:stanza:Loading: tokenize\n",
            "INFO:stanza:Loading: pos\n",
            "INFO:stanza:Loading: lemma\n",
            "INFO:stanza:Loading: depparse\n",
            "INFO:stanza:Done loading processors!\n"
          ]
        },
        {
          "output_type": "stream",
          "name": "stdout",
          "text": [
            "Processed documents saved to D04/output/stanza_docs.pkl\n"
          ]
        }
      ]
    },
    {
      "cell_type": "code",
      "source": [
        "import stanza\n",
        "import pickle\n",
        "\n",
        "# Load the data from the pickle file\n",
        "with open('D04/output/stanza_docs.pkl', 'rb') as f:\n",
        "    stanza_docs = pickle.load(f)\n",
        "\n",
        "# Print the loaded data\n",
        "for stanza_doc in stanza_docs:\n",
        "    tokens = [word.text for sent in stanza_doc.sentences for word in sent.words]\n",
        "    lemmata = [word.lemma for sent in stanza_doc.sentences for word in sent.words]\n",
        "    pos_tags = [word.upos for sent in stanza_doc.sentences for word in sent.words]\n",
        "\n",
        "    print(tokens[:5])\n",
        "    print(lemmata[:5])\n",
        "    print(pos_tags[:5])"
      ],
      "metadata": {
        "colab": {
          "base_uri": "https://localhost:8080/"
        },
        "id": "8oPxRgw81N-5",
        "outputId": "8ced9ee3-93b4-4c14-9012-d2d6453b52ae"
      },
      "id": "8oPxRgw81N-5",
      "execution_count": 26,
      "outputs": [
        {
          "output_type": "stream",
          "name": "stdout",
          "text": [
            "['Sed', 'quasi', 'in', 'medio', 'eiusdem']\n",
            "['sed', 'quasi', 'in', 'medius', 'idem']\n",
            "['CCONJ', 'ADV', 'ADP', 'ADJ', 'DET']\n"
          ]
        }
      ]
    },
    {
      "cell_type": "markdown",
      "id": "2c3bffe5-1319-4080-9ec2-07781164a49d",
      "metadata": {
        "id": "2c3bffe5-1319-4080-9ec2-07781164a49d"
      },
      "source": [
        "## 1.5 Semantic Features: Word Embeddings\n",
        "\n",
        "A distinct and somewhat more advanced field is that of **semantic word embeddings**, which focus on features that encapsulate 'semantic' information. Here, we cannot but address a few principles that —at this point— may be not entirely clear yet, but will, at a later stage in notebook 4, become much clearer.\n",
        "\n",
        "The least technical way to explain embeddings, its fundamental premise, in other words, is that the meaning of a word can be inferred from the contexts in which it occurs: **you can understand a word by the company it keeps**.\n",
        "\n",
        "### 1.5.1 Base Principles of Word Embeddings\n",
        "\n",
        "An ‘embedding’ is simply an alternative naming for ‘vector representation of a word’, i.e. a word represented in ‘some vector space’. In other words, word embeddings work as **vector representations** (which we wil learn more about in the next notebook).\n",
        "\n",
        "A word embedding typically starts out by representing a word as a so-called **one-hot vector**:\n",
        "\n",
        "`sparse = [0, 0, 1, 0, ... , n]`  \n",
        "Where *n* signifies number of encountered words in the corpus. The column where `1` occurs, is what identifies the word within the vocabulary.\n",
        "\n",
        "In a vocabulary containing 3 words, one-hot vectors would look like this:\n",
        "\n",
        "| the      | quick |  brown |\n",
        "| ----------- | ----------- | -----------|\n",
        "| 1 | 0 | 0 |\n",
        "| 0 | 1 | 0  |\n",
        "| 0 | 0 | 1 |\n",
        "\n",
        "One-hot vectors are so-called **sparse** representations, i.e. containing `0`'s except a single `1`. The length of the vector equals the total vocabulary size. Word embedding models at first turn these sparse representations into dense ones. In so doing, they are virtually 2-layer **neural networks**.  \n",
        "At first, the word gains a random dense representation of a fixed, lower dimensionality (e.g. vector length of 3, such as here):\n",
        "\n",
        "`dense = [0.2, 0.1, 0.4]`  \n",
        "Where *n* is 3.\n",
        "\n",
        "Consequently, through training, these dense representations are 'transformed' in order to better represent the word by its context. The idea is that **words with similar meanings will have similar vector representations**. To accomplish this, the model minimizes a loss function (minimizes its prediction error), where vectors of those words frequently appearing in similar contexts end up having similar vectors.\n",
        "\n",
        "The model trains itself to look at a target word's 'context window' (either larger of smaller values that indicate the *k* neighbours to take into account) and in iteratively adjusting the embedding matrix, keeps track of significant word relationships.\n",
        "\n",
        "#### Example Sentence:\n",
        "\"The quick brown fox jumps over the lazy dog\"\n",
        "\n",
        "#### Context Window Size: 2\n",
        "\n",
        "| Target Word | Context Words             |\n",
        "|-------------|----------------------------|\n",
        "| The         | quick, brown               |\n",
        "| quick       | The, brown, fox            |\n",
        "| brown       | The, quick, fox, jumps     |\n",
        "| fox         | quick, brown, jumps, over  |\n",
        "| jumps       | brown, fox, over, the      |\n",
        "| over        | fox, jumps, the, lazy      |\n",
        "| the         | jumps, over, lazy, dog     |\n",
        "| lazy        | over, the, dog             |\n",
        "| dog         | the, lazy                  |\n",
        "\n"
      ]
    },
    {
      "cell_type": "markdown",
      "id": "9c4b807a-a685-4265-848f-0162c2382f61",
      "metadata": {
        "id": "9c4b807a-a685-4265-848f-0162c2382f61"
      },
      "source": [
        "### 1.5.2 Training and Pre-Trained Embeddings\n",
        "\n",
        "Word embeddings can be trained on our own given corpus of texts by using packages like `Gensim`, a free open source Python library. This can be quite useful and informative to get a hang of how this algorithm works. However, in order to save time, make your findings more replicable, and guarantee higher quality, we can also use **pre-trained embeddings**.\n",
        "\n",
        "Word representation methods such as `word2vec`and `FastText` (developed by Facebook) can be used in Python to load already **pre-trained embeddings**, or to declare a new model to train on your own data. These models are trained on Wikipedia and Common Crawl data. You will need to have the FastText library installed to work with FastText models, especially if you need to load models that are in FastText's binary format. Gensim can interface with FastText models, but having the FastText library installed ensures compatibility and provides additional functionalities.\n",
        "\n",
        "For Latin, it is possible to **download and compress** the files by typing the below.\n",
        "**Be careful, this will take some time to download.**"
      ]
    },
    {
      "cell_type": "markdown",
      "source": [
        "Once you have downloaded the file containing the pre-trained vectors, you can can load an embeddings-model using the Python lines given below. Note that it may be the case that you will have to specify the full path name when loading the model with the line ft = fasttext.load_model('')."
      ],
      "metadata": {
        "id": "nYKN35j51VuN"
      },
      "id": "nYKN35j51VuN"
    },
    {
      "cell_type": "code",
      "source": [
        "!pip install fasttext --quiet"
      ],
      "metadata": {
        "id": "b5J4LVxtrjet",
        "colab": {
          "base_uri": "https://localhost:8080/"
        },
        "outputId": "bf8fb5e3-60ce-4c97-e15c-3510b409fed7"
      },
      "id": "b5J4LVxtrjet",
      "execution_count": 12,
      "outputs": [
        {
          "output_type": "stream",
          "name": "stdout",
          "text": [
            "\u001b[?25l     \u001b[90m━━━━━━━━━━━━━━━━━━━━━━━━━━━━━━━━━━━━━━━━\u001b[0m \u001b[32m0.0/73.4 kB\u001b[0m \u001b[31m?\u001b[0m eta \u001b[36m-:--:--\u001b[0m\r\u001b[2K     \u001b[90m━━━━━━━━━━━━━━━━━━━━━━━━━━━━━━━━━━━━━━━━\u001b[0m \u001b[32m73.4/73.4 kB\u001b[0m \u001b[31m2.5 MB/s\u001b[0m eta \u001b[36m0:00:00\u001b[0m\n",
            "\u001b[?25h  Installing build dependencies ... \u001b[?25l\u001b[?25hdone\n",
            "  Getting requirements to build wheel ... \u001b[?25l\u001b[?25hdone\n",
            "  Preparing metadata (pyproject.toml) ... \u001b[?25l\u001b[?25hdone\n",
            "  Building wheel for fasttext (pyproject.toml) ... \u001b[?25l\u001b[?25hdone\n"
          ]
        }
      ]
    },
    {
      "cell_type": "code",
      "source": [
        "# Install urllib, it helps to download fasttext packages\n",
        "!pip install urllib3 --quiet"
      ],
      "metadata": {
        "id": "qO0xEFDUso9G"
      },
      "id": "qO0xEFDUso9G",
      "execution_count": 13,
      "outputs": []
    },
    {
      "cell_type": "code",
      "execution_count": 14,
      "id": "cccd8ed5-c5e7-411b-b9cd-c5c9d75a151c",
      "metadata": {
        "scrolled": true,
        "colab": {
          "base_uri": "https://localhost:8080/"
        },
        "id": "cccd8ed5-c5e7-411b-b9cd-c5c9d75a151c",
        "outputId": "aea293f5-a5d1-425b-b501-31a9e2cbe6ad"
      },
      "outputs": [
        {
          "output_type": "stream",
          "name": "stdout",
          "text": [
            "Downloading FastText Latin model...\n",
            "Extracting the model...\n",
            "Model downloaded and extracted successfully.\n",
            "Loading the model...\n",
            "Model loaded successfully.\n"
          ]
        }
      ],
      "source": [
        "# Be careful the model is 4,85 GB!\n",
        "import urllib.request\n",
        "import fasttext.util\n",
        "import os\n",
        "\n",
        "# Set the path where you want to save the model in your Google Drive\n",
        "model_path = 'D04/cc.la.300.bin'\n",
        "\n",
        "# Check if the model already exists\n",
        "if not os.path.exists(model_path):\n",
        "    # Create the directory if it doesn't exist\n",
        "    os.makedirs(os.path.dirname(model_path), exist_ok=True)\n",
        "\n",
        "    # URL of the Latin FastText model\n",
        "    model_url = 'https://dl.fbaipublicfiles.com/fasttext/vectors-crawl/cc.la.300.bin.gz'\n",
        "\n",
        "    print(\"Downloading FastText Latin model...\")\n",
        "    # Download the compressed model\n",
        "    urllib.request.urlretrieve(model_url, model_path + '.gz')\n",
        "\n",
        "    print(\"Extracting the model...\")\n",
        "    # Extract the downloaded file\n",
        "    os.system(f'gunzip -f {model_path}.gz')\n",
        "\n",
        "    print(\"Model downloaded and extracted successfully.\")\n",
        "else:\n",
        "    print(\"Model already exists. Skipping download.\")\n",
        "\n",
        "# Load the model\n",
        "print(\"Loading the model...\")\n",
        "ft = fasttext.load_model(model_path)\n",
        "\n",
        "print(\"Model loaded successfully.\")"
      ]
    },
    {
      "cell_type": "code",
      "source": [],
      "metadata": {
        "id": "HZfJ7Zji1CNr"
      },
      "id": "HZfJ7Zji1CNr",
      "execution_count": null,
      "outputs": []
    },
    {
      "cell_type": "markdown",
      "id": "3fbbde9a-f390-4a7f-aa30-a3ff50aa3239",
      "metadata": {
        "id": "3fbbde9a-f390-4a7f-aa30-a3ff50aa3239"
      },
      "source": [
        "When you run the block of code below, you will print the full vector representation (in 300 dimensions) of the word 'abbas'. Feel free to try out a few other Latin words.\n",
        "\n",
        "When training a word-embeddings model, the **dimensionality** of the vector space can in fact be chosen. Commonly used dimensions in research are 100, 200, and 300 (such as here). These provide a good starting point. Best practice has it that you train models with different vector sizes (e.g., 50, 100, 200, 300). Consequently, you evaluate the performance of these models on your specific task (e.g., word similarity, text classification, etc. — see notebook 4). The corpus size and language complexity can also be significant factors in deciding on dimensionality. \tThe ‘attributes’ (i.e. features, each dimension of the matrix that constitutes a ‘king’ to being a ‘king’) are not explicit or determinable. They are weighted / calculated by the algorithm through relations with other words\n"
      ]
    },
    {
      "cell_type": "code",
      "execution_count": 15,
      "id": "13b034ac-458c-48c6-96a1-d3d22ea07254",
      "metadata": {
        "colab": {
          "base_uri": "https://localhost:8080/"
        },
        "id": "13b034ac-458c-48c6-96a1-d3d22ea07254",
        "outputId": "ff27aa8c-f94c-4cba-ea38-bd9bf5f6014a"
      },
      "outputs": [
        {
          "output_type": "stream",
          "name": "stdout",
          "text": [
            "Continuous vector representation for abbatissa:\n",
            "[ 0.06 -0.04 -0.    0.05 -0.11 -0.01 -0.01 -0.05 -0.02  0.02  0.02  0.01\n",
            "  0.02 -0.02  0.    0.03  0.04  0.01 -0.    0.    0.01 -0.03 -0.01 -0.04\n",
            " -0.01 -0.02 -0.09 -0.01 -0.01 -0.06  0.   -0.03  0.04 -0.01  0.04  0.02\n",
            " -0.02  0.01  0.01  0.02 -0.02 -0.11  0.03  0.    0.    0.08 -0.03 -0.02\n",
            " -0.04 -0.01  0.01 -0.03  0.05 -0.02  0.03  0.02 -0.04  0.03 -0.03  0.02\n",
            "  0.02 -0.01 -0.01  0.06  0.01 -0.04  0.02 -0.02 -0.01 -0.03  0.03 -0.02\n",
            "  0.01 -0.03  0.02 -0.02  0.05 -0.08 -0.03  0.04 -0.01 -0.05 -0.    0.08\n",
            "  0.04  0.02 -0.05  0.02  0.    0.03 -0.01  0.02 -0.04  0.03  0.02 -0.03\n",
            "  0.   -0.05  0.07 -0.01 -0.04 -0.01  0.01  0.01  0.06  0.03  0.01 -0.04\n",
            " -0.02  0.02 -0.01  0.03  0.02  0.04  0.04 -0.    0.05 -0.02 -0.01 -0.01\n",
            " -0.03 -0.03 -0.05 -0.02  0.04  0.05 -0.01 -0.04  0.03 -0.03  0.03 -0.03\n",
            " -0.07 -0.01 -0.01  0.03  0.04  0.06 -0.05 -0.03  0.04  0.01  0.    0.01\n",
            " -0.03  0.04 -0.04 -0.02 -0.06 -0.02  0.02 -0.02 -0.01 -0.    0.03  0.02\n",
            " -0.04 -0.03 -0.01  0.01  0.02 -0.    0.    0.04 -0.03  0.07  0.01  0.01\n",
            " -0.03  0.01  0.02  0.03  0.04  0.01  0.03 -0.02 -0.05  0.03  0.02  0.06\n",
            "  0.    0.03  0.03  0.03  0.06  0.04  0.    0.01 -0.01 -0.02  0.01  0.01\n",
            "  0.01  0.02 -0.01  0.01  0.01  0.08  0.04  0.03 -0.01  0.1   0.03  0.02\n",
            " -0.03  0.03  0.03  0.04  0.03  0.01  0.06 -0.04 -0.   -0.01  0.02 -0.05\n",
            " -0.02 -0.02  0.01 -0.04 -0.01  0.05 -0.03  0.02 -0.03 -0.02 -0.    0.03\n",
            "  0.05 -0.02 -0.02 -0.13  0.04 -0.02  0.   -0.03 -0.01 -0.07  0.04  0.02\n",
            " -0.04 -0.02 -0.01 -0.06 -0.02 -0.   -0.04  0.05  0.03 -0.08  0.02  0.01\n",
            "  0.01  0.01  0.    0.03  0.03 -0.02  0.03  0.   -0.01  0.01  0.    0.\n",
            "  0.03  0.02 -0.04 -0.01  0.01  0.01  0.01  0.01 -0.02  0.01 -0.02 -0.04\n",
            " -0.05 -0.01 -0.08  0.06 -0.02 -0.03 -0.01 -0.02 -0.02  0.02 -0.02 -0.02\n",
            " -0.04 -0.01  0.05 -0.04 -0.01 -0.01 -0.01 -0.08  0.02  0.01  0.03  0.  ]\n",
            "Dimension of word vector for 'abbatissa':\n"
          ]
        },
        {
          "output_type": "execute_result",
          "data": {
            "text/plain": [
              "(300,)"
            ]
          },
          "metadata": {},
          "execution_count": 15
        }
      ],
      "source": [
        "import numpy as np\n",
        "np.set_printoptions(suppress=True, precision=2) # suppresses scientific notation\n",
        "\n",
        "print(\"Continuous vector representation for abbatissa:\")\n",
        "print(ft.get_word_vector('abbatissa'))\n",
        "print(\"Dimension of word vector for 'abbatissa':\")\n",
        "ft.get_word_vector('abbatissa').shape"
      ]
    },
    {
      "cell_type": "markdown",
      "id": "a2ee0e06-ed11-4a64-8777-2335067737cf",
      "metadata": {
        "id": "a2ee0e06-ed11-4a64-8777-2335067737cf"
      },
      "source": [
        "Consequently, by launching `ft.get_nearest_neighbors` you can look at the *k* words that are most similar to the input word. These similarities are not always easily explained in one sense. Sometimes they are clearly semantic, but you will also notice by looking at the list of nearest neighbors that embeddings pick up on some orthographical or morphological variations of the word, or even to words that look like or sound like the word in question."
      ]
    },
    {
      "cell_type": "code",
      "execution_count": 16,
      "id": "8b1a4d55-a03b-44e6-a124-3ba50a3798f6",
      "metadata": {
        "colab": {
          "base_uri": "https://localhost:8080/"
        },
        "id": "8b1a4d55-a03b-44e6-a124-3ba50a3798f6",
        "outputId": "8eed3a75-b74c-4301-ab7c-9623fcb9192d"
      },
      "outputs": [
        {
          "output_type": "stream",
          "name": "stdout",
          "text": [
            "[(0.8354274034500122, 'abbatissas'), (0.8308930993080139, 'abbatissae'), (0.7990221381187439, 'abbatissam'), (0.7571409344673157, 'Abbatissa'), (0.7449652552604675, 'abatissa'), (0.7117032408714294, 'abbatiace'), (0.693352460861206, 'abbati'), (0.6908366084098816, 'Abatissa'), (0.664496660232544, 'abbatiis'), (0.6616677641868591, 'abbatio')]\n"
          ]
        }
      ],
      "source": [
        "similar_words = ft.get_nearest_neighbors('abbatissa', k=10) # k indicates number of neighbors\n",
        "print(similar_words)"
      ]
    },
    {
      "cell_type": "code",
      "execution_count": 17,
      "id": "0c69ae56-c8af-49ff-9547-48503248ba09",
      "metadata": {
        "id": "0c69ae56-c8af-49ff-9547-48503248ba09"
      },
      "outputs": [],
      "source": [
        "import numpy as np\n",
        "\n",
        "words_of_interest = ['herba', 'planta', 'folia', 'flores', 'radix', 'fructus', 'semen', 'herbarium', 'species', 'genus', 'familia', 'habitat', 'cultivar', 'virtus', 'usus', 'dosage', 'infusio', 'decoctio', 'extractum', 'tinctura', 'deus', 'trinitas', 'incarnatio', 'salvatio', 'redemptio', 'fides', 'gratia', 'peccatum', 'caritas', 'ecclesia', 'sacramentum', 'veritas', 'revelatio', 'sanctus', 'mysterium', 'divinitas', 'humanitas', 'oratio', 'aeternitas', 'regnum dei']\n",
        "embeddings = []\n",
        "for word in words_of_interest:\n",
        "    embedding = ft.get_word_vector(word)\n",
        "    embeddings.append(embedding)\n",
        "embeddings = np.array(embeddings)"
      ]
    },
    {
      "cell_type": "code",
      "execution_count": 18,
      "id": "793002e3-5a75-4f26-9c41-25c921d635cc",
      "metadata": {
        "colab": {
          "base_uri": "https://localhost:8080/",
          "height": 1000
        },
        "id": "793002e3-5a75-4f26-9c41-25c921d635cc",
        "outputId": "f7d5f7ef-be64-4ff2-ce17-d081f738632f"
      },
      "outputs": [
        {
          "output_type": "stream",
          "name": "stdout",
          "text": [
            "0.396888 0.31081942 -0.3417012\n",
            "0.32206753 0.19227365 -0.0920998\n",
            "0.84682333 0.3253096 0.40375838\n",
            "0.40828997 0.20305559 0.2779002\n",
            "0.1732524 -0.023963613 -0.39988753\n",
            "0.18169792 0.16018075 0.10951237\n",
            "0.0688445 0.17496608 -0.14391063\n",
            "0.09372171 0.0052899965 -0.03772606\n",
            "0.07027896 -0.01671708 -0.10112777\n",
            "-0.111032076 0.071208864 0.01863628\n",
            "0.030827023 -0.080683865 -0.12513058\n",
            "-0.114062354 -0.0620166 -0.19004698\n",
            "0.047268678 -0.04788297 -0.07857601\n",
            "-0.15351953 0.042111434 0.061445728\n",
            "-0.05407132 0.012873034 0.17858122\n",
            "-0.014623951 -0.11615946 -0.07191837\n",
            "0.056757197 0.010007004 -0.01305938\n",
            "0.023610255 -0.07083726 -0.029698195\n",
            "0.054475855 -0.07982 -0.12830201\n",
            "0.08742345 0.0071892813 -0.07655134\n",
            "-0.7238408 1.0080885 0.0055379565\n",
            "-0.14221174 -0.04199028 0.02568142\n",
            "-0.08427004 -0.09845447 -0.016335197\n",
            "-0.13310811 -0.08712676 0.005526676\n",
            "-0.024853475 -0.14205627 0.024293968\n",
            "-0.26040035 -0.13785948 0.7290818\n",
            "-0.014207463 -0.09348763 0.006226603\n",
            "-0.10111886 -0.07480779 0.00039677828\n",
            "-0.15509266 -0.15679197 0.015524968\n",
            "0.011800871 -0.10591633 -0.0046997988\n",
            "-0.00564776 -0.115867645 -0.038444042\n",
            "-0.12406944 -0.16479783 0.036521133\n",
            "-0.081932425 -0.16155075 0.021460988\n",
            "-0.11545861 -0.008027816 -0.07044335\n",
            "-0.11382101 -0.09468167 0.046450846\n",
            "-0.15921172 -0.039788466 -0.015254854\n",
            "-0.0716102 -0.08259396 0.025577296\n",
            "0.0035398193 -0.23997937 0.06251599\n",
            "-0.09730865 -0.091921866 -0.022302505\n",
            "-0.022095313 -0.08759191 -0.057414882\n"
          ]
        },
        {
          "output_type": "display_data",
          "data": {
            "text/plain": [
              "<Figure size 640x480 with 1 Axes>"
            ],
            "image/png": "[encoded data removed]"
          },
          "metadata": {}
        }
      ],
      "source": [
        "from datetime import datetime\n",
        "from sklearn.decomposition import PCA\n",
        "from sklearn.preprocessing import Normalizer, StandardScaler, FunctionTransformer, MinMaxScaler\n",
        "import matplotlib.colors as mcolors\n",
        "import matplotlib.pyplot as plt\n",
        "import random\n",
        "import os\n",
        "\n",
        "pca = PCA(n_components=3)\n",
        "\n",
        "X_bar = pca.fit_transform(embeddings) # dimensionality reduction\n",
        "\n",
        "# Extract the explained variance\n",
        "var_exp = pca.explained_variance_ratio_\n",
        "var_pc1 = np.round(var_exp[0]*100, decimals=2)\n",
        "var_pc2 = np.round(var_exp[1]*100, decimals=2)\n",
        "var_pc3 = np.round(var_exp[2]*100, decimals=2)\n",
        "explained_variance = np.round(sum(pca.explained_variance_ratio_)*100, decimals=2)\n",
        "\n",
        "# Make scatterplot\n",
        "\n",
        "fig = plt.figure()\n",
        "ax = fig.add_subplot(111, projection='3d')\n",
        "\n",
        "x1, x2, x3 = X_bar[:,0], X_bar[:,1], X_bar[:,2]\n",
        "\n",
        "for p1, p2, p3, word in zip(x1, x2, x3, words_of_interest):\n",
        "    print(p1, p2, p3)\n",
        "    ax.scatter(p1, p2, p3, color='k',s=3)\n",
        "    ax.text(p1, p2, p3, s=word, fontdict={'size': 4})\n",
        "\n",
        "ax.set_xlabel('PC 1: {}%'.format(var_pc1))\n",
        "ax.set_ylabel('PC 2: {}%'.format(var_pc2))\n",
        "ax.set_zlabel('PC 3: {}%'.format(var_pc3))\n",
        "\n",
        "plt.show()\n",
        "\n",
        "current_directory = os.getcwd() # gets current directory\n",
        "# Get the current time\n",
        "current_time = datetime.now()\n",
        "# Format the current time as a string\n",
        "formatted_time = current_time.strftime(\"date %d-%m at %Hh%Mm\")\n",
        "fig.savefig('D04/output/embeddings-3D-{}.png'.format(current_time), dpi=300, transparent=True, format='png')"
      ]
    }
  ],
  "metadata": {
    "kernelspec": {
      "display_name": "Python 3",
      "name": "python3"
    },
    "language_info": {
      "codemirror_mode": {
        "name": "ipython",
        "version": 3
      },
      "file_extension": ".py",
      "mimetype": "text/x-python",
      "name": "python",
      "nbconvert_exporter": "python",
      "pygments_lexer": "ipython3",
      "version": "3.11.7"
    },
    "colab": {
      "provenance": [],
      "gpuType": "T4"
    },
    "accelerator": "GPU",
    "widgets": {
      "application/vnd.jupyter.widget-state+json": {
        "c2bfb82e1c59481ea1646c0f82ac096f": {
          "model_module": "@jupyter-widgets/controls",
          "model_name": "HBoxModel",
          "model_module_version": "1.5.0",
          "state": {
            "_dom_classes": [],
            "_model_module": "@jupyter-widgets/controls",
            "_model_module_version": "1.5.0",
            "_model_name": "HBoxModel",
            "_view_count": null,
            "_view_module": "@jupyter-widgets/controls",
            "_view_module_version": "1.5.0",
            "_view_name": "HBoxView",
            "box_style": "",
            "children": [
              "IPY_MODEL_e57e59acce8e4c04aef2d645e2dd6077",
              "IPY_MODEL_cce626e57b744ad984cce8cb9d62a2ca",
              "IPY_MODEL_3e999a022b8848f2ab7bf7da1dd3038d"
            ],
            "layout": "IPY_MODEL_77ae03f9815d4383a62607b7eefdbb35"
          }
        },
        "e57e59acce8e4c04aef2d645e2dd6077": {
          "model_module": "@jupyter-widgets/controls",
          "model_name": "HTMLModel",
          "model_module_version": "1.5.0",
          "state": {
            "_dom_classes": [],
            "_model_module": "@jupyter-widgets/controls",
            "_model_module_version": "1.5.0",
            "_model_name": "HTMLModel",
            "_view_count": null,
            "_view_module": "@jupyter-widgets/controls",
            "_view_module_version": "1.5.0",
            "_view_name": "HTMLView",
            "description": "",
            "description_tooltip": null,
            "layout": "IPY_MODEL_21bb6c5b0b9f41289b1563c79df09a2c",
            "placeholder": "​",
            "style": "IPY_MODEL_5875229ec1464da597aa3b86c86359bf",
            "value": "Downloading https://raw.githubusercontent.com/stanfordnlp/stanza-resources/main/resources_1.8.0.json: "
          }
        },
        "cce626e57b744ad984cce8cb9d62a2ca": {
          "model_module": "@jupyter-widgets/controls",
          "model_name": "FloatProgressModel",
          "model_module_version": "1.5.0",
          "state": {
            "_dom_classes": [],
            "_model_module": "@jupyter-widgets/controls",
            "_model_module_version": "1.5.0",
            "_model_name": "FloatProgressModel",
            "_view_count": null,
            "_view_module": "@jupyter-widgets/controls",
            "_view_module_version": "1.5.0",
            "_view_name": "ProgressView",
            "bar_style": "success",
            "description": "",
            "description_tooltip": null,
            "layout": "IPY_MODEL_202aa3d080e645b98c801726362566ed",
            "max": 47693,
            "min": 0,
            "orientation": "horizontal",
            "style": "IPY_MODEL_900d690774eb4e22ab2e6f2dcfae6267",
            "value": 47693
          }
        },
        "3e999a022b8848f2ab7bf7da1dd3038d": {
          "model_module": "@jupyter-widgets/controls",
          "model_name": "HTMLModel",
          "model_module_version": "1.5.0",
          "state": {
            "_dom_classes": [],
            "_model_module": "@jupyter-widgets/controls",
            "_model_module_version": "1.5.0",
            "_model_name": "HTMLModel",
            "_view_count": null,
            "_view_module": "@jupyter-widgets/controls",
            "_view_module_version": "1.5.0",
            "_view_name": "HTMLView",
            "description": "",
            "description_tooltip": null,
            "layout": "IPY_MODEL_1f5a68b0bd9948358107a7c189dd6aec",
            "placeholder": "​",
            "style": "IPY_MODEL_8c583e3d637f4a48bf0efb2de025ca31",
            "value": " 384k/? [00:00&lt;00:00, 7.26MB/s]"
          }
        },
        "77ae03f9815d4383a62607b7eefdbb35": {
          "model_module": "@jupyter-widgets/base",
          "model_name": "LayoutModel",
          "model_module_version": "1.2.0",
          "state": {
            "_model_module": "@jupyter-widgets/base",
            "_model_module_version": "1.2.0",
            "_model_name": "LayoutModel",
            "_view_count": null,
            "_view_module": "@jupyter-widgets/base",
            "_view_module_version": "1.2.0",
            "_view_name": "LayoutView",
            "align_content": null,
            "align_items": null,
            "align_self": null,
            "border": null,
            "bottom": null,
            "display": null,
            "flex": null,
            "flex_flow": null,
            "grid_area": null,
            "grid_auto_columns": null,
            "grid_auto_flow": null,
            "grid_auto_rows": null,
            "grid_column": null,
            "grid_gap": null,
            "grid_row": null,
            "grid_template_areas": null,
            "grid_template_columns": null,
            "grid_template_rows": null,
            "height": null,
            "justify_content": null,
            "justify_items": null,
            "left": null,
            "margin": null,
            "max_height": null,
            "max_width": null,
            "min_height": null,
            "min_width": null,
            "object_fit": null,
            "object_position": null,
            "order": null,
            "overflow": null,
            "overflow_x": null,
            "overflow_y": null,
            "padding": null,
            "right": null,
            "top": null,
            "visibility": null,
            "width": null
          }
        },
        "21bb6c5b0b9f41289b1563c79df09a2c": {
          "model_module": "@jupyter-widgets/base",
          "model_name": "LayoutModel",
          "model_module_version": "1.2.0",
          "state": {
            "_model_module": "@jupyter-widgets/base",
            "_model_module_version": "1.2.0",
            "_model_name": "LayoutModel",
            "_view_count": null,
            "_view_module": "@jupyter-widgets/base",
            "_view_module_version": "1.2.0",
            "_view_name": "LayoutView",
            "align_content": null,
            "align_items": null,
            "align_self": null,
            "border": null,
            "bottom": null,
            "display": null,
            "flex": null,
            "flex_flow": null,
            "grid_area": null,
            "grid_auto_columns": null,
            "grid_auto_flow": null,
            "grid_auto_rows": null,
            "grid_column": null,
            "grid_gap": null,
            "grid_row": null,
            "grid_template_areas": null,
            "grid_template_columns": null,
            "grid_template_rows": null,
            "height": null,
            "justify_content": null,
            "justify_items": null,
            "left": null,
            "margin": null,
            "max_height": null,
            "max_width": null,
            "min_height": null,
            "min_width": null,
            "object_fit": null,
            "object_position": null,
            "order": null,
            "overflow": null,
            "overflow_x": null,
            "overflow_y": null,
            "padding": null,
            "right": null,
            "top": null,
            "visibility": null,
            "width": null
          }
        },
        "5875229ec1464da597aa3b86c86359bf": {
          "model_module": "@jupyter-widgets/controls",
          "model_name": "DescriptionStyleModel",
          "model_module_version": "1.5.0",
          "state": {
            "_model_module": "@jupyter-widgets/controls",
            "_model_module_version": "1.5.0",
            "_model_name": "DescriptionStyleModel",
            "_view_count": null,
            "_view_module": "@jupyter-widgets/base",
            "_view_module_version": "1.2.0",
            "_view_name": "StyleView",
            "description_width": ""
          }
        },
        "202aa3d080e645b98c801726362566ed": {
          "model_module": "@jupyter-widgets/base",
          "model_name": "LayoutModel",
          "model_module_version": "1.2.0",
          "state": {
            "_model_module": "@jupyter-widgets/base",
            "_model_module_version": "1.2.0",
            "_model_name": "LayoutModel",
            "_view_count": null,
            "_view_module": "@jupyter-widgets/base",
            "_view_module_version": "1.2.0",
            "_view_name": "LayoutView",
            "align_content": null,
            "align_items": null,
            "align_self": null,
            "border": null,
            "bottom": null,
            "display": null,
            "flex": null,
            "flex_flow": null,
            "grid_area": null,
            "grid_auto_columns": null,
            "grid_auto_flow": null,
            "grid_auto_rows": null,
            "grid_column": null,
            "grid_gap": null,
            "grid_row": null,
            "grid_template_areas": null,
            "grid_template_columns": null,
            "grid_template_rows": null,
            "height": null,
            "justify_content": null,
            "justify_items": null,
            "left": null,
            "margin": null,
            "max_height": null,
            "max_width": null,
            "min_height": null,
            "min_width": null,
            "object_fit": null,
            "object_position": null,
            "order": null,
            "overflow": null,
            "overflow_x": null,
            "overflow_y": null,
            "padding": null,
            "right": null,
            "top": null,
            "visibility": null,
            "width": null
          }
        },
        "900d690774eb4e22ab2e6f2dcfae6267": {
          "model_module": "@jupyter-widgets/controls",
          "model_name": "ProgressStyleModel",
          "model_module_version": "1.5.0",
          "state": {
            "_model_module": "@jupyter-widgets/controls",
            "_model_module_version": "1.5.0",
            "_model_name": "ProgressStyleModel",
            "_view_count": null,
            "_view_module": "@jupyter-widgets/base",
            "_view_module_version": "1.2.0",
            "_view_name": "StyleView",
            "bar_color": null,
            "description_width": ""
          }
        },
        "1f5a68b0bd9948358107a7c189dd6aec": {
          "model_module": "@jupyter-widgets/base",
          "model_name": "LayoutModel",
          "model_module_version": "1.2.0",
          "state": {
            "_model_module": "@jupyter-widgets/base",
            "_model_module_version": "1.2.0",
            "_model_name": "LayoutModel",
            "_view_count": null,
            "_view_module": "@jupyter-widgets/base",
            "_view_module_version": "1.2.0",
            "_view_name": "LayoutView",
            "align_content": null,
            "align_items": null,
            "align_self": null,
            "border": null,
            "bottom": null,
            "display": null,
            "flex": null,
            "flex_flow": null,
            "grid_area": null,
            "grid_auto_columns": null,
            "grid_auto_flow": null,
            "grid_auto_rows": null,
            "grid_column": null,
            "grid_gap": null,
            "grid_row": null,
            "grid_template_areas": null,
            "grid_template_columns": null,
            "grid_template_rows": null,
            "height": null,
            "justify_content": null,
            "justify_items": null,
            "left": null,
            "margin": null,
            "max_height": null,
            "max_width": null,
            "min_height": null,
            "min_width": null,
            "object_fit": null,
            "object_position": null,
            "order": null,
            "overflow": null,
            "overflow_x": null,
            "overflow_y": null,
            "padding": null,
            "right": null,
            "top": null,
            "visibility": null,
            "width": null
          }
        },
        "8c583e3d637f4a48bf0efb2de025ca31": {
          "model_module": "@jupyter-widgets/controls",
          "model_name": "DescriptionStyleModel",
          "model_module_version": "1.5.0",
          "state": {
            "_model_module": "@jupyter-widgets/controls",
            "_model_module_version": "1.5.0",
            "_model_name": "DescriptionStyleModel",
            "_view_count": null,
            "_view_module": "@jupyter-widgets/base",
            "_view_module_version": "1.2.0",
            "_view_name": "StyleView",
            "description_width": ""
          }
        },
        "ef2b86cb00eb403a9e602fbe352023dd": {
          "model_module": "@jupyter-widgets/controls",
          "model_name": "HBoxModel",
          "model_module_version": "1.5.0",
          "state": {
            "_dom_classes": [],
            "_model_module": "@jupyter-widgets/controls",
            "_model_module_version": "1.5.0",
            "_model_name": "HBoxModel",
            "_view_count": null,
            "_view_module": "@jupyter-widgets/controls",
            "_view_module_version": "1.5.0",
            "_view_name": "HBoxView",
            "box_style": "",
            "children": [
              "IPY_MODEL_67b780a6412543f294d2d389a8e6b8ac",
              "IPY_MODEL_9af49dec33f5483c88d499f43eae9c23",
              "IPY_MODEL_0bbc2add99e74045b93acebe99d80017"
            ],
            "layout": "IPY_MODEL_5e1540bd02284a0c8651dc3b9a51ca50"
          }
        },
        "67b780a6412543f294d2d389a8e6b8ac": {
          "model_module": "@jupyter-widgets/controls",
          "model_name": "HTMLModel",
          "model_module_version": "1.5.0",
          "state": {
            "_dom_classes": [],
            "_model_module": "@jupyter-widgets/controls",
            "_model_module_version": "1.5.0",
            "_model_name": "HTMLModel",
            "_view_count": null,
            "_view_module": "@jupyter-widgets/controls",
            "_view_module_version": "1.5.0",
            "_view_name": "HTMLView",
            "description": "",
            "description_tooltip": null,
            "layout": "IPY_MODEL_46fde5275c824432b850a5a639183adc",
            "placeholder": "​",
            "style": "IPY_MODEL_324d4f09141447a6a3f633e0e5ce5822",
            "value": "Downloading https://huggingface.co/stanfordnlp/stanza-la/resolve/v1.8.0/models/default.zip: 100%"
          }
        },
        "9af49dec33f5483c88d499f43eae9c23": {
          "model_module": "@jupyter-widgets/controls",
          "model_name": "FloatProgressModel",
          "model_module_version": "1.5.0",
          "state": {
            "_dom_classes": [],
            "_model_module": "@jupyter-widgets/controls",
            "_model_module_version": "1.5.0",
            "_model_name": "FloatProgressModel",
            "_view_count": null,
            "_view_module": "@jupyter-widgets/controls",
            "_view_module_version": "1.5.0",
            "_view_name": "ProgressView",
            "bar_style": "success",
            "description": "",
            "description_tooltip": null,
            "layout": "IPY_MODEL_da6be69cf9ad4cd690d771cdcb8243fd",
            "max": 222701393,
            "min": 0,
            "orientation": "horizontal",
            "style": "IPY_MODEL_216409d8abf3459e886327452588ad78",
            "value": 222701393
          }
        },
        "0bbc2add99e74045b93acebe99d80017": {
          "model_module": "@jupyter-widgets/controls",
          "model_name": "HTMLModel",
          "model_module_version": "1.5.0",
          "state": {
            "_dom_classes": [],
            "_model_module": "@jupyter-widgets/controls",
            "_model_module_version": "1.5.0",
            "_model_name": "HTMLModel",
            "_view_count": null,
            "_view_module": "@jupyter-widgets/controls",
            "_view_module_version": "1.5.0",
            "_view_name": "HTMLView",
            "description": "",
            "description_tooltip": null,
            "layout": "IPY_MODEL_acf4cba796b845328b5733678dbd008f",
            "placeholder": "​",
            "style": "IPY_MODEL_9ee8d2b5d60f413b90c7a290a11ad42f",
            "value": " 223M/223M [00:01&lt;00:00, 151MB/s]"
          }
        },
        "5e1540bd02284a0c8651dc3b9a51ca50": {
          "model_module": "@jupyter-widgets/base",
          "model_name": "LayoutModel",
          "model_module_version": "1.2.0",
          "state": {
            "_model_module": "@jupyter-widgets/base",
            "_model_module_version": "1.2.0",
            "_model_name": "LayoutModel",
            "_view_count": null,
            "_view_module": "@jupyter-widgets/base",
            "_view_module_version": "1.2.0",
            "_view_name": "LayoutView",
            "align_content": null,
            "align_items": null,
            "align_self": null,
            "border": null,
            "bottom": null,
            "display": null,
            "flex": null,
            "flex_flow": null,
            "grid_area": null,
            "grid_auto_columns": null,
            "grid_auto_flow": null,
            "grid_auto_rows": null,
            "grid_column": null,
            "grid_gap": null,
            "grid_row": null,
            "grid_template_areas": null,
            "grid_template_columns": null,
            "grid_template_rows": null,
            "height": null,
            "justify_content": null,
            "justify_items": null,
            "left": null,
            "margin": null,
            "max_height": null,
            "max_width": null,
            "min_height": null,
            "min_width": null,
            "object_fit": null,
            "object_position": null,
            "order": null,
            "overflow": null,
            "overflow_x": null,
            "overflow_y": null,
            "padding": null,
            "right": null,
            "top": null,
            "visibility": null,
            "width": null
          }
        },
        "46fde5275c824432b850a5a639183adc": {
          "model_module": "@jupyter-widgets/base",
          "model_name": "LayoutModel",
          "model_module_version": "1.2.0",
          "state": {
            "_model_module": "@jupyter-widgets/base",
            "_model_module_version": "1.2.0",
            "_model_name": "LayoutModel",
            "_view_count": null,
            "_view_module": "@jupyter-widgets/base",
            "_view_module_version": "1.2.0",
            "_view_name": "LayoutView",
            "align_content": null,
            "align_items": null,
            "align_self": null,
            "border": null,
            "bottom": null,
            "display": null,
            "flex": null,
            "flex_flow": null,
            "grid_area": null,
            "grid_auto_columns": null,
            "grid_auto_flow": null,
            "grid_auto_rows": null,
            "grid_column": null,
            "grid_gap": null,
            "grid_row": null,
            "grid_template_areas": null,
            "grid_template_columns": null,
            "grid_template_rows": null,
            "height": null,
            "justify_content": null,
            "justify_items": null,
            "left": null,
            "margin": null,
            "max_height": null,
            "max_width": null,
            "min_height": null,
            "min_width": null,
            "object_fit": null,
            "object_position": null,
            "order": null,
            "overflow": null,
            "overflow_x": null,
            "overflow_y": null,
            "padding": null,
            "right": null,
            "top": null,
            "visibility": null,
            "width": null
          }
        },
        "324d4f09141447a6a3f633e0e5ce5822": {
          "model_module": "@jupyter-widgets/controls",
          "model_name": "DescriptionStyleModel",
          "model_module_version": "1.5.0",
          "state": {
            "_model_module": "@jupyter-widgets/controls",
            "_model_module_version": "1.5.0",
            "_model_name": "DescriptionStyleModel",
            "_view_count": null,
            "_view_module": "@jupyter-widgets/base",
            "_view_module_version": "1.2.0",
            "_view_name": "StyleView",
            "description_width": ""
          }
        },
        "da6be69cf9ad4cd690d771cdcb8243fd": {
          "model_module": "@jupyter-widgets/base",
          "model_name": "LayoutModel",
          "model_module_version": "1.2.0",
          "state": {
            "_model_module": "@jupyter-widgets/base",
            "_model_module_version": "1.2.0",
            "_model_name": "LayoutModel",
            "_view_count": null,
            "_view_module": "@jupyter-widgets/base",
            "_view_module_version": "1.2.0",
            "_view_name": "LayoutView",
            "align_content": null,
            "align_items": null,
            "align_self": null,
            "border": null,
            "bottom": null,
            "display": null,
            "flex": null,
            "flex_flow": null,
            "grid_area": null,
            "grid_auto_columns": null,
            "grid_auto_flow": null,
            "grid_auto_rows": null,
            "grid_column": null,
            "grid_gap": null,
            "grid_row": null,
            "grid_template_areas": null,
            "grid_template_columns": null,
            "grid_template_rows": null,
            "height": null,
            "justify_content": null,
            "justify_items": null,
            "left": null,
            "margin": null,
            "max_height": null,
            "max_width": null,
            "min_height": null,
            "min_width": null,
            "object_fit": null,
            "object_position": null,
            "order": null,
            "overflow": null,
            "overflow_x": null,
            "overflow_y": null,
            "padding": null,
            "right": null,
            "top": null,
            "visibility": null,
            "width": null
          }
        },
        "216409d8abf3459e886327452588ad78": {
          "model_module": "@jupyter-widgets/controls",
          "model_name": "ProgressStyleModel",
          "model_module_version": "1.5.0",
          "state": {
            "_model_module": "@jupyter-widgets/controls",
            "_model_module_version": "1.5.0",
            "_model_name": "ProgressStyleModel",
            "_view_count": null,
            "_view_module": "@jupyter-widgets/base",
            "_view_module_version": "1.2.0",
            "_view_name": "StyleView",
            "bar_color": null,
            "description_width": ""
          }
        },
        "acf4cba796b845328b5733678dbd008f": {
          "model_module": "@jupyter-widgets/base",
          "model_name": "LayoutModel",
          "model_module_version": "1.2.0",
          "state": {
            "_model_module": "@jupyter-widgets/base",
            "_model_module_version": "1.2.0",
            "_model_name": "LayoutModel",
            "_view_count": null,
            "_view_module": "@jupyter-widgets/base",
            "_view_module_version": "1.2.0",
            "_view_name": "LayoutView",
            "align_content": null,
            "align_items": null,
            "align_self": null,
            "border": null,
            "bottom": null,
            "display": null,
            "flex": null,
            "flex_flow": null,
            "grid_area": null,
            "grid_auto_columns": null,
            "grid_auto_flow": null,
            "grid_auto_rows": null,
            "grid_column": null,
            "grid_gap": null,
            "grid_row": null,
            "grid_template_areas": null,
            "grid_template_columns": null,
            "grid_template_rows": null,
            "height": null,
            "justify_content": null,
            "justify_items": null,
            "left": null,
            "margin": null,
            "max_height": null,
            "max_width": null,
            "min_height": null,
            "min_width": null,
            "object_fit": null,
            "object_position": null,
            "order": null,
            "overflow": null,
            "overflow_x": null,
            "overflow_y": null,
            "padding": null,
            "right": null,
            "top": null,
            "visibility": null,
            "width": null
          }
        },
        "9ee8d2b5d60f413b90c7a290a11ad42f": {
          "model_module": "@jupyter-widgets/controls",
          "model_name": "DescriptionStyleModel",
          "model_module_version": "1.5.0",
          "state": {
            "_model_module": "@jupyter-widgets/controls",
            "_model_module_version": "1.5.0",
            "_model_name": "DescriptionStyleModel",
            "_view_count": null,
            "_view_module": "@jupyter-widgets/base",
            "_view_module_version": "1.2.0",
            "_view_name": "StyleView",
            "description_width": ""
          }
        },
        "0e975812e18744daafac184fa3932b31": {
          "model_module": "@jupyter-widgets/controls",
          "model_name": "HBoxModel",
          "model_module_version": "1.5.0",
          "state": {
            "_dom_classes": [],
            "_model_module": "@jupyter-widgets/controls",
            "_model_module_version": "1.5.0",
            "_model_name": "HBoxModel",
            "_view_count": null,
            "_view_module": "@jupyter-widgets/controls",
            "_view_module_version": "1.5.0",
            "_view_name": "HBoxView",
            "box_style": "",
            "children": [
              "IPY_MODEL_819221ef408547c8a06b2389cd5231be",
              "IPY_MODEL_d3bb29fc662b4e87888047d66aab5fa4",
              "IPY_MODEL_8b8db8f577e74a469ea2dd0138c76830"
            ],
            "layout": "IPY_MODEL_d3ef8252be2a49b3a4363f59307c5f1e"
          }
        },
        "819221ef408547c8a06b2389cd5231be": {
          "model_module": "@jupyter-widgets/controls",
          "model_name": "HTMLModel",
          "model_module_version": "1.5.0",
          "state": {
            "_dom_classes": [],
            "_model_module": "@jupyter-widgets/controls",
            "_model_module_version": "1.5.0",
            "_model_name": "HTMLModel",
            "_view_count": null,
            "_view_module": "@jupyter-widgets/controls",
            "_view_module_version": "1.5.0",
            "_view_name": "HTMLView",
            "description": "",
            "description_tooltip": null,
            "layout": "IPY_MODEL_d34e819894bc4bbab05d9a75e51e1eb4",
            "placeholder": "​",
            "style": "IPY_MODEL_b5dca0794a214ea8b5b4ab1c369871aa",
            "value": "Downloading https://raw.githubusercontent.com/stanfordnlp/stanza-resources/main/resources_1.8.0.json: "
          }
        },
        "d3bb29fc662b4e87888047d66aab5fa4": {
          "model_module": "@jupyter-widgets/controls",
          "model_name": "FloatProgressModel",
          "model_module_version": "1.5.0",
          "state": {
            "_dom_classes": [],
            "_model_module": "@jupyter-widgets/controls",
            "_model_module_version": "1.5.0",
            "_model_name": "FloatProgressModel",
            "_view_count": null,
            "_view_module": "@jupyter-widgets/controls",
            "_view_module_version": "1.5.0",
            "_view_name": "ProgressView",
            "bar_style": "success",
            "description": "",
            "description_tooltip": null,
            "layout": "IPY_MODEL_ef6609f881994344b42ebbf8da7e970e",
            "max": 47693,
            "min": 0,
            "orientation": "horizontal",
            "style": "IPY_MODEL_1cb53788e5014098afcd3fb77fb21793",
            "value": 47693
          }
        },
        "8b8db8f577e74a469ea2dd0138c76830": {
          "model_module": "@jupyter-widgets/controls",
          "model_name": "HTMLModel",
          "model_module_version": "1.5.0",
          "state": {
            "_dom_classes": [],
            "_model_module": "@jupyter-widgets/controls",
            "_model_module_version": "1.5.0",
            "_model_name": "HTMLModel",
            "_view_count": null,
            "_view_module": "@jupyter-widgets/controls",
            "_view_module_version": "1.5.0",
            "_view_name": "HTMLView",
            "description": "",
            "description_tooltip": null,
            "layout": "IPY_MODEL_adc83133bd3f4edfbd8814e8c2b332b5",
            "placeholder": "​",
            "style": "IPY_MODEL_aae0d3f7347042c689f165bcb9d02278",
            "value": " 384k/? [00:00&lt;00:00, 1.29MB/s]"
          }
        },
        "d3ef8252be2a49b3a4363f59307c5f1e": {
          "model_module": "@jupyter-widgets/base",
          "model_name": "LayoutModel",
          "model_module_version": "1.2.0",
          "state": {
            "_model_module": "@jupyter-widgets/base",
            "_model_module_version": "1.2.0",
            "_model_name": "LayoutModel",
            "_view_count": null,
            "_view_module": "@jupyter-widgets/base",
            "_view_module_version": "1.2.0",
            "_view_name": "LayoutView",
            "align_content": null,
            "align_items": null,
            "align_self": null,
            "border": null,
            "bottom": null,
            "display": null,
            "flex": null,
            "flex_flow": null,
            "grid_area": null,
            "grid_auto_columns": null,
            "grid_auto_flow": null,
            "grid_auto_rows": null,
            "grid_column": null,
            "grid_gap": null,
            "grid_row": null,
            "grid_template_areas": null,
            "grid_template_columns": null,
            "grid_template_rows": null,
            "height": null,
            "justify_content": null,
            "justify_items": null,
            "left": null,
            "margin": null,
            "max_height": null,
            "max_width": null,
            "min_height": null,
            "min_width": null,
            "object_fit": null,
            "object_position": null,
            "order": null,
            "overflow": null,
            "overflow_x": null,
            "overflow_y": null,
            "padding": null,
            "right": null,
            "top": null,
            "visibility": null,
            "width": null
          }
        },
        "d34e819894bc4bbab05d9a75e51e1eb4": {
          "model_module": "@jupyter-widgets/base",
          "model_name": "LayoutModel",
          "model_module_version": "1.2.0",
          "state": {
            "_model_module": "@jupyter-widgets/base",
            "_model_module_version": "1.2.0",
            "_model_name": "LayoutModel",
            "_view_count": null,
            "_view_module": "@jupyter-widgets/base",
            "_view_module_version": "1.2.0",
            "_view_name": "LayoutView",
            "align_content": null,
            "align_items": null,
            "align_self": null,
            "border": null,
            "bottom": null,
            "display": null,
            "flex": null,
            "flex_flow": null,
            "grid_area": null,
            "grid_auto_columns": null,
            "grid_auto_flow": null,
            "grid_auto_rows": null,
            "grid_column": null,
            "grid_gap": null,
            "grid_row": null,
            "grid_template_areas": null,
            "grid_template_columns": null,
            "grid_template_rows": null,
            "height": null,
            "justify_content": null,
            "justify_items": null,
            "left": null,
            "margin": null,
            "max_height": null,
            "max_width": null,
            "min_height": null,
            "min_width": null,
            "object_fit": null,
            "object_position": null,
            "order": null,
            "overflow": null,
            "overflow_x": null,
            "overflow_y": null,
            "padding": null,
            "right": null,
            "top": null,
            "visibility": null,
            "width": null
          }
        },
        "b5dca0794a214ea8b5b4ab1c369871aa": {
          "model_module": "@jupyter-widgets/controls",
          "model_name": "DescriptionStyleModel",
          "model_module_version": "1.5.0",
          "state": {
            "_model_module": "@jupyter-widgets/controls",
            "_model_module_version": "1.5.0",
            "_model_name": "DescriptionStyleModel",
            "_view_count": null,
            "_view_module": "@jupyter-widgets/base",
            "_view_module_version": "1.2.0",
            "_view_name": "StyleView",
            "description_width": ""
          }
        },
        "ef6609f881994344b42ebbf8da7e970e": {
          "model_module": "@jupyter-widgets/base",
          "model_name": "LayoutModel",
          "model_module_version": "1.2.0",
          "state": {
            "_model_module": "@jupyter-widgets/base",
            "_model_module_version": "1.2.0",
            "_model_name": "LayoutModel",
            "_view_count": null,
            "_view_module": "@jupyter-widgets/base",
            "_view_module_version": "1.2.0",
            "_view_name": "LayoutView",
            "align_content": null,
            "align_items": null,
            "align_self": null,
            "border": null,
            "bottom": null,
            "display": null,
            "flex": null,
            "flex_flow": null,
            "grid_area": null,
            "grid_auto_columns": null,
            "grid_auto_flow": null,
            "grid_auto_rows": null,
            "grid_column": null,
            "grid_gap": null,
            "grid_row": null,
            "grid_template_areas": null,
            "grid_template_columns": null,
            "grid_template_rows": null,
            "height": null,
            "justify_content": null,
            "justify_items": null,
            "left": null,
            "margin": null,
            "max_height": null,
            "max_width": null,
            "min_height": null,
            "min_width": null,
            "object_fit": null,
            "object_position": null,
            "order": null,
            "overflow": null,
            "overflow_x": null,
            "overflow_y": null,
            "padding": null,
            "right": null,
            "top": null,
            "visibility": null,
            "width": null
          }
        },
        "1cb53788e5014098afcd3fb77fb21793": {
          "model_module": "@jupyter-widgets/controls",
          "model_name": "ProgressStyleModel",
          "model_module_version": "1.5.0",
          "state": {
            "_model_module": "@jupyter-widgets/controls",
            "_model_module_version": "1.5.0",
            "_model_name": "ProgressStyleModel",
            "_view_count": null,
            "_view_module": "@jupyter-widgets/base",
            "_view_module_version": "1.2.0",
            "_view_name": "StyleView",
            "bar_color": null,
            "description_width": ""
          }
        },
        "adc83133bd3f4edfbd8814e8c2b332b5": {
          "model_module": "@jupyter-widgets/base",
          "model_name": "LayoutModel",
          "model_module_version": "1.2.0",
          "state": {
            "_model_module": "@jupyter-widgets/base",
            "_model_module_version": "1.2.0",
            "_model_name": "LayoutModel",
            "_view_count": null,
            "_view_module": "@jupyter-widgets/base",
            "_view_module_version": "1.2.0",
            "_view_name": "LayoutView",
            "align_content": null,
            "align_items": null,
            "align_self": null,
            "border": null,
            "bottom": null,
            "display": null,
            "flex": null,
            "flex_flow": null,
            "grid_area": null,
            "grid_auto_columns": null,
            "grid_auto_flow": null,
            "grid_auto_rows": null,
            "grid_column": null,
            "grid_gap": null,
            "grid_row": null,
            "grid_template_areas": null,
            "grid_template_columns": null,
            "grid_template_rows": null,
            "height": null,
            "justify_content": null,
            "justify_items": null,
            "left": null,
            "margin": null,
            "max_height": null,
            "max_width": null,
            "min_height": null,
            "min_width": null,
            "object_fit": null,
            "object_position": null,
            "order": null,
            "overflow": null,
            "overflow_x": null,
            "overflow_y": null,
            "padding": null,
            "right": null,
            "top": null,
            "visibility": null,
            "width": null
          }
        },
        "aae0d3f7347042c689f165bcb9d02278": {
          "model_module": "@jupyter-widgets/controls",
          "model_name": "DescriptionStyleModel",
          "model_module_version": "1.5.0",
          "state": {
            "_model_module": "@jupyter-widgets/controls",
            "_model_module_version": "1.5.0",
            "_model_name": "DescriptionStyleModel",
            "_view_count": null,
            "_view_module": "@jupyter-widgets/base",
            "_view_module_version": "1.2.0",
            "_view_name": "StyleView",
            "description_width": ""
          }
        },
        "311e5da884224565beb40bc61ba4c017": {
          "model_module": "@jupyter-widgets/controls",
          "model_name": "HBoxModel",
          "model_module_version": "1.5.0",
          "state": {
            "_dom_classes": [],
            "_model_module": "@jupyter-widgets/controls",
            "_model_module_version": "1.5.0",
            "_model_name": "HBoxModel",
            "_view_count": null,
            "_view_module": "@jupyter-widgets/controls",
            "_view_module_version": "1.5.0",
            "_view_name": "HBoxView",
            "box_style": "",
            "children": [
              "IPY_MODEL_e0dd361561554cc9b2f1d47f0f118bb8",
              "IPY_MODEL_571b71d90bf545d28f222abd0d7b4b64",
              "IPY_MODEL_fb760dc9f90140e59e0ee99e37495ce4"
            ],
            "layout": "IPY_MODEL_e4dccd6ef958493598e588ca1dd152b1"
          }
        },
        "e0dd361561554cc9b2f1d47f0f118bb8": {
          "model_module": "@jupyter-widgets/controls",
          "model_name": "HTMLModel",
          "model_module_version": "1.5.0",
          "state": {
            "_dom_classes": [],
            "_model_module": "@jupyter-widgets/controls",
            "_model_module_version": "1.5.0",
            "_model_name": "HTMLModel",
            "_view_count": null,
            "_view_module": "@jupyter-widgets/controls",
            "_view_module_version": "1.5.0",
            "_view_name": "HTMLView",
            "description": "",
            "description_tooltip": null,
            "layout": "IPY_MODEL_66214f57cdb44783a47e53bea88353a5",
            "placeholder": "​",
            "style": "IPY_MODEL_a1a041b9721b4f5697883975fb4d48e2",
            "value": "Downloading https://raw.githubusercontent.com/stanfordnlp/stanza-resources/main/resources_1.8.0.json: "
          }
        },
        "571b71d90bf545d28f222abd0d7b4b64": {
          "model_module": "@jupyter-widgets/controls",
          "model_name": "FloatProgressModel",
          "model_module_version": "1.5.0",
          "state": {
            "_dom_classes": [],
            "_model_module": "@jupyter-widgets/controls",
            "_model_module_version": "1.5.0",
            "_model_name": "FloatProgressModel",
            "_view_count": null,
            "_view_module": "@jupyter-widgets/controls",
            "_view_module_version": "1.5.0",
            "_view_name": "ProgressView",
            "bar_style": "success",
            "description": "",
            "description_tooltip": null,
            "layout": "IPY_MODEL_e1023522ce174a2ea8bdafe86219c4b1",
            "max": 47693,
            "min": 0,
            "orientation": "horizontal",
            "style": "IPY_MODEL_9fa4173f970d4001a1123bfe0bf564cf",
            "value": 47693
          }
        },
        "fb760dc9f90140e59e0ee99e37495ce4": {
          "model_module": "@jupyter-widgets/controls",
          "model_name": "HTMLModel",
          "model_module_version": "1.5.0",
          "state": {
            "_dom_classes": [],
            "_model_module": "@jupyter-widgets/controls",
            "_model_module_version": "1.5.0",
            "_model_name": "HTMLModel",
            "_view_count": null,
            "_view_module": "@jupyter-widgets/controls",
            "_view_module_version": "1.5.0",
            "_view_name": "HTMLView",
            "description": "",
            "description_tooltip": null,
            "layout": "IPY_MODEL_6b3a438b928a4d2a9e2fc174a8f05f8a",
            "placeholder": "​",
            "style": "IPY_MODEL_41adda0ccd7e4c538c854ad8cd47e90d",
            "value": " 384k/? [00:00&lt;00:00, 4.70MB/s]"
          }
        },
        "e4dccd6ef958493598e588ca1dd152b1": {
          "model_module": "@jupyter-widgets/base",
          "model_name": "LayoutModel",
          "model_module_version": "1.2.0",
          "state": {
            "_model_module": "@jupyter-widgets/base",
            "_model_module_version": "1.2.0",
            "_model_name": "LayoutModel",
            "_view_count": null,
            "_view_module": "@jupyter-widgets/base",
            "_view_module_version": "1.2.0",
            "_view_name": "LayoutView",
            "align_content": null,
            "align_items": null,
            "align_self": null,
            "border": null,
            "bottom": null,
            "display": null,
            "flex": null,
            "flex_flow": null,
            "grid_area": null,
            "grid_auto_columns": null,
            "grid_auto_flow": null,
            "grid_auto_rows": null,
            "grid_column": null,
            "grid_gap": null,
            "grid_row": null,
            "grid_template_areas": null,
            "grid_template_columns": null,
            "grid_template_rows": null,
            "height": null,
            "justify_content": null,
            "justify_items": null,
            "left": null,
            "margin": null,
            "max_height": null,
            "max_width": null,
            "min_height": null,
            "min_width": null,
            "object_fit": null,
            "object_position": null,
            "order": null,
            "overflow": null,
            "overflow_x": null,
            "overflow_y": null,
            "padding": null,
            "right": null,
            "top": null,
            "visibility": null,
            "width": null
          }
        },
        "66214f57cdb44783a47e53bea88353a5": {
          "model_module": "@jupyter-widgets/base",
          "model_name": "LayoutModel",
          "model_module_version": "1.2.0",
          "state": {
            "_model_module": "@jupyter-widgets/base",
            "_model_module_version": "1.2.0",
            "_model_name": "LayoutModel",
            "_view_count": null,
            "_view_module": "@jupyter-widgets/base",
            "_view_module_version": "1.2.0",
            "_view_name": "LayoutView",
            "align_content": null,
            "align_items": null,
            "align_self": null,
            "border": null,
            "bottom": null,
            "display": null,
            "flex": null,
            "flex_flow": null,
            "grid_area": null,
            "grid_auto_columns": null,
            "grid_auto_flow": null,
            "grid_auto_rows": null,
            "grid_column": null,
            "grid_gap": null,
            "grid_row": null,
            "grid_template_areas": null,
            "grid_template_columns": null,
            "grid_template_rows": null,
            "height": null,
            "justify_content": null,
            "justify_items": null,
            "left": null,
            "margin": null,
            "max_height": null,
            "max_width": null,
            "min_height": null,
            "min_width": null,
            "object_fit": null,
            "object_position": null,
            "order": null,
            "overflow": null,
            "overflow_x": null,
            "overflow_y": null,
            "padding": null,
            "right": null,
            "top": null,
            "visibility": null,
            "width": null
          }
        },
        "a1a041b9721b4f5697883975fb4d48e2": {
          "model_module": "@jupyter-widgets/controls",
          "model_name": "DescriptionStyleModel",
          "model_module_version": "1.5.0",
          "state": {
            "_model_module": "@jupyter-widgets/controls",
            "_model_module_version": "1.5.0",
            "_model_name": "DescriptionStyleModel",
            "_view_count": null,
            "_view_module": "@jupyter-widgets/base",
            "_view_module_version": "1.2.0",
            "_view_name": "StyleView",
            "description_width": ""
          }
        },
        "e1023522ce174a2ea8bdafe86219c4b1": {
          "model_module": "@jupyter-widgets/base",
          "model_name": "LayoutModel",
          "model_module_version": "1.2.0",
          "state": {
            "_model_module": "@jupyter-widgets/base",
            "_model_module_version": "1.2.0",
            "_model_name": "LayoutModel",
            "_view_count": null,
            "_view_module": "@jupyter-widgets/base",
            "_view_module_version": "1.2.0",
            "_view_name": "LayoutView",
            "align_content": null,
            "align_items": null,
            "align_self": null,
            "border": null,
            "bottom": null,
            "display": null,
            "flex": null,
            "flex_flow": null,
            "grid_area": null,
            "grid_auto_columns": null,
            "grid_auto_flow": null,
            "grid_auto_rows": null,
            "grid_column": null,
            "grid_gap": null,
            "grid_row": null,
            "grid_template_areas": null,
            "grid_template_columns": null,
            "grid_template_rows": null,
            "height": null,
            "justify_content": null,
            "justify_items": null,
            "left": null,
            "margin": null,
            "max_height": null,
            "max_width": null,
            "min_height": null,
            "min_width": null,
            "object_fit": null,
            "object_position": null,
            "order": null,
            "overflow": null,
            "overflow_x": null,
            "overflow_y": null,
            "padding": null,
            "right": null,
            "top": null,
            "visibility": null,
            "width": null
          }
        },
        "9fa4173f970d4001a1123bfe0bf564cf": {
          "model_module": "@jupyter-widgets/controls",
          "model_name": "ProgressStyleModel",
          "model_module_version": "1.5.0",
          "state": {
            "_model_module": "@jupyter-widgets/controls",
            "_model_module_version": "1.5.0",
            "_model_name": "ProgressStyleModel",
            "_view_count": null,
            "_view_module": "@jupyter-widgets/base",
            "_view_module_version": "1.2.0",
            "_view_name": "StyleView",
            "bar_color": null,
            "description_width": ""
          }
        },
        "6b3a438b928a4d2a9e2fc174a8f05f8a": {
          "model_module": "@jupyter-widgets/base",
          "model_name": "LayoutModel",
          "model_module_version": "1.2.0",
          "state": {
            "_model_module": "@jupyter-widgets/base",
            "_model_module_version": "1.2.0",
            "_model_name": "LayoutModel",
            "_view_count": null,
            "_view_module": "@jupyter-widgets/base",
            "_view_module_version": "1.2.0",
            "_view_name": "LayoutView",
            "align_content": null,
            "align_items": null,
            "align_self": null,
            "border": null,
            "bottom": null,
            "display": null,
            "flex": null,
            "flex_flow": null,
            "grid_area": null,
            "grid_auto_columns": null,
            "grid_auto_flow": null,
            "grid_auto_rows": null,
            "grid_column": null,
            "grid_gap": null,
            "grid_row": null,
            "grid_template_areas": null,
            "grid_template_columns": null,
            "grid_template_rows": null,
            "height": null,
            "justify_content": null,
            "justify_items": null,
            "left": null,
            "margin": null,
            "max_height": null,
            "max_width": null,
            "min_height": null,
            "min_width": null,
            "object_fit": null,
            "object_position": null,
            "order": null,
            "overflow": null,
            "overflow_x": null,
            "overflow_y": null,
            "padding": null,
            "right": null,
            "top": null,
            "visibility": null,
            "width": null
          }
        },
        "41adda0ccd7e4c538c854ad8cd47e90d": {
          "model_module": "@jupyter-widgets/controls",
          "model_name": "DescriptionStyleModel",
          "model_module_version": "1.5.0",
          "state": {
            "_model_module": "@jupyter-widgets/controls",
            "_model_module_version": "1.5.0",
            "_model_name": "DescriptionStyleModel",
            "_view_count": null,
            "_view_module": "@jupyter-widgets/base",
            "_view_module_version": "1.2.0",
            "_view_name": "StyleView",
            "description_width": ""
          }
        },
        "e3894cc293514c53a0a82a88931a6bea": {
          "model_module": "@jupyter-widgets/controls",
          "model_name": "HBoxModel",
          "model_module_version": "1.5.0",
          "state": {
            "_dom_classes": [],
            "_model_module": "@jupyter-widgets/controls",
            "_model_module_version": "1.5.0",
            "_model_name": "HBoxModel",
            "_view_count": null,
            "_view_module": "@jupyter-widgets/controls",
            "_view_module_version": "1.5.0",
            "_view_name": "HBoxView",
            "box_style": "",
            "children": [
              "IPY_MODEL_7e2f002438e44e52a45af7f638cd83bb",
              "IPY_MODEL_3fae01f1c2d941eaba23d72601b2703e",
              "IPY_MODEL_eac93cbc84e14f9da179889dffe1acfa"
            ],
            "layout": "IPY_MODEL_97c743ba98bf4f06b8919d0aa01bf00f"
          }
        },
        "7e2f002438e44e52a45af7f638cd83bb": {
          "model_module": "@jupyter-widgets/controls",
          "model_name": "HTMLModel",
          "model_module_version": "1.5.0",
          "state": {
            "_dom_classes": [],
            "_model_module": "@jupyter-widgets/controls",
            "_model_module_version": "1.5.0",
            "_model_name": "HTMLModel",
            "_view_count": null,
            "_view_module": "@jupyter-widgets/controls",
            "_view_module_version": "1.5.0",
            "_view_name": "HTMLView",
            "description": "",
            "description_tooltip": null,
            "layout": "IPY_MODEL_6d1a42768f364f738b170a177c84a42f",
            "placeholder": "​",
            "style": "IPY_MODEL_f4bf64fea41c42f7bead13c559d3648b",
            "value": "Downloading https://raw.githubusercontent.com/stanfordnlp/stanza-resources/main/resources_1.8.0.json: "
          }
        },
        "3fae01f1c2d941eaba23d72601b2703e": {
          "model_module": "@jupyter-widgets/controls",
          "model_name": "FloatProgressModel",
          "model_module_version": "1.5.0",
          "state": {
            "_dom_classes": [],
            "_model_module": "@jupyter-widgets/controls",
            "_model_module_version": "1.5.0",
            "_model_name": "FloatProgressModel",
            "_view_count": null,
            "_view_module": "@jupyter-widgets/controls",
            "_view_module_version": "1.5.0",
            "_view_name": "ProgressView",
            "bar_style": "success",
            "description": "",
            "description_tooltip": null,
            "layout": "IPY_MODEL_021fdd87a554474a84bcaa64b5f626e5",
            "max": 47693,
            "min": 0,
            "orientation": "horizontal",
            "style": "IPY_MODEL_424fbd42fe9d41bc980ed768d4ff2b52",
            "value": 47693
          }
        },
        "eac93cbc84e14f9da179889dffe1acfa": {
          "model_module": "@jupyter-widgets/controls",
          "model_name": "HTMLModel",
          "model_module_version": "1.5.0",
          "state": {
            "_dom_classes": [],
            "_model_module": "@jupyter-widgets/controls",
            "_model_module_version": "1.5.0",
            "_model_name": "HTMLModel",
            "_view_count": null,
            "_view_module": "@jupyter-widgets/controls",
            "_view_module_version": "1.5.0",
            "_view_name": "HTMLView",
            "description": "",
            "description_tooltip": null,
            "layout": "IPY_MODEL_dbfe8ba7e33c4d919620e5e6014a1b0d",
            "placeholder": "​",
            "style": "IPY_MODEL_3cfa106b88204b2bb5242bf1c3b3e70b",
            "value": " 384k/? [00:00&lt;00:00, 11.4MB/s]"
          }
        },
        "97c743ba98bf4f06b8919d0aa01bf00f": {
          "model_module": "@jupyter-widgets/base",
          "model_name": "LayoutModel",
          "model_module_version": "1.2.0",
          "state": {
            "_model_module": "@jupyter-widgets/base",
            "_model_module_version": "1.2.0",
            "_model_name": "LayoutModel",
            "_view_count": null,
            "_view_module": "@jupyter-widgets/base",
            "_view_module_version": "1.2.0",
            "_view_name": "LayoutView",
            "align_content": null,
            "align_items": null,
            "align_self": null,
            "border": null,
            "bottom": null,
            "display": null,
            "flex": null,
            "flex_flow": null,
            "grid_area": null,
            "grid_auto_columns": null,
            "grid_auto_flow": null,
            "grid_auto_rows": null,
            "grid_column": null,
            "grid_gap": null,
            "grid_row": null,
            "grid_template_areas": null,
            "grid_template_columns": null,
            "grid_template_rows": null,
            "height": null,
            "justify_content": null,
            "justify_items": null,
            "left": null,
            "margin": null,
            "max_height": null,
            "max_width": null,
            "min_height": null,
            "min_width": null,
            "object_fit": null,
            "object_position": null,
            "order": null,
            "overflow": null,
            "overflow_x": null,
            "overflow_y": null,
            "padding": null,
            "right": null,
            "top": null,
            "visibility": null,
            "width": null
          }
        },
        "6d1a42768f364f738b170a177c84a42f": {
          "model_module": "@jupyter-widgets/base",
          "model_name": "LayoutModel",
          "model_module_version": "1.2.0",
          "state": {
            "_model_module": "@jupyter-widgets/base",
            "_model_module_version": "1.2.0",
            "_model_name": "LayoutModel",
            "_view_count": null,
            "_view_module": "@jupyter-widgets/base",
            "_view_module_version": "1.2.0",
            "_view_name": "LayoutView",
            "align_content": null,
            "align_items": null,
            "align_self": null,
            "border": null,
            "bottom": null,
            "display": null,
            "flex": null,
            "flex_flow": null,
            "grid_area": null,
            "grid_auto_columns": null,
            "grid_auto_flow": null,
            "grid_auto_rows": null,
            "grid_column": null,
            "grid_gap": null,
            "grid_row": null,
            "grid_template_areas": null,
            "grid_template_columns": null,
            "grid_template_rows": null,
            "height": null,
            "justify_content": null,
            "justify_items": null,
            "left": null,
            "margin": null,
            "max_height": null,
            "max_width": null,
            "min_height": null,
            "min_width": null,
            "object_fit": null,
            "object_position": null,
            "order": null,
            "overflow": null,
            "overflow_x": null,
            "overflow_y": null,
            "padding": null,
            "right": null,
            "top": null,
            "visibility": null,
            "width": null
          }
        },
        "f4bf64fea41c42f7bead13c559d3648b": {
          "model_module": "@jupyter-widgets/controls",
          "model_name": "DescriptionStyleModel",
          "model_module_version": "1.5.0",
          "state": {
            "_model_module": "@jupyter-widgets/controls",
            "_model_module_version": "1.5.0",
            "_model_name": "DescriptionStyleModel",
            "_view_count": null,
            "_view_module": "@jupyter-widgets/base",
            "_view_module_version": "1.2.0",
            "_view_name": "StyleView",
            "description_width": ""
          }
        },
        "021fdd87a554474a84bcaa64b5f626e5": {
          "model_module": "@jupyter-widgets/base",
          "model_name": "LayoutModel",
          "model_module_version": "1.2.0",
          "state": {
            "_model_module": "@jupyter-widgets/base",
            "_model_module_version": "1.2.0",
            "_model_name": "LayoutModel",
            "_view_count": null,
            "_view_module": "@jupyter-widgets/base",
            "_view_module_version": "1.2.0",
            "_view_name": "LayoutView",
            "align_content": null,
            "align_items": null,
            "align_self": null,
            "border": null,
            "bottom": null,
            "display": null,
            "flex": null,
            "flex_flow": null,
            "grid_area": null,
            "grid_auto_columns": null,
            "grid_auto_flow": null,
            "grid_auto_rows": null,
            "grid_column": null,
            "grid_gap": null,
            "grid_row": null,
            "grid_template_areas": null,
            "grid_template_columns": null,
            "grid_template_rows": null,
            "height": null,
            "justify_content": null,
            "justify_items": null,
            "left": null,
            "margin": null,
            "max_height": null,
            "max_width": null,
            "min_height": null,
            "min_width": null,
            "object_fit": null,
            "object_position": null,
            "order": null,
            "overflow": null,
            "overflow_x": null,
            "overflow_y": null,
            "padding": null,
            "right": null,
            "top": null,
            "visibility": null,
            "width": null
          }
        },
        "424fbd42fe9d41bc980ed768d4ff2b52": {
          "model_module": "@jupyter-widgets/controls",
          "model_name": "ProgressStyleModel",
          "model_module_version": "1.5.0",
          "state": {
            "_model_module": "@jupyter-widgets/controls",
            "_model_module_version": "1.5.0",
            "_model_name": "ProgressStyleModel",
            "_view_count": null,
            "_view_module": "@jupyter-widgets/base",
            "_view_module_version": "1.2.0",
            "_view_name": "StyleView",
            "bar_color": null,
            "description_width": ""
          }
        },
        "dbfe8ba7e33c4d919620e5e6014a1b0d": {
          "model_module": "@jupyter-widgets/base",
          "model_name": "LayoutModel",
          "model_module_version": "1.2.0",
          "state": {
            "_model_module": "@jupyter-widgets/base",
            "_model_module_version": "1.2.0",
            "_model_name": "LayoutModel",
            "_view_count": null,
            "_view_module": "@jupyter-widgets/base",
            "_view_module_version": "1.2.0",
            "_view_name": "LayoutView",
            "align_content": null,
            "align_items": null,
            "align_self": null,
            "border": null,
            "bottom": null,
            "display": null,
            "flex": null,
            "flex_flow": null,
            "grid_area": null,
            "grid_auto_columns": null,
            "grid_auto_flow": null,
            "grid_auto_rows": null,
            "grid_column": null,
            "grid_gap": null,
            "grid_row": null,
            "grid_template_areas": null,
            "grid_template_columns": null,
            "grid_template_rows": null,
            "height": null,
            "justify_content": null,
            "justify_items": null,
            "left": null,
            "margin": null,
            "max_height": null,
            "max_width": null,
            "min_height": null,
            "min_width": null,
            "object_fit": null,
            "object_position": null,
            "order": null,
            "overflow": null,
            "overflow_x": null,
            "overflow_y": null,
            "padding": null,
            "right": null,
            "top": null,
            "visibility": null,
            "width": null
          }
        },
        "3cfa106b88204b2bb5242bf1c3b3e70b": {
          "model_module": "@jupyter-widgets/controls",
          "model_name": "DescriptionStyleModel",
          "model_module_version": "1.5.0",
          "state": {
            "_model_module": "@jupyter-widgets/controls",
            "_model_module_version": "1.5.0",
            "_model_name": "DescriptionStyleModel",
            "_view_count": null,
            "_view_module": "@jupyter-widgets/base",
            "_view_module_version": "1.2.0",
            "_view_name": "StyleView",
            "description_width": ""
          }
        }
      }
    }
  },
  "nbformat": 4,
  "nbformat_minor": 5
}