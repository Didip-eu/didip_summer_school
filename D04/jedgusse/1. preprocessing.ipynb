{
 "cells": [
  {
   "attachments": {},
   "cell_type": "markdown",
   "id": "cd8258c1-4e65-48f2-9260-e89530f3f193",
   "metadata": {},
   "source": [
    "# 1. Preprocessing\n",
    "\n",
    "## 1.1 What is Preprocessing?\n",
    "In this notebook, we survey some snippets of code that help 'preprocess' your corpus of medieval texts. The preprocessing of text files is an elementary but fundamental step in ensuring reliability of stylometric analyses. One could argue that especially with texts from the Middle Ages preprocessing is key and perhaps more crucial then when you are digitally analyzing texts written in periods after the invention of the printing press. Stylometry’s application to medieval texts comes with specific desiderata when compared to, for instance, authorship detection of current-day online, electronically available blog posts. As a result of manuscript culture, medieval texts can be tremendously varied. These variations can tell us much about varying editing principles, or various recensions or writing conventions across scriptoria, but more often than not they are redundant when what you want to look at is authorship and literary style.\n",
    "\n",
    "Preprocessing (potentially) entails steps such as these:\n",
    "\n",
    "* the removal and editing of all irrelevant characters in the text: punctuation, numerals, optical character recognition errors, case-folding, titles or annotations, etc …\n",
    "* ‘tokenising’ the text to meaningful units, often word tokens\n",
    "\n",
    "If so desired, preprocessing also takes care of this: \n",
    "* normalization / standardization: align variant orthographical and editorial conventions between text versions\n",
    "* disambiguation, for instance to semantically distinguish homographs.\n",
    "* stemming (recover basis stem or morphological root of word tokens\n",
    "* lemmatisation transforms word tokens to a standard dictionary form\n",
    "* PoS(part-of-speech)-tagging and parsing: identify a token’s part of speech and syntactic function\n",
    "* automated scansion for prosodic units of analysis\n"
   ]
  },
  {
   "cell_type": "markdown",
   "id": "b9134155-9064-4973-8a0b-f02857ea2495",
   "metadata": {},
   "source": [
    "## 1.2 Reading and Handling File Objects \n",
    "\n",
    "The first step is reading in your corpus of texts, so that we can start manipulating them. The steps below will be easier to follow and execute correctly if you have ensured that your file names are formatted as such: ```author-name_text-title.txt```. "
   ]
  },
  {
   "cell_type": "code",
   "execution_count": 18,
   "id": "07f5c8f2-785d-46c6-b162-9904ef3e1562",
   "metadata": {
    "scrolled": true
   },
   "outputs": [
    {
     "name": "stdout",
     "output_type": "stream",
     "text": [
      "/Users/jedgusse/Documents/UGent - Lokaal/Conferences/GRAZ - Summer School “Computational Language Technologies for Medievalists”/Graz/corpus/train/Petrus-Cellensis_Epistolae.txt\n",
      "/Users/jedgusse/Documents/UGent - Lokaal/Conferences/GRAZ - Summer School “Computational Language Technologies for Medievalists”/Graz/corpus/train/Joannes-Saresberiensis_Epistolae.txt\n",
      "/Users/jedgusse/Documents/UGent - Lokaal/Conferences/GRAZ - Summer School “Computational Language Technologies for Medievalists”/Graz/corpus/train/Hildegardis-Bingensis_Liber-diuinorum-operum.txt\n"
     ]
    }
   ],
   "source": [
    "import glob\n",
    "import os\n",
    "\n",
    "current_directory = os.getcwd() # gets current directory\n",
    "folder_path = current_directory + '/corpus/train' # gets directory path to corpus folder containing .txt files\n",
    "\n",
    "for filename in glob.glob(folder_path + '/*'):\n",
    "    print(filename)"
   ]
  },
  {
   "cell_type": "markdown",
   "id": "1c6f147a-692b-4ddf-b0bd-41f9ae119c94",
   "metadata": {},
   "source": [
    "Below is a rather large chunk of code in which a number of consecutive steps are introduced and combined. \n",
    "First, we declare empty list containers (```authors```, ```titles```, ```texts```), where we will store our metadata and data.\n",
    "We introduce our first stylometric parameter, the sample length (variable ```sample_len```)\n",
    "We then go over all files in the folder, and extract the data and metadata from the files, using the ```glob``` module.\n",
    "\n",
    "In the text itself, we use the ```re``` (RegEx Module in Python, which stands for regular expressions) which removes digits and punctuation from the text (if so desired). We also apply case folding (convert upper to lowercase).\n",
    "\n",
    "Once the data has been 'cleared' of all text items that are insignificant for stylistic analysis, we proceed by slicing up the data into discrete segments, or chunks of text."
   ]
  },
  {
   "cell_type": "code",
   "execution_count": 20,
   "id": "f84a7f20-b570-43ea-a9ca-479fed7e4ed6",
   "metadata": {},
   "outputs": [],
   "source": [
    "import re\n",
    "import glob\n",
    "from string import punctuation\n",
    "\n",
    "# Declare empty lists to fill up with our metadata and data\n",
    "authors, titles, texts = [], [], []\n",
    "\n",
    "# We declare some parameters — the 'settings' of our stylometric experiments\n",
    "sample_len = 1400 # word length of text segment\n",
    "\n",
    "# Function to clean and split text\n",
    "def clean_and_split_text(text, sample_len):\n",
    "    words = re.sub(r'[\\d%s]' % re.escape(punctuation), '', text.lower()).split()\n",
    "    return [words[i:i + sample_len] for i in range(0, len(words), sample_len)]\n",
    "\n",
    "# Open all file objects in folder and gather data\n",
    "for filename in glob.glob(folder_path + '/*'):\n",
    "    # Extract author and title from filename\n",
    "    author, title = filename.split('/')[-1].split('.')[0].split('_')[:2]\n",
    "\n",
    "    with open(filename, encoding='utf-8-sig') as file:\n",
    "        text = file.read().strip()\n",
    "        bulk = clean_and_split_text(text, sample_len)\n",
    "\n",
    "        for index, sample in enumerate(bulk):\n",
    "            if len(sample) == sample_len:\n",
    "                authors.append(author)\n",
    "                titles.append(f\"{title}_{index + 1}\")\n",
    "                texts.append(\" \".join(sample))"
   ]
  },
  {
   "attachments": {},
   "cell_type": "markdown",
   "id": "f3aa3261-e91a-453a-a06e-be82a3d08d9a",
   "metadata": {},
   "source": [
    "## 1.3 Sampling (Text Segmentation)\n",
    "\n",
    "Despite many permutations, sampling methods generally fall within one of these four categories: (a) discrete, (b) rolling, (c) random and (d) generative.\n",
    "\n",
    "* **Discrete** is as above. A longer text is sliced in discrete pieces according to a predefined fixed sample size, where the next sample picks up the trail where the previous one ended.\n",
    "* **Rolling**: makes use of a sliding window, it 'shingles' your text segments. Rolling segmentation samples the text in non-identical, partially overlapping windows instead of discrete chunks of text. It is generally considered to be a more sensitive way of linearly scanning the stylistic profile of a text, and registers how it changes from first to last word. \n",
    "* **Random**: sentences from a certain author’s entire oeuvre are randomly selected until a predefined sample length limit is reached (e.g. keep on randomly selecting until 1,000 words have been found) in order to come to an almost inexhaustible number of new, real-world representations of the author’s lexical distribution through new combinations.\n",
    "* **Generative**: closely related to random sampling, but takes the idea of inexhaustible representability of a stylistic profile one more step further. Text generation attempts to not only imitate the distribution by making use of extant text samples, but even expands a corpus by generating new text. Needless to say this is an interesting yet underexplored area of research for medieval texts. Some work has been done in this regard for Latin-writing late antique and medieval authors (Manjavacas et al. 2017).\n",
    "\n",
    "### 1.3.1 Rolling Sampling \n",
    "\n",
    "The block of code below allows you to apply a relatively easy form of sampling, that of **rolling sampling**. The `step_size`-variable specifies the number of words between the starting indices of consecutive samples. For example, if `step_size=100`, each sample starts 100 words after the previous sample. It determines the amount of overlap between consecutive samples. "
   ]
  },
  {
   "cell_type": "code",
   "execution_count": 24,
   "id": "faf30c8a-7bf3-45cb-87fc-a920064a1c21",
   "metadata": {},
   "outputs": [
    {
     "name": "stdout",
     "output_type": "stream",
     "text": [
      "['Petrus-Cellensis', 'Petrus-Cellensis', 'Petrus-Cellensis', 'Petrus-Cellensis', 'Petrus-Cellensis']\n",
      "['Epistolae-0-1400', 'Epistolae-200-1600', 'Epistolae-400-1800', 'Epistolae-600-2000', 'Epistolae-800-2200']\n"
     ]
    }
   ],
   "source": [
    "import re\n",
    "import numpy as np\n",
    "from string import punctuation\n",
    "\n",
    "# Declare empty lists to fill up with our metadata and data\n",
    "authors = []\n",
    "titles = []\n",
    "texts = []\n",
    "\n",
    "sample_len = 1400 # word length of text segment\n",
    "step_size = 200 # step size\n",
    "\n",
    "for filename in glob.glob(folder_path + '/*'):\n",
    "    author, title = filename.split(\"/\")[-1].split(\".\")[0].split(\"_\")[:2]\n",
    "    with open(filename, 'r') as file:\n",
    "        text = file.read().lower()\n",
    "        text = re.sub('[%s]' % re.escape(punctuation), '', text)\n",
    "        text = re.sub('\\d+', '', text)\n",
    "        words = text.split()\n",
    "        steps = np.arange(0, len(words), step_size)\n",
    "        for each_begin in steps:\n",
    "            sample_range = range(each_begin, each_begin + sample_len)\n",
    "            sample = [words[index] for index in sample_range if index < len(words)]\n",
    "            if len(sample) == sample_len:\n",
    "                key = '{}-{}-{}'.format(title, str(each_begin), str(each_begin + sample_len))\n",
    "                authors.append(author)\n",
    "                titles.append(key)\n",
    "                texts.append(\" \".join(sample))\n",
    "\n",
    "print(authors[:5])\n",
    "print(titles[:5])"
   ]
  },
  {
   "cell_type": "markdown",
   "id": "44623a18-21a3-4155-aac6-453252f46ae3",
   "metadata": {},
   "source": [
    "### 1.3.2 Random sampling"
   ]
  },
  {
   "cell_type": "markdown",
   "id": "cbb10930-fc5e-4f9d-9a74-049b60a17abb",
   "metadata": {},
   "source": [
    "The code block below gives you a starting point to experiment with **random sampling**. The variable `word_limit` is virtually the same as the desired `sample_len` above: it indicates how many words you want to include in your sample. `n_samples` yields the desired number of random samples per author."
   ]
  },
  {
   "cell_type": "code",
   "execution_count": 26,
   "id": "dbeb2b44-d5dc-4aef-aeda-58c0bf27c21d",
   "metadata": {},
   "outputs": [],
   "source": [
    "import re\n",
    "import glob\n",
    "from string import punctuation\n",
    "import random\n",
    "\n",
    "# Upper word limit (or sample length)\n",
    "word_limit = 1400\n",
    "n_samples = 10 # number of desired randomly generated segments per author\n",
    "\n",
    "# Function that counts the number of words in a list of sentences\n",
    "def count_words(sentences):\n",
    "    return sum(len(sentence.split()) for sentence in sentences)\n",
    "    \n",
    "# Function that samples sentences until the word limit is reached\n",
    "def sample_sentences(sentences, word_limit):\n",
    "    sampled_sentences = []\n",
    "    total_words = 0\n",
    "    remaining_sentences = sentences.copy()\n",
    "    \n",
    "    while total_words < word_limit and remaining_sentences:\n",
    "        sentence = random.choice(remaining_sentences)\n",
    "        sentence_word_count = len(sentence.split())\n",
    "        if total_words + sentence_word_count <= word_limit:\n",
    "            sampled_sentences.append(sentence)\n",
    "            total_words += sentence_word_count\n",
    "        remaining_sentences.remove(sentence)\n",
    "    \n",
    "    return sampled_sentences\n",
    "\n",
    "data = {}\n",
    "# Open all file objects in folder and gather data\n",
    "for filename in glob.glob(folder_path + '/*'):\n",
    "    # Extract author and title from filename\n",
    "    author, title = filename.split('/')[-1].split('.')[0].split('_')[:2]\n",
    "    data[author] = []\n",
    "    with open(filename, encoding='utf-8-sig') as file:\n",
    "        text = file.read().strip()\n",
    "        sentences = re.split(r'(?<!\\w\\.\\w.)(?<![A-Z][a-z]\\.)(?<=\\.|\\?)\\s', text)\n",
    "        for sentence in sentences:\n",
    "            data[author].append(sentence)\n",
    "\n",
    "# Store randomly sampled data for each author\n",
    "authors, titles, texts = [], [], []\n",
    "sampled_data = {}\n",
    "for author in data.keys():\n",
    "    sampled_data[author] = []\n",
    "for author, sentences in data.items():\n",
    "    for i in range(0, n_samples):\n",
    "        random_sample = sample_sentences(sentences, word_limit)\n",
    "        random_sample = ' '.join(random_sample)\n",
    "        title = 'sample_' + str(i+1) # indexes random samples\n",
    "        authors.append(author)\n",
    "        titles.append(title)\n",
    "        texts.append(random_sample)"
   ]
  },
  {
   "cell_type": "markdown",
   "id": "b717dd5f-ec13-43f0-9847-2006f4d3f3d6",
   "metadata": {},
   "source": [
    "## 1.4 Advanced NLP Annotation for Ancient and Medieval Languages\n",
    "\n",
    "Depending on what your source language is, you may want to **standardize** (normalize), **stem**, **lemmatize**, **tag**, **parse** or **scan** your texts. Here CLTK (The Classical Language Toolkit) can provide ways in which one could accomplish this.\n",
    "\n",
    "### [The Classical Language Toolkit](https://docs.cltk.org/en/latest/index.html)\n",
    "\n",
    "The Classical Language Toolkit (CLTK) offers natural language processing (NLP) support for the languages of Ancient, Classical, and Medieval Eurasia. Greek, Latin, Akkadian, and the Germanic languages are currently most complete.\n",
    "To install CLTK, open your Terminal, and type:\n",
    "\n",
    "`$ pip install cltk`\n",
    "\n",
    "CLTK depends on libraries `Stanza NLP` (Stanford NLP Group's official Python NLP library), `fastText` (open-source, free, lightweight library that allows users to learn text representations and text classifiers), or external dictionaries of the language you are analyzing. The CLTK will offer to download these for you.\n",
    "\n",
    "Available languages in CLTK are:\n",
    "\n",
    "* Akkadian\n",
    "* Arabic\n",
    "* Aramaic\n",
    "* Classical Chinese\n",
    "* Coptic\n",
    "* Gothic\n",
    "* Greek\n",
    "* Hindi\n",
    "* Latin\n",
    "* Middle High German\n",
    "* English\n",
    "* French\n",
    "* Old Church Slavonic\n",
    "* Old Norse\n",
    "* Pali\n",
    "* Panjabi\n",
    "* Sanskrit\n",
    "\n",
    "When you call nlp on a text, `cltk` (similar to `spaCy`) first tokenizes the text to produce a doc object. The doc is then processed in several different steps – this is also referred to as the processing pipeline. The pipeline used by the trained pipelines typically include a tagger, a lemmatizer, a parser and an entity recognizer. Each pipeline component returns the processed doc, which is then passed on to the next component."
   ]
  },
  {
   "cell_type": "code",
   "execution_count": 28,
   "id": "9d33274d-6c77-4295-856a-76aa9f81b557",
   "metadata": {},
   "outputs": [
    {
     "name": "stdout",
     "output_type": "stream",
     "text": [
      "‎𐤀 CLTK version '1.3.0'. When using the CLTK in research, please cite: https://aclanthology.org/2021.acl-demo.3/\n",
      "\n",
      "Pipeline for language 'Latin' (ISO: 'lat'): `LatinNormalizeProcess`, `LatinSpacyProcess`, `LatinEmbeddingsProcess`, `StopsProcess`, `LatinLexiconProcess`.\n",
      "\n",
      "⸖ ``LatinSpacyProcess`` using LatinCy model by Patrick Burns from https://huggingface.co/latincy . Please cite: https://arxiv.org/abs/2305.04365\n",
      "⸖ ``LatinEmbeddingsProcess`` using word2vec model by University of Oslo from http://vectors.nlpl.eu/ . Please cite: https://aclanthology.org/W17-0237/\n",
      "⸖ ``LatinLexiconProcess`` using Lewis's *An Elementary Latin Dictionary* (1890).\n",
      "\n",
      "⸎ To suppress these messages, instantiate ``NLP()`` with ``suppress_banner=True``.\n"
     ]
    }
   ],
   "source": [
    "from cltk import NLP\n",
    "import pickle # library to help save / serialize data obtained after costly performances\n",
    "\n",
    "cltk_nlp = NLP(language=\"lat\") # find the abbreviation to summon up the language of choice\n",
    "# ‎𐤀 CLTK version '1.0.11'.\n",
    "# Pipeline for language 'Latin' (ISO: 'lat'): `LatinNormalizeProcess`, `LatinStanzaProcess`, `LatinEmbeddingsProcess`, `StopsProcess`, `LatinNERProcess`, `LatinLexiconProcess`.\n",
    "\n",
    "# Will ask you to download Stanza NLP library on which CLTK depends.\n",
    "# If it asks that, it is safe to download these in order to optimize performance.\n",
    "\n",
    "# Note that cltk_nlp.analyze() (i.e. tokenization, PoS-tagging, lemmatization, morphology, NER, syntax, etc.) can take some time\n",
    "cltk_docs = []\n",
    "for segment in texts[:1]:  # [:1] is a slicing operation where we only look at first segment of corpus\n",
    "    cltk_doc = cltk_nlp.analyze(text=segment) # returns variety of linguistic features and annotations\n",
    "    cltk_docs.append(cltk_doc)\n",
    "\n",
    "# Considering that tokenizing, lemmatizing, tagging, etc. your texts of choice can be a rather costly operation\n",
    "# to perform computationally (it takes quite a bit of time), it can be convenient to store your data in a serialized \n",
    "# data format (converted into a saved, reconstructable format) which can later be deserialized and called.\n",
    "with open(current_directory + '/output/cltk_docs.pkl', 'wb') as f:\n",
    "    pickle.dump(cltk_docs, f)"
   ]
  },
  {
   "cell_type": "code",
   "execution_count": 32,
   "id": "d164ea84-9d23-40af-8c4c-78cf66a0a2f6",
   "metadata": {},
   "outputs": [
    {
     "name": "stdout",
     "output_type": "stream",
     "text": [
      "['Utinam', 'radios', 'suos', 'libere', ',']\n",
      "['Utinam', 'radius', 'suus', 'libere', ',']\n",
      "['ADV', 'NOUN', 'ADJ', 'ADV', 'PUNCT']\n"
     ]
    }
   ],
   "source": [
    "from cltk import NLP\n",
    "import pickle\n",
    "\n",
    "# Load the data from the pickle file\n",
    "with open(current_directory + '/output/cltk_docs.pkl', 'rb') as f:\n",
    "    cltk_docs = pickle.load(f)\n",
    "\n",
    "# Print the loaded data\n",
    "for cltk_doc in cltk_docs: # extract annotations from the NLP doc object\n",
    "    tokens = cltk_doc.tokens\n",
    "    lemmata = cltk_doc.lemmata\n",
    "    pos_tags = cltk_doc.pos\n",
    "\n",
    "print(tokens[:5])\n",
    "print(lemmata[:5])\n",
    "print(pos_tags[:5])"
   ]
  },
  {
   "attachments": {},
   "cell_type": "markdown",
   "id": "2c3bffe5-1319-4080-9ec2-07781164a49d",
   "metadata": {},
   "source": [
    "## 1.5 Semantic Features: Word Embeddings\n",
    "\n",
    "A distinct and somewhat more advanced field is that of **semantic word embeddings**, which focus on features that encapsulate 'semantic' information. Here, we cannot but address a few principles that —at this point— may be not entirely clear yet, but will, at a later stage in notebook 4, become much clearer. \n",
    "\n",
    "The least technical way to explain embeddings, its fundamental premise, in other words, is that the meaning of a word can be inferred from the contexts in which it occurs: **you can understand a word by the company it keeps**. \n",
    "\n",
    "### 1.5.1 Base Principles of Word Embeddings\n",
    "\n",
    "An ‘embedding’ is simply an alternative naming for ‘vector representation of a word’, i.e. a word represented in ‘some vector space’. In other words, word embeddings work as **vector representations** (which we wil learn more about in the next notebook). \n",
    "\n",
    "A word embedding typically starts out by representing a word as a so-called **one-hot vector**:\n",
    "\n",
    "`sparse = [0, 0, 1, 0, ... , n]`  \n",
    "Where *n* signifies number of encountered words in the corpus. The column where `1` occurs, is what identifies the word within the vocabulary.\n",
    "\n",
    "In a vocabulary containing 3 words, one-hot vectors would look like this:\n",
    "\n",
    "| the      | quick |  brown |\n",
    "| ----------- | ----------- | -----------|\n",
    "| 1 | 0 | 0 | \n",
    "| 0 | 1 | 0  |\n",
    "| 0 | 0 | 1 |\n",
    "\n",
    "One-hot vectors are so-called **sparse** representations, i.e. containing `0`'s except a single `1`. The length of the vector equals the total vocabulary size. Word embedding models at first turn these sparse representations into dense ones. In so doing, they are virtually 2-layer **neural networks**.  \n",
    "At first, the word gains a random dense representation of a fixed, lower dimensionality (e.g. vector length of 3, such as here):\n",
    "\n",
    "`dense = [0.2, 0.1, 0.4]`  \n",
    "Where *n* is 3.\n",
    "\n",
    "Consequently, through training, these dense representations are 'transformed' in order to better represent the word by its context. The idea is that **words with similar meanings will have similar vector representations**. To accomplish this, the model minimizes a loss function (minimizes its prediction error), where vectors of those words frequently appearing in similar contexts end up having similar vectors.\n",
    "\n",
    "The model trains itself to look at a target word's 'context window' (either larger of smaller values that indicate the *k* neighbours to take into account) and in iteratively adjusting the embedding matrix, keeps track of significant word relationships.\n",
    "\n",
    "#### Example Sentence:\n",
    "\"The quick brown fox jumps over the lazy dog\"\n",
    "\n",
    "#### Context Window Size: 2\n",
    "\n",
    "| Target Word | Context Words             |\n",
    "|-------------|----------------------------|\n",
    "| The         | quick, brown               |\n",
    "| quick       | The, brown, fox            |\n",
    "| brown       | The, quick, fox, jumps     |\n",
    "| fox         | quick, brown, jumps, over  |\n",
    "| jumps       | brown, fox, over, the      |\n",
    "| over        | fox, jumps, the, lazy      |\n",
    "| the         | jumps, over, lazy, dog     |\n",
    "| lazy        | over, the, dog             |\n",
    "| dog         | the, lazy                  |\n",
    "\n"
   ]
  },
  {
   "cell_type": "markdown",
   "id": "9c4b807a-a685-4265-848f-0162c2382f61",
   "metadata": {},
   "source": [
    "### 1.5.2 Training and Pre-Trained Embeddings\n",
    "\n",
    "Word embeddings can be trained on our own given corpus of texts by using packages like `Gensim`, a free open source Python library. This can be quite useful and informative to get a hang of how this algorithm works. However, in order to save time, make your findings more replicable, and guarantee higher quality, we can also use **pre-trained embeddings**.\n",
    "\n",
    "Word representation methods such as `word2vec`and `FastText` (developed by Facebook) can be used in Python to load already **pre-trained embeddings**, or to declare a new model to train on your own data. These models are trained on Wikipedia and Common Crawl data. You will need to have the FastText library installed to work with FastText models, especially if you need to load models that are in FastText's binary format. Gensim can interface with FastText models, but having the FastText library installed ensures compatibility and provides additional functionalities.\n",
    "\n",
    "For Latin, it is possible to **download and compress** the files by typing the below. \n",
    "**Be careful, this will take some time to download.**"
   ]
  },
  {
   "cell_type": "code",
   "execution_count": null,
   "id": "cccd8ed5-c5e7-411b-b9cd-c5c9d75a151c",
   "metadata": {
    "scrolled": true
   },
   "outputs": [],
   "source": [
    "# Be careful, running this block launches a download\n",
    "import fasttext.util\n",
    "# ft = fasttext.load_model('cc.la.300.bin')\n",
    "ft = fasttext.load_model('/Users/jedgusse/cc.la.300.bin')\n",
    "# If you get: \"ValueError: cc.la.300.bin cannot be opened for loading!\" - try to specify the full path name to the vectors file"
   ]
  },
  {
   "cell_type": "markdown",
   "id": "bc996870-1312-4a9d-8b84-0033d0954d36",
   "metadata": {},
   "source": [
    "Once you have downloaded the file containing the pre-trained vectors, you can can load an embeddings-model using the Python lines given below. Note that it may be the case that you will have to specify the full path name when loading the model with the line `ft = fasttext.load_model('')`."
   ]
  },
  {
   "cell_type": "code",
   "execution_count": null,
   "id": "5a5e020d-cded-45f0-ba89-13e60de12a2e",
   "metadata": {},
   "outputs": [],
   "source": [
    "import fasttext.util\n",
    "fasttext.util.download_model('la', if_exists='ignore')  # 'la' for Latin"
   ]
  },
  {
   "attachments": {},
   "cell_type": "markdown",
   "id": "3fbbde9a-f390-4a7f-aa30-a3ff50aa3239",
   "metadata": {},
   "source": [
    "When you run the block of code below, you will print the full vector representation (in 300 dimensions) of the word 'abbas'. Feel free to try out a few other Latin words.\n",
    "\n",
    "When training a word-embeddings model, the **dimensionality** of the vector space can in fact be chosen. Commonly used dimensions in research are 100, 200, and 300 (such as here). These provide a good starting point. Best practice has it that you train models with different vector sizes (e.g., 50, 100, 200, 300). Consequently, you evaluate the performance of these models on your specific task (e.g., word similarity, text classification, etc. — see notebook 4). The corpus size and language complexity can also be significant factors in deciding on dimensionality. \tThe ‘attributes’ (i.e. features, each dimension of the matrix that constitutes a ‘king’ to being a ‘king’) are not explicit or determinable. They are weighted / calculated by the algorithm through relations with other words\r\n"
   ]
  },
  {
   "cell_type": "code",
   "execution_count": 192,
   "id": "13b034ac-458c-48c6-96a1-d3d22ea07254",
   "metadata": {},
   "outputs": [
    {
     "name": "stdout",
     "output_type": "stream",
     "text": [
      "Continuous vector representation for abbatissa:\n",
      "[ 0.06 -0.04 -0.    0.05 -0.11 -0.01 -0.01 -0.05 -0.02  0.02  0.02  0.01\n",
      "  0.02 -0.02  0.    0.03  0.04  0.01 -0.    0.    0.01 -0.03 -0.01 -0.04\n",
      " -0.01 -0.02 -0.09 -0.01 -0.01 -0.06  0.   -0.03  0.04 -0.01  0.04  0.02\n",
      " -0.02  0.01  0.01  0.02 -0.02 -0.11  0.03  0.    0.    0.08 -0.03 -0.02\n",
      " -0.04 -0.01  0.01 -0.03  0.05 -0.02  0.03  0.02 -0.04  0.03 -0.03  0.02\n",
      "  0.02 -0.01 -0.01  0.06  0.01 -0.04  0.02 -0.02 -0.01 -0.03  0.03 -0.02\n",
      "  0.01 -0.03  0.02 -0.02  0.05 -0.08 -0.03  0.04 -0.01 -0.05 -0.    0.08\n",
      "  0.04  0.02 -0.05  0.02  0.    0.03 -0.01  0.02 -0.04  0.03  0.02 -0.03\n",
      "  0.   -0.05  0.07 -0.01 -0.04 -0.01  0.01  0.01  0.06  0.03  0.01 -0.04\n",
      " -0.02  0.02 -0.01  0.03  0.02  0.04  0.04 -0.    0.05 -0.02 -0.01 -0.01\n",
      " -0.03 -0.03 -0.05 -0.02  0.04  0.05 -0.01 -0.04  0.03 -0.03  0.03 -0.03\n",
      " -0.07 -0.01 -0.01  0.03  0.04  0.06 -0.05 -0.03  0.04  0.01  0.    0.01\n",
      " -0.03  0.04 -0.04 -0.02 -0.06 -0.02  0.02 -0.02 -0.01 -0.    0.03  0.02\n",
      " -0.04 -0.03 -0.01  0.01  0.02 -0.    0.    0.04 -0.03  0.07  0.01  0.01\n",
      " -0.03  0.01  0.02  0.03  0.04  0.01  0.03 -0.02 -0.05  0.03  0.02  0.06\n",
      "  0.    0.03  0.03  0.03  0.06  0.04  0.    0.01 -0.01 -0.02  0.01  0.01\n",
      "  0.01  0.02 -0.01  0.01  0.01  0.08  0.04  0.03 -0.01  0.1   0.03  0.02\n",
      " -0.03  0.03  0.03  0.04  0.03  0.01  0.06 -0.04 -0.   -0.01  0.02 -0.05\n",
      " -0.02 -0.02  0.01 -0.04 -0.01  0.05 -0.03  0.02 -0.03 -0.02 -0.    0.03\n",
      "  0.05 -0.02 -0.02 -0.13  0.04 -0.02  0.   -0.03 -0.01 -0.07  0.04  0.02\n",
      " -0.04 -0.02 -0.01 -0.06 -0.02 -0.   -0.04  0.05  0.03 -0.08  0.02  0.01\n",
      "  0.01  0.01  0.    0.03  0.03 -0.02  0.03  0.   -0.01  0.01  0.    0.\n",
      "  0.03  0.02 -0.04 -0.01  0.01  0.01  0.01  0.01 -0.02  0.01 -0.02 -0.04\n",
      " -0.05 -0.01 -0.08  0.06 -0.02 -0.03 -0.01 -0.02 -0.02  0.02 -0.02 -0.02\n",
      " -0.04 -0.01  0.05 -0.04 -0.01 -0.01 -0.01 -0.08  0.02  0.01  0.03  0.  ]\n",
      "Dimension of word vector for 'abbatissa':\n"
     ]
    },
    {
     "data": {
      "text/plain": [
       "(300,)"
      ]
     },
     "execution_count": 192,
     "metadata": {},
     "output_type": "execute_result"
    }
   ],
   "source": [
    "import numpy as np\n",
    "np.set_printoptions(suppress=True, precision=2) # suppresses scientific notation \n",
    "\n",
    "print(\"Continuous vector representation for abbatissa:\")\n",
    "print(ft.get_word_vector('abbatissa'))\n",
    "print(\"Dimension of word vector for 'abbatissa':\")\n",
    "ft.get_word_vector('abbatissa').shape"
   ]
  },
  {
   "cell_type": "markdown",
   "id": "a2ee0e06-ed11-4a64-8777-2335067737cf",
   "metadata": {},
   "source": [
    "Consequently, by launching `ft.get_nearest_neighbors` you can look at the *k* words that are most similar to the input word. These similarities are not always easily explained in one sense. Sometimes they are clearly semantic, but you will also notice by looking at the list of nearest neighbors that embeddings pick up on some orthographical or morphological variations of the word, or even to words that look like or sound like the word in question."
   ]
  },
  {
   "cell_type": "code",
   "execution_count": 194,
   "id": "8b1a4d55-a03b-44e6-a124-3ba50a3798f6",
   "metadata": {},
   "outputs": [
    {
     "name": "stdout",
     "output_type": "stream",
     "text": [
      "[(0.8354274034500122, 'abbatissas'), (0.8308930993080139, 'abbatissae'), (0.7990221381187439, 'abbatissam'), (0.7571409344673157, 'Abbatissa'), (0.7449652552604675, 'abatissa'), (0.7117032408714294, 'abbatiace'), (0.693352460861206, 'abbati'), (0.6908366084098816, 'Abatissa'), (0.664496660232544, 'abbatiis'), (0.6616677641868591, 'abbatio')]\n"
     ]
    }
   ],
   "source": [
    "similar_words = ft.get_nearest_neighbors('abbatissa', k=10) # k indicates number of neighbors\n",
    "print(similar_words)"
   ]
  },
  {
   "cell_type": "code",
   "execution_count": 157,
   "id": "0c69ae56-c8af-49ff-9547-48503248ba09",
   "metadata": {},
   "outputs": [],
   "source": [
    "import numpy as np\n",
    "\n",
    "words_of_interest = ['herba', 'planta', 'folia', 'flores', 'radix', 'fructus', 'semen', 'herbarium', 'species', 'genus', 'familia', 'habitat', 'cultivar', 'virtus', 'usus', 'dosage', 'infusio', 'decoctio', 'extractum', 'tinctura', 'deus', 'trinitas', 'incarnatio', 'salvatio', 'redemptio', 'fides', 'gratia', 'peccatum', 'caritas', 'ecclesia', 'sacramentum', 'veritas', 'revelatio', 'sanctus', 'mysterium', 'divinitas', 'humanitas', 'oratio', 'aeternitas', 'regnum dei']\n",
    "embeddings = []\n",
    "for word in words_of_interest: \n",
    "    embedding = ft.get_word_vector(word)\n",
    "    embeddings.append(embedding)\n",
    "embeddings = np.array(embeddings)"
   ]
  },
  {
   "cell_type": "code",
   "execution_count": 153,
   "id": "793002e3-5a75-4f26-9c41-25c921d635cc",
   "metadata": {},
   "outputs": [
    {
     "name": "stdout",
     "output_type": "stream",
     "text": [
      "0.3968897 0.31081885 -0.34170175\n",
      "0.32206786 0.19227314 -0.09210095\n",
      "0.8468242 0.3253077 0.40375945\n",
      "0.40829 0.20305423 0.27790022\n",
      "0.17325255 -0.023963481 -0.3998872\n",
      "0.1816983 0.1601803 0.109512165\n",
      "0.06884486 0.17496581 -0.14391029\n",
      "0.093721844 0.0052899886 -0.037726197\n",
      "0.07027895 -0.016717032 -0.101127766\n",
      "-0.11103207 0.07120903 0.018635742\n",
      "0.030826915 -0.080683686 -0.12513061\n",
      "-0.114062555 -0.062016178 -0.1900469\n",
      "0.047268562 -0.047883015 -0.07857579\n",
      "-0.15351956 0.04211161 0.06144528\n",
      "-0.054071322 0.012873022 0.17858072\n",
      "-0.014624153 -0.116159275 -0.07191816\n",
      "0.056757268 0.010006836 -0.013059282\n",
      "0.023610128 -0.0708372 -0.029698212\n",
      "0.05447578 -0.07981991 -0.12830195\n",
      "0.08742356 0.007189196 -0.076551385\n",
      "-0.7238395 1.0080884 0.005538418\n",
      "-0.14221194 -0.041990146 0.025681637\n",
      "-0.08427032 -0.09845434 -0.016334845\n",
      "-0.13310839 -0.08712656 0.005526795\n",
      "-0.02485375 -0.14205614 0.024294093\n",
      "-0.26040074 -0.13785923 0.72907996\n",
      "-0.014207685 -0.09348761 0.006226776\n",
      "-0.101119064 -0.074807584 0.00039694563\n",
      "-0.155093 -0.15679155 0.015524876\n",
      "0.011800731 -0.10591635 -0.00469977\n",
      "-0.005647985 -0.1158675 -0.038443863\n",
      "-0.12406972 -0.16479748 0.036520816\n",
      "-0.08193274 -0.16155055 0.021461189\n",
      "-0.115458675 -0.008027691 -0.07044276\n",
      "-0.11382131 -0.09468148 0.04645097\n",
      "-0.15921193 -0.03978826 -0.015254654\n",
      "-0.07161038 -0.082593836 0.025577405\n",
      "0.0035394838 -0.23997916 0.062515564\n",
      "-0.097308904 -0.09192167 -0.022302309\n",
      "-0.022095492 -0.08759176 -0.05741472\n"
     ]
    },
    {
     "data": {
      "image/png": "[encoded data removed]",
      "text/plain": [
       "<Figure size 640x480 with 1 Axes>"
      ]
     },
     "metadata": {},
     "output_type": "display_data"
    }
   ],
   "source": [
    "from datetime import datetime\n",
    "from sklearn.decomposition import PCA\n",
    "from sklearn.preprocessing import Normalizer, StandardScaler, FunctionTransformer, MinMaxScaler\n",
    "import matplotlib.colors as mcolors\n",
    "import matplotlib.pyplot as plt\n",
    "import random\n",
    "import os\n",
    "\n",
    "pca = PCA(n_components=3)\n",
    "\n",
    "X_bar = pca.fit_transform(embeddings) # dimensionality reduction\n",
    "\n",
    "# Extract the explained variance\n",
    "var_exp = pca.explained_variance_ratio_\n",
    "var_pc1 = np.round(var_exp[0]*100, decimals=2)\n",
    "var_pc2 = np.round(var_exp[1]*100, decimals=2)\n",
    "var_pc3 = np.round(var_exp[2]*100, decimals=2)\n",
    "explained_variance = np.round(sum(pca.explained_variance_ratio_)*100, decimals=2)\n",
    "\n",
    "# Make scatterplot\n",
    "\n",
    "fig = plt.figure()\n",
    "ax = fig.add_subplot(111, projection='3d')\n",
    "\n",
    "x1, x2, x3 = X_bar[:,0], X_bar[:,1], X_bar[:,2]\n",
    "\n",
    "for p1, p2, p3, word in zip(x1, x2, x3, words_of_interest):\n",
    "    print(p1, p2, p3)\n",
    "    ax.scatter(p1, p2, p3, color='k',s=3)\n",
    "    ax.text(p1, p2, p3, s=word, fontdict={'size': 4})\n",
    "\n",
    "ax.set_xlabel('PC 1: {}%'.format(var_pc1))\n",
    "ax.set_ylabel('PC 2: {}%'.format(var_pc2))\n",
    "ax.set_zlabel('PC 3: {}%'.format(var_pc3))\n",
    "\n",
    "plt.show()\n",
    "\n",
    "current_directory = os.getcwd() # gets current directory\n",
    "# Get the current time\n",
    "current_time = datetime.now()\n",
    "# Format the current time as a string\n",
    "formatted_time = current_time.strftime(\"date %d-%m at %Hh%Mm\")\n",
    "fig.savefig(current_directory + '/output/embeddings-3D-{}.png'.format(current_time), dpi=300, transparent=True, format='png')"
   ]
  }
 ],
 "metadata": {
  "kernelspec": {
   "display_name": "Python 3 (ipykernel)",
   "language": "python",
   "name": "python3"
  },
  "language_info": {
   "codemirror_mode": {
    "name": "ipython",
    "version": 3
   },
   "file_extension": ".py",
   "mimetype": "text/x-python",
   "name": "python",
   "nbconvert_exporter": "python",
   "pygments_lexer": "ipython3",
   "version": "3.11.7"
  }
 },
 "nbformat": 4,
 "nbformat_minor": 5
}
