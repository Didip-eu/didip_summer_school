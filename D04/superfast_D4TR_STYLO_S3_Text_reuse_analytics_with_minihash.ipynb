{
 "cells": [
  {
   "cell_type": "code",
   "execution_count": 15,
   "metadata": {
    "id": "6FGsQfNxvxg7"
   },
   "outputs": [
    {
     "name": "stdout",
     "output_type": "stream",
     "text": [
      "\u001b[33mDEPRECATION: Loading egg at /home/anguelos/.local/lib/python3.11/site-packages/torchvision-0.15.2-py3.11-linux-x86_64.egg is deprecated. pip 24.3 will enforce this behaviour change. A possible replacement is to use pip for package installation.. Discussion can be found at https://github.com/pypa/pip/issues/12330\u001b[0m\u001b[33m\n",
      "\u001b[0m\u001b[33mDEPRECATION: Loading egg at /home/anguelos/.local/lib/python3.11/site-packages/fonttools-4.42.1-py3.11.egg is deprecated. pip 24.3 will enforce this behaviour change. A possible replacement is to use pip for package installation.. Discussion can be found at https://github.com/pypa/pip/issues/12330\u001b[0m\u001b[33m\n",
      "\u001b[0m\u001b[33mDEPRECATION: Loading egg at /home/anguelos/anaconda3/envs/kraken_2/lib/python3.11/site-packages/werkzeug-3.0.1-py3.11.egg is deprecated. pip 24.3 will enforce this behaviour change. A possible replacement is to use pip for package installation.. Discussion can be found at https://github.com/pypa/pip/issues/12330\u001b[0m\u001b[33m\n",
      "\u001b[0m\u001b[33mDEPRECATION: Loading egg at /home/anguelos/anaconda3/envs/kraken_2/lib/python3.11/site-packages/flask-3.0.2-py3.11.egg is deprecated. pip 24.3 will enforce this behaviour change. A possible replacement is to use pip for package installation.. Discussion can be found at https://github.com/pypa/pip/issues/12330\u001b[0m\u001b[33m\n",
      "\u001b[0m\u001b[33mDEPRECATION: Loading egg at /home/anguelos/anaconda3/envs/kraken_2/lib/python3.11/site-packages/cachelib-0.12.0-py3.11.egg is deprecated. pip 24.3 will enforce this behaviour change. A possible replacement is to use pip for package installation.. Discussion can be found at https://github.com/pypa/pip/issues/12330\u001b[0m\u001b[33m\n",
      "\u001b[0m\u001b[33mDEPRECATION: Loading egg at /home/anguelos/anaconda3/envs/kraken_2/lib/python3.11/site-packages/aniso8601-9.0.1-py3.11.egg is deprecated. pip 24.3 will enforce this behaviour change. A possible replacement is to use pip for package installation.. Discussion can be found at https://github.com/pypa/pip/issues/12330\u001b[0m\u001b[33m\n",
      "\u001b[0m\u001b[33mDEPRECATION: Loading egg at /home/anguelos/anaconda3/envs/kraken_2/lib/python3.11/site-packages/blinker-1.7.0-py3.11.egg is deprecated. pip 24.3 will enforce this behaviour change. A possible replacement is to use pip for package installation.. Discussion can be found at https://github.com/pypa/pip/issues/12330\u001b[0m\u001b[33m\n",
      "\u001b[0m\u001b[33mDEPRECATION: Loading egg at /home/anguelos/anaconda3/envs/kraken_2/lib/python3.11/site-packages/Flask_RESTful-0.3.10-py3.11.egg is deprecated. pip 24.3 will enforce this behaviour change. A possible replacement is to use pip for package installation.. Discussion can be found at https://github.com/pypa/pip/issues/12330\u001b[0m\u001b[33m\n",
      "\u001b[0m\u001b[33mDEPRECATION: Loading egg at /home/anguelos/anaconda3/envs/kraken_2/lib/python3.11/site-packages/itsdangerous-2.1.2-py3.11.egg is deprecated. pip 24.3 will enforce this behaviour change. A possible replacement is to use pip for package installation.. Discussion can be found at https://github.com/pypa/pip/issues/12330\u001b[0m\u001b[33m\n",
      "\u001b[0m\u001b[33mDEPRECATION: Loading egg at /home/anguelos/.local/lib/python3.11/site-packages/torchvision-0.15.2-py3.11-linux-x86_64.egg is deprecated. pip 24.3 will enforce this behaviour change. A possible replacement is to use pip for package installation.. Discussion can be found at https://github.com/pypa/pip/issues/12330\u001b[0m\u001b[33m\n",
      "\u001b[0m\u001b[33mDEPRECATION: Loading egg at /home/anguelos/.local/lib/python3.11/site-packages/fonttools-4.42.1-py3.11.egg is deprecated. pip 24.3 will enforce this behaviour change. A possible replacement is to use pip for package installation.. Discussion can be found at https://github.com/pypa/pip/issues/12330\u001b[0m\u001b[33m\n",
      "\u001b[0m\u001b[33mDEPRECATION: Loading egg at /home/anguelos/anaconda3/envs/kraken_2/lib/python3.11/site-packages/werkzeug-3.0.1-py3.11.egg is deprecated. pip 24.3 will enforce this behaviour change. A possible replacement is to use pip for package installation.. Discussion can be found at https://github.com/pypa/pip/issues/12330\u001b[0m\u001b[33m\n",
      "\u001b[0m\u001b[33mDEPRECATION: Loading egg at /home/anguelos/anaconda3/envs/kraken_2/lib/python3.11/site-packages/flask-3.0.2-py3.11.egg is deprecated. pip 24.3 will enforce this behaviour change. A possible replacement is to use pip for package installation.. Discussion can be found at https://github.com/pypa/pip/issues/12330\u001b[0m\u001b[33m\n",
      "\u001b[0m\u001b[33mDEPRECATION: Loading egg at /home/anguelos/anaconda3/envs/kraken_2/lib/python3.11/site-packages/cachelib-0.12.0-py3.11.egg is deprecated. pip 24.3 will enforce this behaviour change. A possible replacement is to use pip for package installation.. Discussion can be found at https://github.com/pypa/pip/issues/12330\u001b[0m\u001b[33m\n",
      "\u001b[0m\u001b[33mDEPRECATION: Loading egg at /home/anguelos/anaconda3/envs/kraken_2/lib/python3.11/site-packages/aniso8601-9.0.1-py3.11.egg is deprecated. pip 24.3 will enforce this behaviour change. A possible replacement is to use pip for package installation.. Discussion can be found at https://github.com/pypa/pip/issues/12330\u001b[0m\u001b[33m\n",
      "\u001b[0m\u001b[33mDEPRECATION: Loading egg at /home/anguelos/anaconda3/envs/kraken_2/lib/python3.11/site-packages/blinker-1.7.0-py3.11.egg is deprecated. pip 24.3 will enforce this behaviour change. A possible replacement is to use pip for package installation.. Discussion can be found at https://github.com/pypa/pip/issues/12330\u001b[0m\u001b[33m\n",
      "\u001b[0m\u001b[33mDEPRECATION: Loading egg at /home/anguelos/anaconda3/envs/kraken_2/lib/python3.11/site-packages/Flask_RESTful-0.3.10-py3.11.egg is deprecated. pip 24.3 will enforce this behaviour change. A possible replacement is to use pip for package installation.. Discussion can be found at https://github.com/pypa/pip/issues/12330\u001b[0m\u001b[33m\n",
      "\u001b[0m\u001b[33mDEPRECATION: Loading egg at /home/anguelos/anaconda3/envs/kraken_2/lib/python3.11/site-packages/itsdangerous-2.1.2-py3.11.egg is deprecated. pip 24.3 will enforce this behaviour change. A possible replacement is to use pip for package installation.. Discussion can be found at https://github.com/pypa/pip/issues/12330\u001b[0m\u001b[33m\n",
      "\u001b[0m\u001b[33mDEPRECATION: Loading egg at /home/anguelos/.local/lib/python3.11/site-packages/torchvision-0.15.2-py3.11-linux-x86_64.egg is deprecated. pip 24.3 will enforce this behaviour change. A possible replacement is to use pip for package installation.. Discussion can be found at https://github.com/pypa/pip/issues/12330\u001b[0m\u001b[33m\n",
      "\u001b[0m\u001b[33mDEPRECATION: Loading egg at /home/anguelos/.local/lib/python3.11/site-packages/fonttools-4.42.1-py3.11.egg is deprecated. pip 24.3 will enforce this behaviour change. A possible replacement is to use pip for package installation.. Discussion can be found at https://github.com/pypa/pip/issues/12330\u001b[0m\u001b[33m\n",
      "\u001b[0m\u001b[33mDEPRECATION: Loading egg at /home/anguelos/anaconda3/envs/kraken_2/lib/python3.11/site-packages/werkzeug-3.0.1-py3.11.egg is deprecated. pip 24.3 will enforce this behaviour change. A possible replacement is to use pip for package installation.. Discussion can be found at https://github.com/pypa/pip/issues/12330\u001b[0m\u001b[33m\n",
      "\u001b[0m\u001b[33mDEPRECATION: Loading egg at /home/anguelos/anaconda3/envs/kraken_2/lib/python3.11/site-packages/flask-3.0.2-py3.11.egg is deprecated. pip 24.3 will enforce this behaviour change. A possible replacement is to use pip for package installation.. Discussion can be found at https://github.com/pypa/pip/issues/12330\u001b[0m\u001b[33m\n",
      "\u001b[0m\u001b[33mDEPRECATION: Loading egg at /home/anguelos/anaconda3/envs/kraken_2/lib/python3.11/site-packages/cachelib-0.12.0-py3.11.egg is deprecated. pip 24.3 will enforce this behaviour change. A possible replacement is to use pip for package installation.. Discussion can be found at https://github.com/pypa/pip/issues/12330\u001b[0m\u001b[33m\n",
      "\u001b[0m\u001b[33mDEPRECATION: Loading egg at /home/anguelos/anaconda3/envs/kraken_2/lib/python3.11/site-packages/aniso8601-9.0.1-py3.11.egg is deprecated. pip 24.3 will enforce this behaviour change. A possible replacement is to use pip for package installation.. Discussion can be found at https://github.com/pypa/pip/issues/12330\u001b[0m\u001b[33m\n",
      "\u001b[0m\u001b[33mDEPRECATION: Loading egg at /home/anguelos/anaconda3/envs/kraken_2/lib/python3.11/site-packages/blinker-1.7.0-py3.11.egg is deprecated. pip 24.3 will enforce this behaviour change. A possible replacement is to use pip for package installation.. Discussion can be found at https://github.com/pypa/pip/issues/12330\u001b[0m\u001b[33m\n",
      "\u001b[0m\u001b[33mDEPRECATION: Loading egg at /home/anguelos/anaconda3/envs/kraken_2/lib/python3.11/site-packages/Flask_RESTful-0.3.10-py3.11.egg is deprecated. pip 24.3 will enforce this behaviour change. A possible replacement is to use pip for package installation.. Discussion can be found at https://github.com/pypa/pip/issues/12330\u001b[0m\u001b[33m\n",
      "\u001b[0m\u001b[33mDEPRECATION: Loading egg at /home/anguelos/anaconda3/envs/kraken_2/lib/python3.11/site-packages/itsdangerous-2.1.2-py3.11.egg is deprecated. pip 24.3 will enforce this behaviour change. A possible replacement is to use pip for package installation.. Discussion can be found at https://github.com/pypa/pip/issues/12330\u001b[0m\u001b[33m\n",
      "\u001b[0m"
     ]
    }
   ],
   "source": [
    "!pip install datasketch --quiet\n",
    "!pip install tqdm --quiet\n",
    "!pip install pyvis --quiet\n",
    "!pip install scipy --quiet\n",
    "!pip install numpy --quiet"
   ]
  },
  {
   "cell_type": "code",
   "execution_count": 86,
   "metadata": {},
   "outputs": [
    {
     "name": "stdout",
     "output_type": "stream",
     "text": [
      "/home/anguelos/tmp/didip_ss/DATA\n"
     ]
    }
   ],
   "source": [
    "!pwd"
   ]
  },
  {
   "cell_type": "code",
   "execution_count": null,
   "metadata": {
    "colab": {
     "base_uri": "https://localhost:8080/"
    },
    "id": "B8-PRx2GxnO4",
    "outputId": "62e6dcfc-cd51-4af2-ff0e-f7d58b802aad"
   },
   "outputs": [
    {
     "name": "stdout",
     "output_type": "stream",
     "text": [
      "Mounted at /content/drive/\n"
     ]
    }
   ],
   "source": [
    "# Import Google Drive\n",
    "from google.colab import drive\n",
    "drive.mount('/content/drive/')"
   ]
  },
  {
   "cell_type": "code",
   "execution_count": null,
   "metadata": {
    "colab": {
     "base_uri": "https://localhost:8080/"
    },
    "id": "USGnuc57xxmp",
    "outputId": "220579c9-141d-471c-a597-b605556b7217"
   },
   "outputs": [
    {
     "name": "stdout",
     "output_type": "stream",
     "text": [
      "/content/drive/MyDrive/didip_ss/DATA\n"
     ]
    }
   ],
   "source": [
    "%cd /content/drive/MyDrive/didip_ss/DATA"
   ]
  },
  {
   "cell_type": "code",
   "execution_count": 3,
   "metadata": {
    "colab": {
     "base_uri": "https://localhost:8080/"
    },
    "id": "xrYHcOS0yZ1p",
    "outputId": "a2facda5-0148-40a0-aca1-8e0519ed5ebb"
   },
   "outputs": [
    {
     "name": "stdout",
     "output_type": "stream",
     "text": [
      "/home/anguelos/tmp/didip_ss/DATA\n"
     ]
    }
   ],
   "source": [
    "%cd ../DATA"
   ]
  },
  {
   "cell_type": "markdown",
   "metadata": {
    "id": "QuYqIgBp3B3E"
   },
   "source": [
    "# Text reuse analytics with MiniHash\n",
    "\n",
    "This code is designed to find similar text passages between two datasets (a simlified part of the TRACE: https://github.com/kreeedit/trace), which could be useful for plagiarism detection, document similarity analysis, or identifying common themes across different text corpora.\n",
    "\n",
    "**Preprocessing**\n",
    "\n",
    "This function standardizes the text for consistent processing.\n",
    "- Removes extra whitespace\n",
    "- Converts text to lowercase\n",
    "- Removes punctuation\n",
    "\n",
    "\n",
    "**Shingle generation**\n",
    "\n",
    "Shingling is a technique used to break text into smaller, overlapping pieces for comparison.\n",
    "\n",
    "- Splits the text into overlapping k-word shingles\n",
    "- Default shingle size is 4 words\n",
    "\n",
    "\n",
    "```\n",
    "Original text:\n",
    "The quick brown fox jumps over the lazy dog\n",
    "\n",
    "Shingles (k=4):\n",
    "1. the quick brown fox\n",
    "2. quick brown fox jumps\n",
    "3. brown fox jumps over\n",
    "4. fox jumps over the\n",
    "5. jumps over the lazy\n",
    "6. over the lazy dog\n",
    "\n",
    "```\n",
    "\n",
    "\n",
    "**DataFrame processing**\n",
    "\n",
    "This function prepares the data for similarity comparison.\n",
    "- Iterates through each row in the DataFrame\n",
    "- Preprocesses the text\n",
    "- Creates shingles\n",
    "- Generates MinHash signatures\n",
    "- Stores the processed data in a dictionary\n",
    "\n",
    "**Creating minihash**\n",
    "\n",
    "MinHash is a probabilistic data structure used for efficient similarity estimation.\n",
    "\n",
    "- Creates a MinHash object with 128 permutations by default\n",
    "  - It creates a fixed-size signature regardless of input size.\n",
    "- Updates the MinHash with each shingle\n",
    "  - It preserves similarity relationships between sets.\n",
    "- MinHash is a probabilistic data structure used for efficient similarity estimation.\n",
    "  - It allows for quick similarity estimation without needing to store or compare entire sets of data.\n",
    "\n",
    "**Comparing signatures**\n",
    "\n",
    "This function performs the actual similarity comparison.\n",
    "\n",
    "- Compares shingles between texts from two DataFrames\n",
    "- Finds and stores shared shingles between texts\n",
    "\n",
    "\n",
    "\n",
    "## Comparison of different text similarity methods\n",
    "\n",
    "| Method | Pros | Cons |\n",
    "|--------|------|------|\n",
    "| Exact string matching | - Simple<br>- Accurate for identical texts | - Inflexible<br>- Sensitive to minor changes |\n",
    "| Edit distance (e.g., Levenshtein) | - Captures character-level differences | - Computationally expensive for large texts<br>- Doesn't capture semantic similarity |\n",
    "| TF-IDF with cosine similarity | - Captures word importance<br>- Works well for document-level similarity | - Doesn't capture word order<br>- Can be slow for large corpora |\n",
    "| Word embeddings (e.g., Word2Vec, GloVe) | - Captures semantic similarity<br>- Works well for short texts | - Loses some context<br>- Can be computationally expensive |\n",
    "| MinHash with shingling | - Scalable<br>- Preserves local structure<br>- Flexible similarity threshold<br>- Language-agnostic<br>- Memory-efficient | - Probabilistic (may miss some matches)<br>- Requires careful parameter tuning |\n",
    "\n",
    "\n",
    "\n"
   ]
  },
  {
   "cell_type": "code",
   "execution_count": 73,
   "metadata": {
    "colab": {
     "base_uri": "https://localhost:8080/"
    },
    "id": "U6700Fn8wr_x",
    "outputId": "8412f1bb-427d-43cf-8f58-2bf3060e2731"
   },
   "outputs": [
    {
     "name": "stderr",
     "output_type": "stream",
     "text": [
      "Processing text: 100%|███████████████████████████████████████████████████████████████████████████████████████████████████████████████████████████████████████████████| 1000/1000 [00:00<00:00, 1786.19row/s]\n",
      "Processing text: 100%|███████████████████████████████████████████████████████████████████████████████████████████████████████████████████████████████████████████████| 1189/1189 [00:00<00:00, 1413.22row/s]\n",
      "Comparing mom with vulgate: 100%|█████████████████████████████████████████████████████████████████████████████████████████████████████████████████████████████████████| 1000/1000 [00:46<00:00, 21.51text/s]"
     ]
    },
    {
     "name": "stdout",
     "output_type": "stream",
     "text": [
      "[\n",
      "  {\n",
      "    \"mom_atom_id\": \"OOEUB/0853_I_18\",\n",
      "    \"vulgate_id\": \"Genesis_chapter_25\",\n",
      "    \"shared_shingles\": [\n",
      "      \"et post obitum illius\"\n",
      "    ]\n",
      "  },\n",
      "  {\n",
      "    \"mom_atom_id\": \"AT-StiASei/SeitenstettenOSB/1240_III_16\",\n",
      "    \"vulgate_id\": \"Matthew_chapter_28\",\n",
      "    \"shared_shingles\": [\n",
      "      \"filii et spiritus sancti\",\n",
      "      \"nomine patris et filii\",\n",
      "      \"patris et filii et\",\n",
      "      \"et filii et spiritus\",\n",
      "      \"in nomine patris et\"\n",
      "    ]\n",
      "  },\n",
      "  {\n",
      "    \"mom_atom_id\": \"AT-StiAG/GoettweigOSB/1327_IV_24\",\n",
      "    \"vulgate_id\": \"Joshua_chapter_22\",\n",
      "    \"shared_shingles\": [\n",
      "      \"inter nos et vos\"\n",
      "    ]\n",
      "  },\n",
      "  {\n",
      "    \"mom_atom_id\": \"AT-StiAG/GoettweigOSB/1327_IV_24\",\n",
      "    \"vulgate_id\": \"Luke_chapter_16\",\n",
      "    \"shared_shingles\": [\n",
      "      \"inter nos et vos\"\n",
      "    ]\n",
      "  },\n",
      "  {\n",
      "    \"mom_atom_id\": \"AT-StiAKr/KremsmuensterOSB/1247_I_21\",\n",
      "    \"vulgate_id\": \"John_chapter_10\",\n",
      "    \"shared_shingles\": [\n",
      "      \"de manibus eorum et\"\n",
      "    ]\n",
      "  }\n",
      "]\n"
     ]
    },
    {
     "name": "stderr",
     "output_type": "stream",
     "text": [
      "\n"
     ]
    }
   ],
   "source": [
    "import json\n",
    "from datasketch import MinHash\n",
    "from tqdm import tqdm\n",
    "import pandas as pd\n",
    "import string\n",
    "import re\n",
    "\n",
    "def preprocess_text(text):\n",
    "    # Remove extra whitespace\n",
    "    text = re.sub(r'\\s+', ' ', text).strip()\n",
    "\n",
    "    # Convert to lowercase\n",
    "    text = text.lower()\n",
    "\n",
    "    # Remove punctuation\n",
    "    text = text.translate(str.maketrans('', '', string.punctuation))\n",
    "\n",
    "    return text\n",
    "\n",
    "def shingle_text(text, k=4):\n",
    "    \"\"\"Splits text into overlapping k-word shingles.\"\"\"\n",
    "    words = text.split()\n",
    "    return [\" \".join(words[i : i + k]) for i in range(len(words) - k + 1)]\n",
    "\n",
    "def process_dataframe(df, text_column, id_column, k=4):\n",
    "    \"\"\"Processes text from a DataFrame column, creating MinHash signatures and storing shingles.\"\"\"\n",
    "    file_data = {}\n",
    "    for _, row in tqdm(df.iterrows(), desc=f\"Processing {text_column}\", total=len(df), unit=\"row\"):\n",
    "        text = preprocess_text(row[text_column])  # Apply preprocessing\n",
    "        shingles = shingle_text(text, k)\n",
    "        file_data[row[id_column]] = {\n",
    "            \"text\": text,\n",
    "            \"shingles\": shingles,\n",
    "            #\"minhash\": create_minhash(shingles)\n",
    "        }\n",
    "    return file_data\n",
    "\n",
    "def create_minhash(shingles, num_perm=128):\n",
    "    \"\"\"Creates a MinHash signature for a set of shingles.\"\"\"\n",
    "    m = MinHash(num_perm=num_perm)\n",
    "    for shingle in shingles:\n",
    "        m.update(shingle.encode(\"utf-8\"))\n",
    "    return m\n",
    "\n",
    "def compare_signatures(signatures1, signatures2, df1_name, df2_name, id1_name, id2_name):\n",
    "    \"\"\"Compares all shingles between texts from two DataFrame columns and finds similar shingles.\"\"\"\n",
    "    similar_texts = []\n",
    "    for id1, data1 in tqdm(signatures1.items(), desc=f\"Comparing {df1_name} with {df2_name}\", unit=\"text\"):\n",
    "        for id2, data2 in signatures2.items():\n",
    "            shared_shingles = set(data1[\"shingles\"]).intersection(set(data2[\"shingles\"]))\n",
    "            if shared_shingles:\n",
    "                similar_texts.append(\n",
    "                    {\n",
    "                        f\"{df1_name}_{id1_name}\": id1,\n",
    "                        f\"{df2_name}_{id2_name}\": id2,\n",
    "                        \"shared_shingles\": list(shared_shingles),\n",
    "                    }\n",
    "                )\n",
    "    return similar_texts\n",
    "\n",
    "\n",
    "# DataFrames\n",
    "df1 = pd.read_csv('mom_1000_sample.tsv', sep='\\t')\n",
    "df2 = pd.read_csv('vulgate_sample_1000.tsv', sep='\\t')\n",
    "\n",
    "# Specify column names containing the text data, and ID column names\n",
    "df1_name = 'mom'\n",
    "df2_name = 'vulgate'\n",
    "df1_text_column = 'text'\n",
    "df2_text_column = 'text'\n",
    "df1_id_column = 'atom_id'\n",
    "df2_id_column = 'id'\n",
    "\n",
    "# Process DataFrames\n",
    "signatures1 = process_dataframe(df1, df1_text_column, df1_id_column, k=4)\n",
    "signatures2 = process_dataframe(df2, df2_text_column, df2_id_column, k=4)\n",
    "\n",
    "# Compare the DataFrames\n",
    "results = compare_signatures(signatures1, signatures2, df1_name, df2_name, df1_id_column, df2_id_column)\n",
    "\n",
    "# Save results to JSON\n",
    "with open(\"similarity_results.json\", \"w\") as f:\n",
    "    json.dump(results, f, indent=2)\n",
    "\n",
    "# Display the first few results\n",
    "print(json.dumps(results[:5], indent=2))"
   ]
  },
  {
   "cell_type": "code",
   "execution_count": 76,
   "metadata": {},
   "outputs": [
    {
     "name": "stdout",
     "output_type": "stream",
     "text": [
      "270\n"
     ]
    }
   ],
   "source": []
  },
  {
   "cell_type": "code",
   "execution_count": 83,
   "metadata": {},
   "outputs": [
    {
     "name": "stdout",
     "output_type": "stream",
     "text": [
      "(872283,)\n",
      "(807554,)\n",
      "1\n",
      "int32\n",
      "int32\n",
      "(1000, 1189) 43\n"
     ]
    },
    {
     "name": "stderr",
     "output_type": "stream",
     "text": [
      "270it [00:00, 18170.56it/s]\n"
     ]
    },
    {
     "name": "stdout",
     "output_type": "stream",
     "text": [
      "270\n"
     ]
    }
   ],
   "source": [
    "import numpy as np\n",
    "from scipy.sparse import coo_matrix\n",
    "\n",
    "def load_signatures(signatures):\n",
    "    names, shingles, shingle_tuples = [], [], []\n",
    "    for name, data in signatures.items():\n",
    "        shingle_tuples.append(data[\"shingles\"])\n",
    "        shingle = np.array([hash(d) for d in data[\"shingles\"]], dtype=np.int64)\n",
    "        shingles.append(shingle)\n",
    "        names.append(name)\n",
    "    name_idx = np.concatenate([np.zeros_like(sh)+n for n , sh in enumerate(shingles)]).astype(np.int32)\n",
    "    names = np.array(names)\n",
    "    return names, name_idx, np.concatenate(shingles, axis=0), np.concatenate(shingle_tuples, axis=0)\n",
    "\n",
    "def common_shingles_list(shingle_list1, shingle_list2):\n",
    "    res = sorted(set(shingle_list1).intersection(set(shingle_list2)))\n",
    "    return [\" \".join(shingle) for shingle in res]\n",
    "\n",
    "\n",
    "def compare_signatures_fast(signatures1, signatures2, df1_name, df2_name, id1_name, id2_name):\n",
    "    # packaging data to numpy\n",
    "    names1, name_idx1, shingles1, shingle_tuples1 = load_signatures(signatures1)\n",
    "    names2, name_idx2, shingles2, shingle_tuples2 = load_signatures(signatures2)\n",
    "    # compressing hash namespace to continuous integers\n",
    "    all_shingles = np.concatenate([shingles1, shingles2], axis=0)\n",
    "    unique_shingles = np.unique(all_shingles)\n",
    "    hash2dense = {v:n for n, v in enumerate(unique_shingles)}\n",
    "    dense1 = np.array([hash2dense[sh] for sh in shingles1.tolist()],dtype=np.int32)\n",
    "    dense2 = np.array([hash2dense[sh] for sh in shingles2.tolist()],dtype=np.int32)\n",
    "\n",
    "    # creating sparse shingleid x doc sparse matrices\n",
    "    matrix1 = coo_matrix((np.ones_like(dense1), (name_idx1, dense1)), shape=(names1.size, unique_shingles.size))\n",
    "    matrix2 = coo_matrix((np.ones_like(dense2), (dense2, name_idx2)), shape=(unique_shingles.size, names2.size))\n",
    "\n",
    "    #finding cooccurences (this is the reuse metric)\n",
    "    cooccurence_mat = matrix1.dot(matrix2).todense()\n",
    "\n",
    "    # extracting captions of common shingles for visualisation\n",
    "    idx1_mat, idx2_mat = np.nonzero(cooccurence_mat)\n",
    "    similar_texts = []\n",
    "    for idx1, idx2 in tqdm(zip(idx1_mat.tolist(), idx2_mat.tolist())):\n",
    "        shingle_list1 = signatures1[names1[idx1]][\"shingles\"]\n",
    "        shingle_list2 = signatures2[names2[idx2]][\"shingles\"]\n",
    "        common_shingles = common_shingles_list(shingle_list1, shingle_list2)\n",
    "        similar_texts.append({f\"{df1_name}_{id1_name}\": names1[idx1], f\"{df2_name}_{id2_name}\": names2[idx2], \n",
    "                                            \"shared_shingles\": common_shingles,})\n",
    "    return similar_texts\n",
    "\n",
    "\n",
    "results = compare_signatures_fast(signatures1, signatures2, df1_name, df2_name, df1_id_column, df2_id_column)\n",
    "print(len(results))"
   ]
  },
  {
   "cell_type": "code",
   "execution_count": null,
   "metadata": {},
   "outputs": [],
   "source": []
  },
  {
   "cell_type": "code",
   "execution_count": 84,
   "metadata": {
    "colab": {
     "base_uri": "https://localhost:8080/"
    },
    "id": "vrsVJaPpzmA7",
    "outputId": "049b40f0-61e0-4cb9-f367-c5e25aa98061"
   },
   "outputs": [
    {
     "name": "stdout",
     "output_type": "stream",
     "text": [
      "Graph saved as 'similarity_network.html'\n"
     ]
    }
   ],
   "source": [
    "import json\n",
    "import pyvis\n",
    "from pyvis.network import Network\n",
    "import networkx as nx\n",
    "\n",
    "# Load the JSON data\n",
    "with open('similarity_results.json', 'r') as f:\n",
    "    data = json.load(f)\n",
    "\n",
    "# Create a NetworkX graph\n",
    "G = nx.Graph()\n",
    "\n",
    "# Add nodes and edges\n",
    "for item in data:\n",
    "    mom_id = item['mom_atom_id']\n",
    "    vulgate_id = item['vulgate_id']\n",
    "    weight = len(item['shared_shingles'])\n",
    "\n",
    "    G.add_node(mom_id, color='lightblue', title=f\"Manuscript: {mom_id}\")\n",
    "    G.add_node(vulgate_id, color='lightgreen', title=f\"Vulgate: {vulgate_id}\")\n",
    "    G.add_edge(mom_id, vulgate_id, weight=weight, title=f\"Shared shingles: {weight}\")\n",
    "\n",
    "# Create a Pyvis network from the NetworkX graph\n",
    "net = Network(notebook=False, width=\"100%\", height=\"600px\", bgcolor=\"#ffffff\", font_color=\"black\")\n",
    "net.from_nx(G)\n",
    "\n",
    "# Set options for a more spread out graph\n",
    "net.set_options(\"\"\"\n",
    "var options = {\n",
    "  \"nodes\": {\n",
    "    \"font\": {\n",
    "      \"size\": 12\n",
    "    }\n",
    "  },\n",
    "  \"edges\": {\n",
    "    \"color\": {\n",
    "      \"inherit\": true\n",
    "    },\n",
    "    \"smooth\": false\n",
    "  },\n",
    "  \"physics\": {\n",
    "    \"forceAtlas2Based\": {\n",
    "      \"gravitationalConstant\": -50,\n",
    "      \"centralGravity\": 0.01,\n",
    "      \"springLength\": 100,\n",
    "      \"springConstant\": 0.08\n",
    "    },\n",
    "    \"maxVelocity\": 50,\n",
    "    \"solver\": \"forceAtlas2Based\",\n",
    "    \"timestep\": 0.35,\n",
    "    \"stabilization\": {\n",
    "      \"enabled\": true,\n",
    "      \"iterations\": 1000,\n",
    "      \"updateInterval\": 25\n",
    "    }\n",
    "  }\n",
    "}\n",
    "\"\"\")\n",
    "\n",
    "# Save the graph as an HTML file\n",
    "net.save_graph(\"similarity_network.html\")\n",
    "print(\"Graph saved as 'similarity_network.html'\")"
   ]
  },
  {
   "cell_type": "markdown",
   "metadata": {
    "id": "vKRejgh39cu1"
   },
   "source": [
    "## Network visualization\n"
   ]
  },
  {
   "cell_type": "code",
   "execution_count": 85,
   "metadata": {
    "colab": {
     "base_uri": "https://localhost:8080/",
     "height": 627
    },
    "id": "4K8bukNh0TvQ",
    "outputId": "b24e69e9-8fcb-497b-a6d6-8e9ac3ce5a59"
   },
   "outputs": [
    {
     "data": {
      "text/html": [
       "<html>\n",
       "    <head>\n",
       "        <meta charset=\"utf-8\">\n",
       "        \n",
       "            <script src=\"lib/bindings/utils.js\"></script>\n",
       "            <link rel=\"stylesheet\" href=\"https://cdnjs.cloudflare.com/ajax/libs/vis-network/9.1.2/dist/dist/vis-network.min.css\" integrity=\"sha512-WgxfT5LWjfszlPHXRmBWHkV2eceiWTOBvrKCNbdgDYTHrT2AeLCGbF4sZlZw3UMN3WtL0tGUoIAKsu8mllg/XA==\" crossorigin=\"anonymous\" referrerpolicy=\"no-referrer\" />\n",
       "            <script src=\"https://cdnjs.cloudflare.com/ajax/libs/vis-network/9.1.2/dist/vis-network.min.js\" integrity=\"sha512-LnvoEWDFrqGHlHmDD2101OrLcbsfkrzoSpvtSQtxK3RMnRV0eOkhhBN2dXHKRrUU8p2DGRTk35n4O8nWSVe1mQ==\" crossorigin=\"anonymous\" referrerpolicy=\"no-referrer\"></script>\n",
       "            \n",
       "        \n",
       "<center>\n",
       "<h1></h1>\n",
       "</center>\n",
       "\n",
       "<!-- <link rel=\"stylesheet\" href=\"../node_modules/vis/dist/vis.min.css\" type=\"text/css\" />\n",
       "<script type=\"text/javascript\" src=\"../node_modules/vis/dist/vis.js\"> </script>-->\n",
       "        <link\n",
       "          href=\"https://cdn.jsdelivr.net/npm/bootstrap@5.0.0-beta3/dist/css/bootstrap.min.css\"\n",
       "          rel=\"stylesheet\"\n",
       "          integrity=\"sha384-eOJMYsd53ii+scO/bJGFsiCZc+5NDVN2yr8+0RDqr0Ql0h+rP48ckxlpbzKgwra6\"\n",
       "          crossorigin=\"anonymous\"\n",
       "        />\n",
       "        <script\n",
       "          src=\"https://cdn.jsdelivr.net/npm/bootstrap@5.0.0-beta3/dist/js/bootstrap.bundle.min.js\"\n",
       "          integrity=\"sha384-JEW9xMcG8R+pH31jmWH6WWP0WintQrMb4s7ZOdauHnUtxwoG2vI5DkLtS3qm9Ekf\"\n",
       "          crossorigin=\"anonymous\"\n",
       "        ></script>\n",
       "\n",
       "\n",
       "        <center>\n",
       "          <h1></h1>\n",
       "        </center>\n",
       "        <style type=\"text/css\">\n",
       "\n",
       "             #mynetwork {\n",
       "                 width: 100%;\n",
       "                 height: 600px;\n",
       "                 background-color: #ffffff;\n",
       "                 border: 1px solid lightgray;\n",
       "                 position: relative;\n",
       "                 float: left;\n",
       "             }\n",
       "\n",
       "             \n",
       "             #loadingBar {\n",
       "                 position:absolute;\n",
       "                 top:0px;\n",
       "                 left:0px;\n",
       "                 width: 100%;\n",
       "                 height: 600px;\n",
       "                 background-color:rgba(200,200,200,0.8);\n",
       "                 -webkit-transition: all 0.5s ease;\n",
       "                 -moz-transition: all 0.5s ease;\n",
       "                 -ms-transition: all 0.5s ease;\n",
       "                 -o-transition: all 0.5s ease;\n",
       "                 transition: all 0.5s ease;\n",
       "                 opacity:1;\n",
       "             }\n",
       "\n",
       "             #bar {\n",
       "                 position:absolute;\n",
       "                 top:0px;\n",
       "                 left:0px;\n",
       "                 width:20px;\n",
       "                 height:20px;\n",
       "                 margin:auto auto auto auto;\n",
       "                 border-radius:11px;\n",
       "                 border:2px solid rgba(30,30,30,0.05);\n",
       "                 background: rgb(0, 173, 246); /* Old browsers */\n",
       "                 box-shadow: 2px 0px 4px rgba(0,0,0,0.4);\n",
       "             }\n",
       "\n",
       "             #border {\n",
       "                 position:absolute;\n",
       "                 top:10px;\n",
       "                 left:10px;\n",
       "                 width:500px;\n",
       "                 height:23px;\n",
       "                 margin:auto auto auto auto;\n",
       "                 box-shadow: 0px 0px 4px rgba(0,0,0,0.2);\n",
       "                 border-radius:10px;\n",
       "             }\n",
       "\n",
       "             #text {\n",
       "                 position:absolute;\n",
       "                 top:8px;\n",
       "                 left:530px;\n",
       "                 width:30px;\n",
       "                 height:50px;\n",
       "                 margin:auto auto auto auto;\n",
       "                 font-size:22px;\n",
       "                 color: #000000;\n",
       "             }\n",
       "\n",
       "             div.outerBorder {\n",
       "                 position:relative;\n",
       "                 top:400px;\n",
       "                 width:600px;\n",
       "                 height:44px;\n",
       "                 margin:auto auto auto auto;\n",
       "                 border:8px solid rgba(0,0,0,0.1);\n",
       "                 background: rgb(252,252,252); /* Old browsers */\n",
       "                 background: -moz-linear-gradient(top,  rgba(252,252,252,1) 0%, rgba(237,237,237,1) 100%); /* FF3.6+ */\n",
       "                 background: -webkit-gradient(linear, left top, left bottom, color-stop(0%,rgba(252,252,252,1)), color-stop(100%,rgba(237,237,237,1))); /* Chrome,Safari4+ */\n",
       "                 background: -webkit-linear-gradient(top,  rgba(252,252,252,1) 0%,rgba(237,237,237,1) 100%); /* Chrome10+,Safari5.1+ */\n",
       "                 background: -o-linear-gradient(top,  rgba(252,252,252,1) 0%,rgba(237,237,237,1) 100%); /* Opera 11.10+ */\n",
       "                 background: -ms-linear-gradient(top,  rgba(252,252,252,1) 0%,rgba(237,237,237,1) 100%); /* IE10+ */\n",
       "                 background: linear-gradient(to bottom,  rgba(252,252,252,1) 0%,rgba(237,237,237,1) 100%); /* W3C */\n",
       "                 filter: progid:DXImageTransform.Microsoft.gradient( startColorstr='#fcfcfc', endColorstr='#ededed',GradientType=0 ); /* IE6-9 */\n",
       "                 border-radius:72px;\n",
       "                 box-shadow: 0px 0px 10px rgba(0,0,0,0.2);\n",
       "             }\n",
       "             \n",
       "\n",
       "             \n",
       "\n",
       "             \n",
       "        </style>\n",
       "    </head>\n",
       "\n",
       "\n",
       "    <body>\n",
       "        <div class=\"card\" style=\"width: 100%\">\n",
       "            \n",
       "            \n",
       "            <div id=\"mynetwork\" class=\"card-body\"></div>\n",
       "        </div>\n",
       "\n",
       "        \n",
       "            <div id=\"loadingBar\">\n",
       "              <div class=\"outerBorder\">\n",
       "                <div id=\"text\">0%</div>\n",
       "                <div id=\"border\">\n",
       "                  <div id=\"bar\"></div>\n",
       "                </div>\n",
       "              </div>\n",
       "            </div>\n",
       "        \n",
       "        \n",
       "\n",
       "        <script type=\"text/javascript\">\n",
       "\n",
       "              // initialize global variables.\n",
       "              var edges;\n",
       "              var nodes;\n",
       "              var allNodes;\n",
       "              var allEdges;\n",
       "              var nodeColors;\n",
       "              var originalNodes;\n",
       "              var network;\n",
       "              var container;\n",
       "              var options, data;\n",
       "              var filter = {\n",
       "                  item : '',\n",
       "                  property : '',\n",
       "                  value : []\n",
       "              };\n",
       "\n",
       "              \n",
       "\n",
       "              \n",
       "\n",
       "              // This method is responsible for drawing the graph, returns the drawn network\n",
       "              function drawGraph() {\n",
       "                  var container = document.getElementById('mynetwork');\n",
       "\n",
       "                  \n",
       "\n",
       "                  // parsing and collecting nodes and edges from the python\n",
       "                  nodes = new vis.DataSet([{\"color\": \"lightblue\", \"font\": {\"color\": \"black\"}, \"id\": \"OOEUB/0853_I_18\", \"label\": \"OOEUB/0853_I_18\", \"shape\": \"dot\", \"size\": 10, \"title\": \"Manuscript: OOEUB/0853_I_18\"}, {\"color\": \"lightgreen\", \"font\": {\"color\": \"black\"}, \"id\": \"Genesis_chapter_25\", \"label\": \"Genesis_chapter_25\", \"shape\": \"dot\", \"size\": 10, \"title\": \"Vulgate: Genesis_chapter_25\"}, {\"color\": \"lightblue\", \"font\": {\"color\": \"black\"}, \"id\": \"AT-StiASei/SeitenstettenOSB/1240_III_16\", \"label\": \"AT-StiASei/SeitenstettenOSB/1240_III_16\", \"shape\": \"dot\", \"size\": 10, \"title\": \"Manuscript: AT-StiASei/SeitenstettenOSB/1240_III_16\"}, {\"color\": \"lightgreen\", \"font\": {\"color\": \"black\"}, \"id\": \"Matthew_chapter_28\", \"label\": \"Matthew_chapter_28\", \"shape\": \"dot\", \"size\": 10, \"title\": \"Vulgate: Matthew_chapter_28\"}, {\"color\": \"lightblue\", \"font\": {\"color\": \"black\"}, \"id\": \"CH-StiASG/Urkunden/PP.5.B.16\", \"label\": \"CH-StiASG/Urkunden/PP.5.B.16\", \"shape\": \"dot\", \"size\": 10, \"title\": \"Manuscript: CH-StiASG/Urkunden/PP.5.B.16\"}, {\"color\": \"lightblue\", \"font\": {\"color\": \"black\"}, \"id\": \"FreisBm/1166_XII_03\", \"label\": \"FreisBm/1166_XII_03\", \"shape\": \"dot\", \"size\": 10, \"title\": \"Manuscript: FreisBm/1166_XII_03\"}, {\"color\": \"lightblue\", \"font\": {\"color\": \"black\"}, \"id\": \"AT-StiASF/StFlorianCanReg/1261_II_25\", \"label\": \"AT-StiASF/StFlorianCanReg/1261_II_25\", \"shape\": \"dot\", \"size\": 10, \"title\": \"Manuscript: AT-StiASF/StFlorianCanReg/1261_II_25\"}, {\"color\": \"lightblue\", \"font\": {\"color\": \"black\"}, \"id\": \"AT-StiAScho/SchottenOSB/1181_IX_01\", \"label\": \"AT-StiAScho/SchottenOSB/1181_IX_01\", \"shape\": \"dot\", \"size\": 10, \"title\": \"Manuscript: AT-StiAScho/SchottenOSB/1181_IX_01\"}, {\"color\": \"lightblue\", \"font\": {\"color\": \"black\"}, \"id\": \"AT-OOeLA/GleinkOSB/1264_VI_16\", \"label\": \"AT-OOeLA/GleinkOSB/1264_VI_16\", \"shape\": \"dot\", \"size\": 10, \"title\": \"Manuscript: AT-OOeLA/GleinkOSB/1264_VI_16\"}, {\"color\": \"lightblue\", \"font\": {\"color\": \"black\"}, \"id\": \"AT-OOeLA/GarstenOSB/1200.1\", \"label\": \"AT-OOeLA/GarstenOSB/1200.1\", \"shape\": \"dot\", \"size\": 10, \"title\": \"Manuscript: AT-OOeLA/GarstenOSB/1200.1\"}, {\"color\": \"lightblue\", \"font\": {\"color\": \"black\"}, \"id\": \"StPCanReg/1267_XI_16.\", \"label\": \"StPCanReg/1267_XI_16.\", \"shape\": \"dot\", \"size\": 10, \"title\": \"Manuscript: StPCanReg/1267_XI_16.\"}, {\"color\": \"lightblue\", \"font\": {\"color\": \"black\"}, \"id\": \"AT-StiAG/GoettweigOSB/1327_IV_24\", \"label\": \"AT-StiAG/GoettweigOSB/1327_IV_24\", \"shape\": \"dot\", \"size\": 10, \"title\": \"Manuscript: AT-StiAG/GoettweigOSB/1327_IV_24\"}, {\"color\": \"lightgreen\", \"font\": {\"color\": \"black\"}, \"id\": \"Joshua_chapter_22\", \"label\": \"Joshua_chapter_22\", \"shape\": \"dot\", \"size\": 10, \"title\": \"Vulgate: Joshua_chapter_22\"}, {\"color\": \"lightgreen\", \"font\": {\"color\": \"black\"}, \"id\": \"Luke_chapter_16\", \"label\": \"Luke_chapter_16\", \"shape\": \"dot\", \"size\": 10, \"title\": \"Vulgate: Luke_chapter_16\"}, {\"color\": \"lightblue\", \"font\": {\"color\": \"black\"}, \"id\": \"AT-StiAKr/KremsmuensterOSB/1247_I_21\", \"label\": \"AT-StiAKr/KremsmuensterOSB/1247_I_21\", \"shape\": \"dot\", \"size\": 10, \"title\": \"Manuscript: AT-StiAKr/KremsmuensterOSB/1247_I_21\"}, {\"color\": \"lightgreen\", \"font\": {\"color\": \"black\"}, \"id\": \"John_chapter_10\", \"label\": \"John_chapter_10\", \"shape\": \"dot\", \"size\": 10, \"title\": \"Vulgate: John_chapter_10\"}, {\"color\": \"lightgreen\", \"font\": {\"color\": \"black\"}, \"id\": \"Exodus_chapter_29\", \"label\": \"Exodus_chapter_29\", \"shape\": \"dot\", \"size\": 10, \"title\": \"Vulgate: Exodus_chapter_29\"}, {\"color\": \"lightgreen\", \"font\": {\"color\": \"black\"}, \"id\": \"Genesis_chapter_37\", \"label\": \"Genesis_chapter_37\", \"shape\": \"dot\", \"size\": 10, \"title\": \"Vulgate: Genesis_chapter_37\"}, {\"color\": \"lightblue\", \"font\": {\"color\": \"black\"}, \"id\": \"CSGIII/Nr_1634_S_463-465\", \"label\": \"CSGIII/Nr_1634_S_463-465\", \"shape\": \"dot\", \"size\": 10, \"title\": \"Manuscript: CSGIII/Nr_1634_S_463-465\"}, {\"color\": \"lightgreen\", \"font\": {\"color\": \"black\"}, \"id\": \"2Thessalonians_chapter_2\", \"label\": \"2Thessalonians_chapter_2\", \"shape\": \"dot\", \"size\": 10, \"title\": \"Vulgate: 2Thessalonians_chapter_2\"}, {\"color\": \"lightgreen\", \"font\": {\"color\": \"black\"}, \"id\": \"Ephesians_chapter_3\", \"label\": \"Ephesians_chapter_3\", \"shape\": \"dot\", \"size\": 10, \"title\": \"Vulgate: Ephesians_chapter_3\"}, {\"color\": \"lightgreen\", \"font\": {\"color\": \"black\"}, \"id\": \"Ephesians_chapter_1\", \"label\": \"Ephesians_chapter_1\", \"shape\": \"dot\", \"size\": 10, \"title\": \"Vulgate: Ephesians_chapter_1\"}, {\"color\": \"lightgreen\", \"font\": {\"color\": \"black\"}, \"id\": \"2Peter_chapter_1\", \"label\": \"2Peter_chapter_1\", \"shape\": \"dot\", \"size\": 10, \"title\": \"Vulgate: 2Peter_chapter_1\"}, {\"color\": \"lightgreen\", \"font\": {\"color\": \"black\"}, \"id\": \"Romans_chapter_15\", \"label\": \"Romans_chapter_15\", \"shape\": \"dot\", \"size\": 10, \"title\": \"Vulgate: Romans_chapter_15\"}, {\"color\": \"lightgreen\", \"font\": {\"color\": \"black\"}, \"id\": \"1Timothy_chapter_6\", \"label\": \"1Timothy_chapter_6\", \"shape\": \"dot\", \"size\": 10, \"title\": \"Vulgate: 1Timothy_chapter_6\"}, {\"color\": \"lightgreen\", \"font\": {\"color\": \"black\"}, \"id\": \"1Thessalonians_chapter_1\", \"label\": \"1Thessalonians_chapter_1\", \"shape\": \"dot\", \"size\": 10, \"title\": \"Vulgate: 1Thessalonians_chapter_1\"}, {\"color\": \"lightgreen\", \"font\": {\"color\": \"black\"}, \"id\": \"Revelation_chapter_22\", \"label\": \"Revelation_chapter_22\", \"shape\": \"dot\", \"size\": 10, \"title\": \"Vulgate: Revelation_chapter_22\"}, {\"color\": \"lightgreen\", \"font\": {\"color\": \"black\"}, \"id\": \"1Corinthians_chapter_6\", \"label\": \"1Corinthians_chapter_6\", \"shape\": \"dot\", \"size\": 10, \"title\": \"Vulgate: 1Corinthians_chapter_6\"}, {\"color\": \"lightgreen\", \"font\": {\"color\": \"black\"}, \"id\": \"2Thessalonians_chapter_1\", \"label\": \"2Thessalonians_chapter_1\", \"shape\": \"dot\", \"size\": 10, \"title\": \"Vulgate: 2Thessalonians_chapter_1\"}, {\"color\": \"lightgreen\", \"font\": {\"color\": \"black\"}, \"id\": \"Galatians_chapter_6\", \"label\": \"Galatians_chapter_6\", \"shape\": \"dot\", \"size\": 10, \"title\": \"Vulgate: Galatians_chapter_6\"}, {\"color\": \"lightgreen\", \"font\": {\"color\": \"black\"}, \"id\": \"1Peter_chapter_1\", \"label\": \"1Peter_chapter_1\", \"shape\": \"dot\", \"size\": 10, \"title\": \"Vulgate: 1Peter_chapter_1\"}, {\"color\": \"lightgreen\", \"font\": {\"color\": \"black\"}, \"id\": \"2Corinthians_chapter_8\", \"label\": \"2Corinthians_chapter_8\", \"shape\": \"dot\", \"size\": 10, \"title\": \"Vulgate: 2Corinthians_chapter_8\"}, {\"color\": \"lightgreen\", \"font\": {\"color\": \"black\"}, \"id\": \"1Thessalonians_chapter_5\", \"label\": \"1Thessalonians_chapter_5\", \"shape\": \"dot\", \"size\": 10, \"title\": \"Vulgate: 1Thessalonians_chapter_5\"}, {\"color\": \"lightgreen\", \"font\": {\"color\": \"black\"}, \"id\": \"Ephesians_chapter_5\", \"label\": \"Ephesians_chapter_5\", \"shape\": \"dot\", \"size\": 10, \"title\": \"Vulgate: Ephesians_chapter_5\"}, {\"color\": \"lightgreen\", \"font\": {\"color\": \"black\"}, \"id\": \"2Corinthians_chapter_13\", \"label\": \"2Corinthians_chapter_13\", \"shape\": \"dot\", \"size\": 10, \"title\": \"Vulgate: 2Corinthians_chapter_13\"}, {\"color\": \"lightgreen\", \"font\": {\"color\": \"black\"}, \"id\": \"1Corinthians_chapter_5\", \"label\": \"1Corinthians_chapter_5\", \"shape\": \"dot\", \"size\": 10, \"title\": \"Vulgate: 1Corinthians_chapter_5\"}, {\"color\": \"lightgreen\", \"font\": {\"color\": \"black\"}, \"id\": \"Colossians_chapter_1\", \"label\": \"Colossians_chapter_1\", \"shape\": \"dot\", \"size\": 10, \"title\": \"Vulgate: Colossians_chapter_1\"}, {\"color\": \"lightgreen\", \"font\": {\"color\": \"black\"}, \"id\": \"2Corinthians_chapter_1\", \"label\": \"2Corinthians_chapter_1\", \"shape\": \"dot\", \"size\": 10, \"title\": \"Vulgate: 2Corinthians_chapter_1\"}, {\"color\": \"lightgreen\", \"font\": {\"color\": \"black\"}, \"id\": \"Jude_chapter_1\", \"label\": \"Jude_chapter_1\", \"shape\": \"dot\", \"size\": 10, \"title\": \"Vulgate: Jude_chapter_1\"}, {\"color\": \"lightgreen\", \"font\": {\"color\": \"black\"}, \"id\": \"ActsoftheApostles_chapter_15\", \"label\": \"ActsoftheApostles_chapter_15\", \"shape\": \"dot\", \"size\": 10, \"title\": \"Vulgate: ActsoftheApostles_chapter_15\"}, {\"color\": \"lightgreen\", \"font\": {\"color\": \"black\"}, \"id\": \"1Corinthians_chapter_1\", \"label\": \"1Corinthians_chapter_1\", \"shape\": \"dot\", \"size\": 10, \"title\": \"Vulgate: 1Corinthians_chapter_1\"}, {\"color\": \"lightgreen\", \"font\": {\"color\": \"black\"}, \"id\": \"James_chapter_2\", \"label\": \"James_chapter_2\", \"shape\": \"dot\", \"size\": 10, \"title\": \"Vulgate: James_chapter_2\"}, {\"color\": \"lightgreen\", \"font\": {\"color\": \"black\"}, \"id\": \"2Thessalonians_chapter_3\", \"label\": \"2Thessalonians_chapter_3\", \"shape\": \"dot\", \"size\": 10, \"title\": \"Vulgate: 2Thessalonians_chapter_3\"}, {\"color\": \"lightgreen\", \"font\": {\"color\": \"black\"}, \"id\": \"Romans_chapter_16\", \"label\": \"Romans_chapter_16\", \"shape\": \"dot\", \"size\": 10, \"title\": \"Vulgate: Romans_chapter_16\"}, {\"color\": \"lightgreen\", \"font\": {\"color\": \"black\"}, \"id\": \"James_chapter_1\", \"label\": \"James_chapter_1\", \"shape\": \"dot\", \"size\": 10, \"title\": \"Vulgate: James_chapter_1\"}, {\"color\": \"lightgreen\", \"font\": {\"color\": \"black\"}, \"id\": \"Philemon_chapter_1\", \"label\": \"Philemon_chapter_1\", \"shape\": \"dot\", \"size\": 10, \"title\": \"Vulgate: Philemon_chapter_1\"}, {\"color\": \"lightblue\", \"font\": {\"color\": \"black\"}, \"id\": \"CSGIII/Nr_915_S_35-37\", \"label\": \"CSGIII/Nr_915_S_35-37\", \"shape\": \"dot\", \"size\": 10, \"title\": \"Manuscript: CSGIII/Nr_915_S_35-37\"}, {\"color\": \"lightblue\", \"font\": {\"color\": \"black\"}, \"id\": \"DE-BayHStA/KURaitenhaslach/1243_02_14\", \"label\": \"DE-BayHStA/KURaitenhaslach/1243_02_14\", \"shape\": \"dot\", \"size\": 10, \"title\": \"Manuscript: DE-BayHStA/KURaitenhaslach/1243_02_14\"}, {\"color\": \"lightblue\", \"font\": {\"color\": \"black\"}, \"id\": \"AT-HHStA/SbgDK/AUR_1201_II_03\", \"label\": \"AT-HHStA/SbgDK/AUR_1201_II_03\", \"shape\": \"dot\", \"size\": 10, \"title\": \"Manuscript: AT-HHStA/SbgDK/AUR_1201_II_03\"}, {\"color\": \"lightblue\", \"font\": {\"color\": \"black\"}, \"id\": \"CH-StiASG/Urkunden/O.4.E.6\", \"label\": \"CH-StiASG/Urkunden/O.4.E.6\", \"shape\": \"dot\", \"size\": 10, \"title\": \"Manuscript: CH-StiASG/Urkunden/O.4.E.6\"}, {\"color\": \"lightblue\", \"font\": {\"color\": \"black\"}, \"id\": \"OOEUB/1139_III_29\", \"label\": \"OOEUB/1139_III_29\", \"shape\": \"dot\", \"size\": 10, \"title\": \"Manuscript: OOEUB/1139_III_29\"}, {\"color\": \"lightblue\", \"font\": {\"color\": \"black\"}, \"id\": \"AT-StiAHe/HerzogenburgCanReg/1151_IV_17\", \"label\": \"AT-StiAHe/HerzogenburgCanReg/1151_IV_17\", \"shape\": \"dot\", \"size\": 10, \"title\": \"Manuscript: AT-StiAHe/HerzogenburgCanReg/1151_IV_17\"}, {\"color\": \"lightblue\", \"font\": {\"color\": \"black\"}, \"id\": \"OOEUB/0890_XI_20\", \"label\": \"OOEUB/0890_XI_20\", \"shape\": \"dot\", \"size\": 10, \"title\": \"Manuscript: OOEUB/0890_XI_20\"}, {\"color\": \"lightblue\", \"font\": {\"color\": \"black\"}, \"id\": \"AT-StiAR/ReichersbergCanReg/1179_II_10\", \"label\": \"AT-StiAR/ReichersbergCanReg/1179_II_10\", \"shape\": \"dot\", \"size\": 10, \"title\": \"Manuscript: AT-StiAR/ReichersbergCanReg/1179_II_10\"}, {\"color\": \"lightblue\", \"font\": {\"color\": \"black\"}, \"id\": \"OOEUB/1148_III_30\", \"label\": \"OOEUB/1148_III_30\", \"shape\": \"dot\", \"size\": 10, \"title\": \"Manuscript: OOEUB/1148_III_30\"}, {\"color\": \"lightblue\", \"font\": {\"color\": \"black\"}, \"id\": \"OOEUB/1179_IV_20\", \"label\": \"OOEUB/1179_IV_20\", \"shape\": \"dot\", \"size\": 10, \"title\": \"Manuscript: OOEUB/1179_IV_20\"}, {\"color\": \"lightblue\", \"font\": {\"color\": \"black\"}, \"id\": \"AT-StiAW/Urkunden/1161\", \"label\": \"AT-StiAW/Urkunden/1161\", \"shape\": \"dot\", \"size\": 10, \"title\": \"Manuscript: AT-StiAW/Urkunden/1161\"}, {\"color\": \"lightgreen\", \"font\": {\"color\": \"black\"}, \"id\": \"Hebrews_chapter_9\", \"label\": \"Hebrews_chapter_9\", \"shape\": \"dot\", \"size\": 10, \"title\": \"Vulgate: Hebrews_chapter_9\"}, {\"color\": \"lightblue\", \"font\": {\"color\": \"black\"}, \"id\": \"AT-StiAG/GoettweigOSB/1219_VIII_23\", \"label\": \"AT-StiAG/GoettweigOSB/1219_VIII_23\", \"shape\": \"dot\", \"size\": 10, \"title\": \"Manuscript: AT-StiAG/GoettweigOSB/1219_VIII_23\"}, {\"color\": \"lightblue\", \"font\": {\"color\": \"black\"}, \"id\": \"AT-HHStA/SbgE/AUR_1228_VIII_18\", \"label\": \"AT-HHStA/SbgE/AUR_1228_VIII_18\", \"shape\": \"dot\", \"size\": 10, \"title\": \"Manuscript: AT-HHStA/SbgE/AUR_1228_VIII_18\"}, {\"color\": \"lightgreen\", \"font\": {\"color\": \"black\"}, \"id\": \"1Samuel_chapter_7\", \"label\": \"1Samuel_chapter_7\", \"shape\": \"dot\", \"size\": 10, \"title\": \"Vulgate: 1Samuel_chapter_7\"}, {\"color\": \"lightblue\", \"font\": {\"color\": \"black\"}, \"id\": \"WaldCanReg/1285\", \"label\": \"WaldCanReg/1285\", \"shape\": \"dot\", \"size\": 10, \"title\": \"Manuscript: WaldCanReg/1285\"}, {\"color\": \"lightgreen\", \"font\": {\"color\": \"black\"}, \"id\": \"Judges_chapter_15\", \"label\": \"Judges_chapter_15\", \"shape\": \"dot\", \"size\": 10, \"title\": \"Vulgate: Judges_chapter_15\"}, {\"color\": \"lightblue\", \"font\": {\"color\": \"black\"}, \"id\": \"AT-StiAScho/SchottenOSB/1238_XII_21\", \"label\": \"AT-StiAScho/SchottenOSB/1238_XII_21\", \"shape\": \"dot\", \"size\": 10, \"title\": \"Manuscript: AT-StiAScho/SchottenOSB/1238_XII_21\"}, {\"color\": \"lightgreen\", \"font\": {\"color\": \"black\"}, \"id\": \"Judges_chapter_6\", \"label\": \"Judges_chapter_6\", \"shape\": \"dot\", \"size\": 10, \"title\": \"Vulgate: Judges_chapter_6\"}, {\"color\": \"lightgreen\", \"font\": {\"color\": \"black\"}, \"id\": \"1Kings_chapter_12\", \"label\": \"1Kings_chapter_12\", \"shape\": \"dot\", \"size\": 10, \"title\": \"Vulgate: 1Kings_chapter_12\"}, {\"color\": \"lightblue\", \"font\": {\"color\": \"black\"}, \"id\": \"AT-SchlAWei/Urkunden/1384_07_10\", \"label\": \"AT-SchlAWei/Urkunden/1384_07_10\", \"shape\": \"dot\", \"size\": 10, \"title\": \"Manuscript: AT-SchlAWei/Urkunden/1384_07_10\"}, {\"color\": \"lightgreen\", \"font\": {\"color\": \"black\"}, \"id\": \"2Kings_chapter_20\", \"label\": \"2Kings_chapter_20\", \"shape\": \"dot\", \"size\": 10, \"title\": \"Vulgate: 2Kings_chapter_20\"}, {\"color\": \"lightgreen\", \"font\": {\"color\": \"black\"}, \"id\": \"Numbers_chapter_30\", \"label\": \"Numbers_chapter_30\", \"shape\": \"dot\", \"size\": 10, \"title\": \"Vulgate: Numbers_chapter_30\"}, {\"color\": \"lightgreen\", \"font\": {\"color\": \"black\"}, \"id\": \"Jeremiah_chapter_4\", \"label\": \"Jeremiah_chapter_4\", \"shape\": \"dot\", \"size\": 10, \"title\": \"Vulgate: Jeremiah_chapter_4\"}, {\"color\": \"lightgreen\", \"font\": {\"color\": \"black\"}, \"id\": \"Isaiah_chapter_38\", \"label\": \"Isaiah_chapter_38\", \"shape\": \"dot\", \"size\": 10, \"title\": \"Vulgate: Isaiah_chapter_38\"}, {\"color\": \"lightgreen\", \"font\": {\"color\": \"black\"}, \"id\": \"Deuteronomy_chapter_22\", \"label\": \"Deuteronomy_chapter_22\", \"shape\": \"dot\", \"size\": 10, \"title\": \"Vulgate: Deuteronomy_chapter_22\"}, {\"color\": \"lightgreen\", \"font\": {\"color\": \"black\"}, \"id\": \"Genesis_chapter_38\", \"label\": \"Genesis_chapter_38\", \"shape\": \"dot\", \"size\": 10, \"title\": \"Vulgate: Genesis_chapter_38\"}, {\"color\": \"lightgreen\", \"font\": {\"color\": \"black\"}, \"id\": \"ActsoftheApostles_chapter_7\", \"label\": \"ActsoftheApostles_chapter_7\", \"shape\": \"dot\", \"size\": 10, \"title\": \"Vulgate: ActsoftheApostles_chapter_7\"}, {\"color\": \"lightgreen\", \"font\": {\"color\": \"black\"}, \"id\": \"Judges_chapter_17\", \"label\": \"Judges_chapter_17\", \"shape\": \"dot\", \"size\": 10, \"title\": \"Vulgate: Judges_chapter_17\"}, {\"color\": \"lightblue\", \"font\": {\"color\": \"black\"}, \"id\": \"CH-StiASG/Urkunden/FF.4.F.3\", \"label\": \"CH-StiASG/Urkunden/FF.4.F.3\", \"shape\": \"dot\", \"size\": 10, \"title\": \"Manuscript: CH-StiASG/Urkunden/FF.4.F.3\"}, {\"color\": \"lightgreen\", \"font\": {\"color\": \"black\"}, \"id\": \"1Samuel_chapter_6\", \"label\": \"1Samuel_chapter_6\", \"shape\": \"dot\", \"size\": 10, \"title\": \"Vulgate: 1Samuel_chapter_6\"}, {\"color\": \"lightblue\", \"font\": {\"color\": \"black\"}, \"id\": \"AT-HHStA/SbgE/AUR_0816_II_05\", \"label\": \"AT-HHStA/SbgE/AUR_0816_II_05\", \"shape\": \"dot\", \"size\": 10, \"title\": \"Manuscript: AT-HHStA/SbgE/AUR_0816_II_05\"}, {\"color\": \"lightgreen\", \"font\": {\"color\": \"black\"}, \"id\": \"Jeremiah_chapter_26\", \"label\": \"Jeremiah_chapter_26\", \"shape\": \"dot\", \"size\": 10, \"title\": \"Vulgate: Jeremiah_chapter_26\"}, {\"color\": \"lightgreen\", \"font\": {\"color\": \"black\"}, \"id\": \"Micah_chapter_4\", \"label\": \"Micah_chapter_4\", \"shape\": \"dot\", \"size\": 10, \"title\": \"Vulgate: Micah_chapter_4\"}, {\"color\": \"lightgreen\", \"font\": {\"color\": \"black\"}, \"id\": \"2Timothy_chapter_1\", \"label\": \"2Timothy_chapter_1\", \"shape\": \"dot\", \"size\": 10, \"title\": \"Vulgate: 2Timothy_chapter_1\"}, {\"color\": \"lightgreen\", \"font\": {\"color\": \"black\"}, \"id\": \"2Chronicles_chapter_33\", \"label\": \"2Chronicles_chapter_33\", \"shape\": \"dot\", \"size\": 10, \"title\": \"Vulgate: 2Chronicles_chapter_33\"}, {\"color\": \"lightgreen\", \"font\": {\"color\": \"black\"}, \"id\": \"Joshua_chapter_9\", \"label\": \"Joshua_chapter_9\", \"shape\": \"dot\", \"size\": 10, \"title\": \"Vulgate: Joshua_chapter_9\"}, {\"color\": \"lightgreen\", \"font\": {\"color\": \"black\"}, \"id\": \"Titus_chapter_2\", \"label\": \"Titus_chapter_2\", \"shape\": \"dot\", \"size\": 10, \"title\": \"Vulgate: Titus_chapter_2\"}, {\"color\": \"lightblue\", \"font\": {\"color\": \"black\"}, \"id\": \"AT-HHStA/SbgDK/AUR_1159_VII_16\", \"label\": \"AT-HHStA/SbgDK/AUR_1159_VII_16\", \"shape\": \"dot\", \"size\": 10, \"title\": \"Manuscript: AT-HHStA/SbgDK/AUR_1159_VII_16\"}, {\"color\": \"lightgreen\", \"font\": {\"color\": \"black\"}, \"id\": \"Matthew_chapter_25\", \"label\": \"Matthew_chapter_25\", \"shape\": \"dot\", \"size\": 10, \"title\": \"Vulgate: Matthew_chapter_25\"}, {\"color\": \"lightgreen\", \"font\": {\"color\": \"black\"}, \"id\": \"Colossians_chapter_3\", \"label\": \"Colossians_chapter_3\", \"shape\": \"dot\", \"size\": 10, \"title\": \"Vulgate: Colossians_chapter_3\"}, {\"color\": \"lightblue\", \"font\": {\"color\": \"black\"}, \"id\": \"StPCanReg/1366_I_17\", \"label\": \"StPCanReg/1366_I_17\", \"shape\": \"dot\", \"size\": 10, \"title\": \"Manuscript: StPCanReg/1366_I_17\"}, {\"color\": \"lightblue\", \"font\": {\"color\": \"black\"}, \"id\": \"AT-HHStA/SbgE/AUR_1242_VII_13\", \"label\": \"AT-HHStA/SbgE/AUR_1242_VII_13\", \"shape\": \"dot\", \"size\": 10, \"title\": \"Manuscript: AT-HHStA/SbgE/AUR_1242_VII_13\"}, {\"color\": \"lightblue\", \"font\": {\"color\": \"black\"}, \"id\": \"AT-StiASei/SeitenstettenOSB/1269_XI_13\", \"label\": \"AT-StiASei/SeitenstettenOSB/1269_XI_13\", \"shape\": \"dot\", \"size\": 10, \"title\": \"Manuscript: AT-StiASei/SeitenstettenOSB/1269_XI_13\"}, {\"color\": \"lightgreen\", \"font\": {\"color\": \"black\"}, \"id\": \"Leviticus_chapter_11\", \"label\": \"Leviticus_chapter_11\", \"shape\": \"dot\", \"size\": 10, \"title\": \"Vulgate: Leviticus_chapter_11\"}, {\"color\": \"lightblue\", \"font\": {\"color\": \"black\"}, \"id\": \"DE-BayHStA/KURaitenhaslach/1243_03_15\", \"label\": \"DE-BayHStA/KURaitenhaslach/1243_03_15\", \"shape\": \"dot\", \"size\": 10, \"title\": \"Manuscript: DE-BayHStA/KURaitenhaslach/1243_03_15\"}, {\"color\": \"lightblue\", \"font\": {\"color\": \"black\"}, \"id\": \"DE-BayHStA/KURaitenhaslach/1320_04_07\", \"label\": \"DE-BayHStA/KURaitenhaslach/1320_04_07\", \"shape\": \"dot\", \"size\": 10, \"title\": \"Manuscript: DE-BayHStA/KURaitenhaslach/1320_04_07\"}, {\"color\": \"lightgreen\", \"font\": {\"color\": \"black\"}, \"id\": \"Job_chapter_41\", \"label\": \"Job_chapter_41\", \"shape\": \"dot\", \"size\": 10, \"title\": \"Vulgate: Job_chapter_41\"}, {\"color\": \"lightblue\", \"font\": {\"color\": \"black\"}, \"id\": \"CH-StaASG/Urkunden/Spitalarchiv_B.1.6a\", \"label\": \"CH-StaASG/Urkunden/Spitalarchiv_B.1.6a\", \"shape\": \"dot\", \"size\": 10, \"title\": \"Manuscript: CH-StaASG/Urkunden/Spitalarchiv_B.1.6a\"}, {\"color\": \"lightgreen\", \"font\": {\"color\": \"black\"}, \"id\": \"2Corinthians_chapter_9\", \"label\": \"2Corinthians_chapter_9\", \"shape\": \"dot\", \"size\": 10, \"title\": \"Vulgate: 2Corinthians_chapter_9\"}, {\"color\": \"lightblue\", \"font\": {\"color\": \"black\"}, \"id\": \"AT-StiASF/StFlorianCanReg/1256_X_07\", \"label\": \"AT-StiASF/StFlorianCanReg/1256_X_07\", \"shape\": \"dot\", \"size\": 10, \"title\": \"Manuscript: AT-StiASF/StFlorianCanReg/1256_X_07\"}, {\"color\": \"lightgreen\", \"font\": {\"color\": \"black\"}, \"id\": \"Colossians_chapter_4\", \"label\": \"Colossians_chapter_4\", \"shape\": \"dot\", \"size\": 10, \"title\": \"Vulgate: Colossians_chapter_4\"}, {\"color\": \"lightgreen\", \"font\": {\"color\": \"black\"}, \"id\": \"Isaiah_chapter_51\", \"label\": \"Isaiah_chapter_51\", \"shape\": \"dot\", \"size\": 10, \"title\": \"Vulgate: Isaiah_chapter_51\"}, {\"color\": \"lightgreen\", \"font\": {\"color\": \"black\"}, \"id\": \"Proverbs_chapter_31\", \"label\": \"Proverbs_chapter_31\", \"shape\": \"dot\", \"size\": 10, \"title\": \"Vulgate: Proverbs_chapter_31\"}, {\"color\": \"lightblue\", \"font\": {\"color\": \"black\"}, \"id\": \"CH-StiASG/StiAPfae/0000.180\", \"label\": \"CH-StiASG/StiAPfae/0000.180\", \"shape\": \"dot\", \"size\": 10, \"title\": \"Manuscript: CH-StiASG/StiAPfae/0000.180\"}, {\"color\": \"lightblue\", \"font\": {\"color\": \"black\"}, \"id\": \"AT-HHStA/StBernhardOCist/1285_IV_26\", \"label\": \"AT-HHStA/StBernhardOCist/1285_IV_26\", \"shape\": \"dot\", \"size\": 10, \"title\": \"Manuscript: AT-HHStA/StBernhardOCist/1285_IV_26\"}, {\"color\": \"lightblue\", \"font\": {\"color\": \"black\"}, \"id\": \"AT-StiAH/HeiligenkreuzOCist/1203_III_25\", \"label\": \"AT-StiAH/HeiligenkreuzOCist/1203_III_25\", \"shape\": \"dot\", \"size\": 10, \"title\": \"Manuscript: AT-StiAH/HeiligenkreuzOCist/1203_III_25\"}, {\"color\": \"lightgreen\", \"font\": {\"color\": \"black\"}, \"id\": \"Hebrews_chapter_12\", \"label\": \"Hebrews_chapter_12\", \"shape\": \"dot\", \"size\": 10, \"title\": \"Vulgate: Hebrews_chapter_12\"}, {\"color\": \"lightgreen\", \"font\": {\"color\": \"black\"}, \"id\": \"John_chapter_11\", \"label\": \"John_chapter_11\", \"shape\": \"dot\", \"size\": 10, \"title\": \"Vulgate: John_chapter_11\"}, {\"color\": \"lightblue\", \"font\": {\"color\": \"black\"}, \"id\": \"StPCanReg/1279_VII_18\", \"label\": \"StPCanReg/1279_VII_18\", \"shape\": \"dot\", \"size\": 10, \"title\": \"Manuscript: StPCanReg/1279_VII_18\"}, {\"color\": \"lightgreen\", \"font\": {\"color\": \"black\"}, \"id\": \"Exodus_chapter_37\", \"label\": \"Exodus_chapter_37\", \"shape\": \"dot\", \"size\": 10, \"title\": \"Vulgate: Exodus_chapter_37\"}, {\"color\": \"lightblue\", \"font\": {\"color\": \"black\"}, \"id\": \"CSGIII/Nr_1515_S_386\", \"label\": \"CSGIII/Nr_1515_S_386\", \"shape\": \"dot\", \"size\": 10, \"title\": \"Manuscript: CSGIII/Nr_1515_S_386\"}, {\"color\": \"lightblue\", \"font\": {\"color\": \"black\"}, \"id\": \"DE-BayHStA/KURaitenhaslach/1287_05_06\", \"label\": \"DE-BayHStA/KURaitenhaslach/1287_05_06\", \"shape\": \"dot\", \"size\": 10, \"title\": \"Manuscript: DE-BayHStA/KURaitenhaslach/1287_05_06\"}, {\"color\": \"lightgreen\", \"font\": {\"color\": \"black\"}, \"id\": \"Ephesians_chapter_4\", \"label\": \"Ephesians_chapter_4\", \"shape\": \"dot\", \"size\": 10, \"title\": \"Vulgate: Ephesians_chapter_4\"}, {\"color\": \"lightblue\", \"font\": {\"color\": \"black\"}, \"id\": \"AT-StiASei/SeitenstettenOSB/1244_II_10\", \"label\": \"AT-StiASei/SeitenstettenOSB/1244_II_10\", \"shape\": \"dot\", \"size\": 10, \"title\": \"Manuscript: AT-StiASei/SeitenstettenOSB/1244_II_10\"}, {\"color\": \"lightgreen\", \"font\": {\"color\": \"black\"}, \"id\": \"ActsoftheApostles_chapter_10\", \"label\": \"ActsoftheApostles_chapter_10\", \"shape\": \"dot\", \"size\": 10, \"title\": \"Vulgate: ActsoftheApostles_chapter_10\"}, {\"color\": \"lightgreen\", \"font\": {\"color\": \"black\"}, \"id\": \"ActsoftheApostles_chapter_11\", \"label\": \"ActsoftheApostles_chapter_11\", \"shape\": \"dot\", \"size\": 10, \"title\": \"Vulgate: ActsoftheApostles_chapter_11\"}, {\"color\": \"lightgreen\", \"font\": {\"color\": \"black\"}, \"id\": \"ActsoftheApostles_chapter_9\", \"label\": \"ActsoftheApostles_chapter_9\", \"shape\": \"dot\", \"size\": 10, \"title\": \"Vulgate: ActsoftheApostles_chapter_9\"}, {\"color\": \"lightgreen\", \"font\": {\"color\": \"black\"}, \"id\": \"ActsoftheApostles_chapter_19\", \"label\": \"ActsoftheApostles_chapter_19\", \"shape\": \"dot\", \"size\": 10, \"title\": \"Vulgate: ActsoftheApostles_chapter_19\"}, {\"color\": \"lightgreen\", \"font\": {\"color\": \"black\"}, \"id\": \"Matthew_chapter_21\", \"label\": \"Matthew_chapter_21\", \"shape\": \"dot\", \"size\": 10, \"title\": \"Vulgate: Matthew_chapter_21\"}, {\"color\": \"lightblue\", \"font\": {\"color\": \"black\"}, \"id\": \"AT-StiASchl/Urkunden/1466_VII_24.1\", \"label\": \"AT-StiASchl/Urkunden/1466_VII_24.1\", \"shape\": \"dot\", \"size\": 10, \"title\": \"Manuscript: AT-StiASchl/Urkunden/1466_VII_24.1\"}, {\"color\": \"lightgreen\", \"font\": {\"color\": \"black\"}, \"id\": \"Galatians_chapter_1\", \"label\": \"Galatians_chapter_1\", \"shape\": \"dot\", \"size\": 10, \"title\": \"Vulgate: Galatians_chapter_1\"}, {\"color\": \"lightblue\", \"font\": {\"color\": \"black\"}, \"id\": \"DE-BayHStA/KURaitenhaslach/1251.1\", \"label\": \"DE-BayHStA/KURaitenhaslach/1251.1\", \"shape\": \"dot\", \"size\": 10, \"title\": \"Manuscript: DE-BayHStA/KURaitenhaslach/1251.1\"}, {\"color\": \"lightblue\", \"font\": {\"color\": \"black\"}, \"id\": \"AT-StiASchl/Urkunden/1463_VII_23\", \"label\": \"AT-StiASchl/Urkunden/1463_VII_23\", \"shape\": \"dot\", \"size\": 10, \"title\": \"Manuscript: AT-StiASchl/Urkunden/1463_VII_23\"}, {\"color\": \"lightblue\", \"font\": {\"color\": \"black\"}, \"id\": \"AT-StiAK/KlosterneuburgCanReg/1289\", \"label\": \"AT-StiAK/KlosterneuburgCanReg/1289\", \"shape\": \"dot\", \"size\": 10, \"title\": \"Manuscript: AT-StiAK/KlosterneuburgCanReg/1289\"}, {\"color\": \"lightgreen\", \"font\": {\"color\": \"black\"}, \"id\": \"Deuteronomy_chapter_23\", \"label\": \"Deuteronomy_chapter_23\", \"shape\": \"dot\", \"size\": 10, \"title\": \"Vulgate: Deuteronomy_chapter_23\"}, {\"color\": \"lightgreen\", \"font\": {\"color\": \"black\"}, \"id\": \"Deuteronomy_chapter_17\", \"label\": \"Deuteronomy_chapter_17\", \"shape\": \"dot\", \"size\": 10, \"title\": \"Vulgate: Deuteronomy_chapter_17\"}, {\"color\": \"lightgreen\", \"font\": {\"color\": \"black\"}, \"id\": \"Deuteronomy_chapter_19\", \"label\": \"Deuteronomy_chapter_19\", \"shape\": \"dot\", \"size\": 10, \"title\": \"Vulgate: Deuteronomy_chapter_19\"}, {\"color\": \"lightblue\", \"font\": {\"color\": \"black\"}, \"id\": \"CH-StaASG/Urkunden/Tr_XVI.2\", \"label\": \"CH-StaASG/Urkunden/Tr_XVI.2\", \"shape\": \"dot\", \"size\": 10, \"title\": \"Manuscript: CH-StaASG/Urkunden/Tr_XVI.2\"}, {\"color\": \"lightgreen\", \"font\": {\"color\": \"black\"}, \"id\": \"1Chronicles_chapter_15\", \"label\": \"1Chronicles_chapter_15\", \"shape\": \"dot\", \"size\": 10, \"title\": \"Vulgate: 1Chronicles_chapter_15\"}, {\"color\": \"lightblue\", \"font\": {\"color\": \"black\"}, \"id\": \"OOEUB/1184_V\", \"label\": \"OOEUB/1184_V\", \"shape\": \"dot\", \"size\": 10, \"title\": \"Manuscript: OOEUB/1184_V\"}, {\"color\": \"lightgreen\", \"font\": {\"color\": \"black\"}, \"id\": \"Revelation_chapter_10\", \"label\": \"Revelation_chapter_10\", \"shape\": \"dot\", \"size\": 10, \"title\": \"Vulgate: Revelation_chapter_10\"}, {\"color\": \"lightgreen\", \"font\": {\"color\": \"black\"}, \"id\": \"Psalms_chapter_143\", \"label\": \"Psalms_chapter_143\", \"shape\": \"dot\", \"size\": 10, \"title\": \"Vulgate: Psalms_chapter_143\"}, {\"color\": \"lightblue\", \"font\": {\"color\": \"black\"}, \"id\": \"AT-StiASei/SeitenstettenOSB/1324_V_23\", \"label\": \"AT-StiASei/SeitenstettenOSB/1324_V_23\", \"shape\": \"dot\", \"size\": 10, \"title\": \"Manuscript: AT-StiASei/SeitenstettenOSB/1324_V_23\"}, {\"color\": \"lightgreen\", \"font\": {\"color\": \"black\"}, \"id\": \"Isaiah_chapter_36\", \"label\": \"Isaiah_chapter_36\", \"shape\": \"dot\", \"size\": 10, \"title\": \"Vulgate: Isaiah_chapter_36\"}, {\"color\": \"lightgreen\", \"font\": {\"color\": \"black\"}, \"id\": \"Hebrews_chapter_8\", \"label\": \"Hebrews_chapter_8\", \"shape\": \"dot\", \"size\": 10, \"title\": \"Vulgate: Hebrews_chapter_8\"}, {\"color\": \"lightgreen\", \"font\": {\"color\": \"black\"}, \"id\": \"Ecclesiastes_chapter_9\", \"label\": \"Ecclesiastes_chapter_9\", \"shape\": \"dot\", \"size\": 10, \"title\": \"Vulgate: Ecclesiastes_chapter_9\"}, {\"color\": \"lightgreen\", \"font\": {\"color\": \"black\"}, \"id\": \"Job_chapter_14\", \"label\": \"Job_chapter_14\", \"shape\": \"dot\", \"size\": 10, \"title\": \"Vulgate: Job_chapter_14\"}, {\"color\": \"lightgreen\", \"font\": {\"color\": \"black\"}, \"id\": \"ActsoftheApostles_chapter_8\", \"label\": \"ActsoftheApostles_chapter_8\", \"shape\": \"dot\", \"size\": 10, \"title\": \"Vulgate: ActsoftheApostles_chapter_8\"}, {\"color\": \"lightblue\", \"font\": {\"color\": \"black\"}, \"id\": \"AT-StiAScho/SchottenOSB/1302_V_25\", \"label\": \"AT-StiAScho/SchottenOSB/1302_V_25\", \"shape\": \"dot\", \"size\": 10, \"title\": \"Manuscript: AT-StiAScho/SchottenOSB/1302_V_25\"}, {\"color\": \"lightgreen\", \"font\": {\"color\": \"black\"}, \"id\": \"Ezekiel_chapter_45\", \"label\": \"Ezekiel_chapter_45\", \"shape\": \"dot\", \"size\": 10, \"title\": \"Vulgate: Ezekiel_chapter_45\"}, {\"color\": \"lightblue\", \"font\": {\"color\": \"black\"}, \"id\": \"WaldCanReg/1396_VI_04\", \"label\": \"WaldCanReg/1396_VI_04\", \"shape\": \"dot\", \"size\": 10, \"title\": \"Manuscript: WaldCanReg/1396_VI_04\"}, {\"color\": \"lightgreen\", \"font\": {\"color\": \"black\"}, \"id\": \"Romans_chapter_12\", \"label\": \"Romans_chapter_12\", \"shape\": \"dot\", \"size\": 10, \"title\": \"Vulgate: Romans_chapter_12\"}, {\"color\": \"lightblue\", \"font\": {\"color\": \"black\"}, \"id\": \"StPCanReg/1058_X_02\", \"label\": \"StPCanReg/1058_X_02\", \"shape\": \"dot\", \"size\": 10, \"title\": \"Manuscript: StPCanReg/1058_X_02\"}, {\"color\": \"lightgreen\", \"font\": {\"color\": \"black\"}, \"id\": \"Judges_chapter_20\", \"label\": \"Judges_chapter_20\", \"shape\": \"dot\", \"size\": 10, \"title\": \"Vulgate: Judges_chapter_20\"}, {\"color\": \"lightblue\", \"font\": {\"color\": \"black\"}, \"id\": \"CSGV/1303_III_04\", \"label\": \"CSGV/1303_III_04\", \"shape\": \"dot\", \"size\": 10, \"title\": \"Manuscript: CSGV/1303_III_04\"}, {\"color\": \"lightgreen\", \"font\": {\"color\": \"black\"}, \"id\": \"Exodus_chapter_8\", \"label\": \"Exodus_chapter_8\", \"shape\": \"dot\", \"size\": 10, \"title\": \"Vulgate: Exodus_chapter_8\"}, {\"color\": \"lightgreen\", \"font\": {\"color\": \"black\"}, \"id\": \"1Kings_chapter_2\", \"label\": \"1Kings_chapter_2\", \"shape\": \"dot\", \"size\": 10, \"title\": \"Vulgate: 1Kings_chapter_2\"}, {\"color\": \"lightblue\", \"font\": {\"color\": \"black\"}, \"id\": \"AT-StiAG/GoettweigOSB/1418_VII_03-23\", \"label\": \"AT-StiAG/GoettweigOSB/1418_VII_03-23\", \"shape\": \"dot\", \"size\": 10, \"title\": \"Manuscript: AT-StiAG/GoettweigOSB/1418_VII_03-23\"}, {\"color\": \"lightblue\", \"font\": {\"color\": \"black\"}, \"id\": \"OOEUB/1135\", \"label\": \"OOEUB/1135\", \"shape\": \"dot\", \"size\": 10, \"title\": \"Manuscript: OOEUB/1135\"}, {\"color\": \"lightgreen\", \"font\": {\"color\": \"black\"}, \"id\": \"2Kings_chapter_25\", \"label\": \"2Kings_chapter_25\", \"shape\": \"dot\", \"size\": 10, \"title\": \"Vulgate: 2Kings_chapter_25\"}, {\"color\": \"lightgreen\", \"font\": {\"color\": \"black\"}, \"id\": \"Genesis_chapter_8\", \"label\": \"Genesis_chapter_8\", \"shape\": \"dot\", \"size\": 10, \"title\": \"Vulgate: Genesis_chapter_8\"}, {\"color\": \"lightblue\", \"font\": {\"color\": \"black\"}, \"id\": \"AT-StiAW/Urkunden/1319_XI_03\", \"label\": \"AT-StiAW/Urkunden/1319_XI_03\", \"shape\": \"dot\", \"size\": 10, \"title\": \"Manuscript: AT-StiAW/Urkunden/1319_XI_03\"}, {\"color\": \"lightgreen\", \"font\": {\"color\": \"black\"}, \"id\": \"Nehemiah_chapter_5\", \"label\": \"Nehemiah_chapter_5\", \"shape\": \"dot\", \"size\": 10, \"title\": \"Vulgate: Nehemiah_chapter_5\"}, {\"color\": \"lightblue\", \"font\": {\"color\": \"black\"}, \"id\": \"DE-BayHStA/KURaitenhaslach/1194_06\", \"label\": \"DE-BayHStA/KURaitenhaslach/1194_06\", \"shape\": \"dot\", \"size\": 10, \"title\": \"Manuscript: DE-BayHStA/KURaitenhaslach/1194_06\"}, {\"color\": \"lightgreen\", \"font\": {\"color\": \"black\"}, \"id\": \"1Kings_chapter_1\", \"label\": \"1Kings_chapter_1\", \"shape\": \"dot\", \"size\": 10, \"title\": \"Vulgate: 1Kings_chapter_1\"}, {\"color\": \"lightblue\", \"font\": {\"color\": \"black\"}, \"id\": \"CSGIV/1279_XII_06\", \"label\": \"CSGIV/1279_XII_06\", \"shape\": \"dot\", \"size\": 10, \"title\": \"Manuscript: CSGIV/1279_XII_06\"}, {\"color\": \"lightgreen\", \"font\": {\"color\": \"black\"}, \"id\": \"John_chapter_4\", \"label\": \"John_chapter_4\", \"shape\": \"dot\", \"size\": 10, \"title\": \"Vulgate: John_chapter_4\"}, {\"color\": \"lightgreen\", \"font\": {\"color\": \"black\"}, \"id\": \"Exodus_chapter_18\", \"label\": \"Exodus_chapter_18\", \"shape\": \"dot\", \"size\": 10, \"title\": \"Vulgate: Exodus_chapter_18\"}, {\"color\": \"lightgreen\", \"font\": {\"color\": \"black\"}, \"id\": \"Ezra_chapter_3\", \"label\": \"Ezra_chapter_3\", \"shape\": \"dot\", \"size\": 10, \"title\": \"Vulgate: Ezra_chapter_3\"}, {\"color\": \"lightblue\", \"font\": {\"color\": \"black\"}, \"id\": \"CSGV/1301_IX_23\", \"label\": \"CSGV/1301_IX_23\", \"shape\": \"dot\", \"size\": 10, \"title\": \"Manuscript: CSGV/1301_IX_23\"}, {\"color\": \"lightgreen\", \"font\": {\"color\": \"black\"}, \"id\": \"Leviticus_chapter_16\", \"label\": \"Leviticus_chapter_16\", \"shape\": \"dot\", \"size\": 10, \"title\": \"Vulgate: Leviticus_chapter_16\"}, {\"color\": \"lightgreen\", \"font\": {\"color\": \"black\"}, \"id\": \"Psalms_chapter_148\", \"label\": \"Psalms_chapter_148\", \"shape\": \"dot\", \"size\": 10, \"title\": \"Vulgate: Psalms_chapter_148\"}, {\"color\": \"lightgreen\", \"font\": {\"color\": \"black\"}, \"id\": \"Psalms_chapter_54\", \"label\": \"Psalms_chapter_54\", \"shape\": \"dot\", \"size\": 10, \"title\": \"Vulgate: Psalms_chapter_54\"}, {\"color\": \"lightblue\", \"font\": {\"color\": \"black\"}, \"id\": \"AT-HHStA/SbgDK/AUR_1207_XII_10\", \"label\": \"AT-HHStA/SbgDK/AUR_1207_XII_10\", \"shape\": \"dot\", \"size\": 10, \"title\": \"Manuscript: AT-HHStA/SbgDK/AUR_1207_XII_10\"}, {\"color\": \"lightgreen\", \"font\": {\"color\": \"black\"}, \"id\": \"Genesis_chapter_21\", \"label\": \"Genesis_chapter_21\", \"shape\": \"dot\", \"size\": 10, \"title\": \"Vulgate: Genesis_chapter_21\"}, {\"color\": \"lightgreen\", \"font\": {\"color\": \"black\"}, \"id\": \"Joel_chapter_3\", \"label\": \"Joel_chapter_3\", \"shape\": \"dot\", \"size\": 10, \"title\": \"Vulgate: Joel_chapter_3\"}, {\"color\": \"lightgreen\", \"font\": {\"color\": \"black\"}, \"id\": \"Exodus_chapter_10\", \"label\": \"Exodus_chapter_10\", \"shape\": \"dot\", \"size\": 10, \"title\": \"Vulgate: Exodus_chapter_10\"}, {\"color\": \"lightblue\", \"font\": {\"color\": \"black\"}, \"id\": \"OOEUB/0977_X_05\", \"label\": \"OOEUB/0977_X_05\", \"shape\": \"dot\", \"size\": 10, \"title\": \"Manuscript: OOEUB/0977_X_05\"}, {\"color\": \"lightgreen\", \"font\": {\"color\": \"black\"}, \"id\": \"Joshua_chapter_7\", \"label\": \"Joshua_chapter_7\", \"shape\": \"dot\", \"size\": 10, \"title\": \"Vulgate: Joshua_chapter_7\"}, {\"color\": \"lightblue\", \"font\": {\"color\": \"black\"}, \"id\": \"AT-StiAKr/KremsmuensterOSB/1306_IV_17\", \"label\": \"AT-StiAKr/KremsmuensterOSB/1306_IV_17\", \"shape\": \"dot\", \"size\": 10, \"title\": \"Manuscript: AT-StiAKr/KremsmuensterOSB/1306_IV_17\"}, {\"color\": \"lightgreen\", \"font\": {\"color\": \"black\"}, \"id\": \"Psalms_chapter_32\", \"label\": \"Psalms_chapter_32\", \"shape\": \"dot\", \"size\": 10, \"title\": \"Vulgate: Psalms_chapter_32\"}]);\n",
       "                  edges = new vis.DataSet([{\"from\": \"OOEUB/0853_I_18\", \"title\": \"Shared shingles: 1\", \"to\": \"Genesis_chapter_25\", \"width\": 1}, {\"from\": \"AT-StiASei/SeitenstettenOSB/1240_III_16\", \"title\": \"Shared shingles: 5\", \"to\": \"Matthew_chapter_28\", \"width\": 5}, {\"from\": \"Matthew_chapter_28\", \"title\": \"Shared shingles: 5\", \"to\": \"CH-StiASG/Urkunden/PP.5.B.16\", \"width\": 5}, {\"from\": \"Matthew_chapter_28\", \"title\": \"Shared shingles: 5\", \"to\": \"FreisBm/1166_XII_03\", \"width\": 5}, {\"from\": \"Matthew_chapter_28\", \"title\": \"Shared shingles: 5\", \"to\": \"AT-StiASF/StFlorianCanReg/1261_II_25\", \"width\": 5}, {\"from\": \"Matthew_chapter_28\", \"title\": \"Shared shingles: 3\", \"to\": \"AT-StiAScho/SchottenOSB/1181_IX_01\", \"width\": 3}, {\"from\": \"Matthew_chapter_28\", \"title\": \"Shared shingles: 1\", \"to\": \"AT-OOeLA/GleinkOSB/1264_VI_16\", \"width\": 1}, {\"from\": \"Matthew_chapter_28\", \"title\": \"Shared shingles: 5\", \"to\": \"AT-OOeLA/GarstenOSB/1200.1\", \"width\": 5}, {\"from\": \"Matthew_chapter_28\", \"title\": \"Shared shingles: 5\", \"to\": \"StPCanReg/1267_XI_16.\", \"width\": 5}, {\"from\": \"AT-StiAG/GoettweigOSB/1327_IV_24\", \"title\": \"Shared shingles: 1\", \"to\": \"Joshua_chapter_22\", \"width\": 1}, {\"from\": \"AT-StiAG/GoettweigOSB/1327_IV_24\", \"title\": \"Shared shingles: 1\", \"to\": \"Luke_chapter_16\", \"width\": 1}, {\"from\": \"AT-StiAKr/KremsmuensterOSB/1247_I_21\", \"title\": \"Shared shingles: 1\", \"to\": \"John_chapter_10\", \"width\": 1}, {\"from\": \"AT-StiAKr/KremsmuensterOSB/1247_I_21\", \"title\": \"Shared shingles: 1\", \"to\": \"Exodus_chapter_29\", \"width\": 1}, {\"from\": \"AT-StiAKr/KremsmuensterOSB/1247_I_21\", \"title\": \"Shared shingles: 1\", \"to\": \"Genesis_chapter_37\", \"width\": 1}, {\"from\": \"John_chapter_10\", \"title\": \"Shared shingles: 1\", \"to\": \"CSGIII/Nr_1634_S_463-465\", \"width\": 1}, {\"from\": \"Exodus_chapter_29\", \"title\": \"Shared shingles: 1\", \"to\": \"CSGIII/Nr_1634_S_463-465\", \"width\": 1}, {\"from\": \"Genesis_chapter_37\", \"title\": \"Shared shingles: 1\", \"to\": \"CSGIII/Nr_1634_S_463-465\", \"width\": 1}, {\"from\": \"CSGIII/Nr_1634_S_463-465\", \"title\": \"Shared shingles: 1\", \"to\": \"2Thessalonians_chapter_2\", \"width\": 1}, {\"from\": \"CSGIII/Nr_1634_S_463-465\", \"title\": \"Shared shingles: 1\", \"to\": \"Ephesians_chapter_3\", \"width\": 1}, {\"from\": \"CSGIII/Nr_1634_S_463-465\", \"title\": \"Shared shingles: 1\", \"to\": \"Ephesians_chapter_1\", \"width\": 1}, {\"from\": \"CSGIII/Nr_1634_S_463-465\", \"title\": \"Shared shingles: 1\", \"to\": \"2Peter_chapter_1\", \"width\": 1}, {\"from\": \"CSGIII/Nr_1634_S_463-465\", \"title\": \"Shared shingles: 1\", \"to\": \"Romans_chapter_15\", \"width\": 1}, {\"from\": \"CSGIII/Nr_1634_S_463-465\", \"title\": \"Shared shingles: 1\", \"to\": \"1Timothy_chapter_6\", \"width\": 1}, {\"from\": \"CSGIII/Nr_1634_S_463-465\", \"title\": \"Shared shingles: 1\", \"to\": \"1Thessalonians_chapter_1\", \"width\": 1}, {\"from\": \"CSGIII/Nr_1634_S_463-465\", \"title\": \"Shared shingles: 1\", \"to\": \"Revelation_chapter_22\", \"width\": 1}, {\"from\": \"CSGIII/Nr_1634_S_463-465\", \"title\": \"Shared shingles: 1\", \"to\": \"1Corinthians_chapter_6\", \"width\": 1}, {\"from\": \"CSGIII/Nr_1634_S_463-465\", \"title\": \"Shared shingles: 1\", \"to\": \"2Thessalonians_chapter_1\", \"width\": 1}, {\"from\": \"CSGIII/Nr_1634_S_463-465\", \"title\": \"Shared shingles: 1\", \"to\": \"Galatians_chapter_6\", \"width\": 1}, {\"from\": \"CSGIII/Nr_1634_S_463-465\", \"title\": \"Shared shingles: 1\", \"to\": \"1Peter_chapter_1\", \"width\": 1}, {\"from\": \"CSGIII/Nr_1634_S_463-465\", \"title\": \"Shared shingles: 1\", \"to\": \"2Corinthians_chapter_8\", \"width\": 1}, {\"from\": \"CSGIII/Nr_1634_S_463-465\", \"title\": \"Shared shingles: 1\", \"to\": \"1Thessalonians_chapter_5\", \"width\": 1}, {\"from\": \"CSGIII/Nr_1634_S_463-465\", \"title\": \"Shared shingles: 1\", \"to\": \"Ephesians_chapter_5\", \"width\": 1}, {\"from\": \"CSGIII/Nr_1634_S_463-465\", \"title\": \"Shared shingles: 1\", \"to\": \"2Corinthians_chapter_13\", \"width\": 1}, {\"from\": \"CSGIII/Nr_1634_S_463-465\", \"title\": \"Shared shingles: 1\", \"to\": \"1Corinthians_chapter_5\", \"width\": 1}, {\"from\": \"CSGIII/Nr_1634_S_463-465\", \"title\": \"Shared shingles: 1\", \"to\": \"Colossians_chapter_1\", \"width\": 1}, {\"from\": \"CSGIII/Nr_1634_S_463-465\", \"title\": \"Shared shingles: 1\", \"to\": \"2Corinthians_chapter_1\", \"width\": 1}, {\"from\": \"CSGIII/Nr_1634_S_463-465\", \"title\": \"Shared shingles: 1\", \"to\": \"Jude_chapter_1\", \"width\": 1}, {\"from\": \"CSGIII/Nr_1634_S_463-465\", \"title\": \"Shared shingles: 1\", \"to\": \"ActsoftheApostles_chapter_15\", \"width\": 1}, {\"from\": \"CSGIII/Nr_1634_S_463-465\", \"title\": \"Shared shingles: 1\", \"to\": \"1Corinthians_chapter_1\", \"width\": 1}, {\"from\": \"CSGIII/Nr_1634_S_463-465\", \"title\": \"Shared shingles: 1\", \"to\": \"James_chapter_2\", \"width\": 1}, {\"from\": \"CSGIII/Nr_1634_S_463-465\", \"title\": \"Shared shingles: 1\", \"to\": \"2Thessalonians_chapter_3\", \"width\": 1}, {\"from\": \"CSGIII/Nr_1634_S_463-465\", \"title\": \"Shared shingles: 1\", \"to\": \"Romans_chapter_16\", \"width\": 1}, {\"from\": \"CSGIII/Nr_1634_S_463-465\", \"title\": \"Shared shingles: 1\", \"to\": \"James_chapter_1\", \"width\": 1}, {\"from\": \"CSGIII/Nr_1634_S_463-465\", \"title\": \"Shared shingles: 1\", \"to\": \"Philemon_chapter_1\", \"width\": 1}, {\"from\": \"2Thessalonians_chapter_2\", \"title\": \"Shared shingles: 1\", \"to\": \"CSGIII/Nr_915_S_35-37\", \"width\": 1}, {\"from\": \"2Thessalonians_chapter_2\", \"title\": \"Shared shingles: 1\", \"to\": \"DE-BayHStA/KURaitenhaslach/1243_02_14\", \"width\": 1}, {\"from\": \"2Thessalonians_chapter_2\", \"title\": \"Shared shingles: 1\", \"to\": \"AT-HHStA/SbgDK/AUR_1201_II_03\", \"width\": 1}, {\"from\": \"2Thessalonians_chapter_2\", \"title\": \"Shared shingles: 1\", \"to\": \"CH-StiASG/Urkunden/O.4.E.6\", \"width\": 1}, {\"from\": \"2Thessalonians_chapter_2\", \"title\": \"Shared shingles: 1\", \"to\": \"OOEUB/1139_III_29\", \"width\": 1}, {\"from\": \"Ephesians_chapter_3\", \"title\": \"Shared shingles: 1\", \"to\": \"CSGIII/Nr_915_S_35-37\", \"width\": 1}, {\"from\": \"Ephesians_chapter_3\", \"title\": \"Shared shingles: 1\", \"to\": \"DE-BayHStA/KURaitenhaslach/1243_02_14\", \"width\": 1}, {\"from\": \"Ephesians_chapter_3\", \"title\": \"Shared shingles: 1\", \"to\": \"AT-HHStA/SbgDK/AUR_1201_II_03\", \"width\": 1}, {\"from\": \"Ephesians_chapter_3\", \"title\": \"Shared shingles: 1\", \"to\": \"CH-StiASG/Urkunden/O.4.E.6\", \"width\": 1}, {\"from\": \"Ephesians_chapter_3\", \"title\": \"Shared shingles: 1\", \"to\": \"OOEUB/1139_III_29\", \"width\": 1}, {\"from\": \"Ephesians_chapter_1\", \"title\": \"Shared shingles: 1\", \"to\": \"CSGIII/Nr_915_S_35-37\", \"width\": 1}, {\"from\": \"Ephesians_chapter_1\", \"title\": \"Shared shingles: 1\", \"to\": \"DE-BayHStA/KURaitenhaslach/1243_02_14\", \"width\": 1}, {\"from\": \"Ephesians_chapter_1\", \"title\": \"Shared shingles: 1\", \"to\": \"AT-HHStA/SbgDK/AUR_1201_II_03\", \"width\": 1}, {\"from\": \"Ephesians_chapter_1\", \"title\": \"Shared shingles: 1\", \"to\": \"CH-StiASG/Urkunden/O.4.E.6\", \"width\": 1}, {\"from\": \"Ephesians_chapter_1\", \"title\": \"Shared shingles: 1\", \"to\": \"OOEUB/1139_III_29\", \"width\": 1}, {\"from\": \"2Peter_chapter_1\", \"title\": \"Shared shingles: 1\", \"to\": \"CSGIII/Nr_915_S_35-37\", \"width\": 1}, {\"from\": \"2Peter_chapter_1\", \"title\": \"Shared shingles: 1\", \"to\": \"DE-BayHStA/KURaitenhaslach/1243_02_14\", \"width\": 1}, {\"from\": \"2Peter_chapter_1\", \"title\": \"Shared shingles: 1\", \"to\": \"AT-HHStA/SbgDK/AUR_1201_II_03\", \"width\": 1}, {\"from\": \"2Peter_chapter_1\", \"title\": \"Shared shingles: 1\", \"to\": \"CH-StiASG/Urkunden/O.4.E.6\", \"width\": 1}, {\"from\": \"2Peter_chapter_1\", \"title\": \"Shared shingles: 1\", \"to\": \"OOEUB/1139_III_29\", \"width\": 1}, {\"from\": \"Romans_chapter_15\", \"title\": \"Shared shingles: 1\", \"to\": \"CSGIII/Nr_915_S_35-37\", \"width\": 1}, {\"from\": \"Romans_chapter_15\", \"title\": \"Shared shingles: 1\", \"to\": \"DE-BayHStA/KURaitenhaslach/1243_02_14\", \"width\": 1}, {\"from\": \"Romans_chapter_15\", \"title\": \"Shared shingles: 1\", \"to\": \"AT-HHStA/SbgDK/AUR_1201_II_03\", \"width\": 1}, {\"from\": \"Romans_chapter_15\", \"title\": \"Shared shingles: 1\", \"to\": \"CH-StiASG/Urkunden/O.4.E.6\", \"width\": 1}, {\"from\": \"Romans_chapter_15\", \"title\": \"Shared shingles: 1\", \"to\": \"OOEUB/1139_III_29\", \"width\": 1}, {\"from\": \"1Timothy_chapter_6\", \"title\": \"Shared shingles: 1\", \"to\": \"CSGIII/Nr_915_S_35-37\", \"width\": 1}, {\"from\": \"1Timothy_chapter_6\", \"title\": \"Shared shingles: 1\", \"to\": \"DE-BayHStA/KURaitenhaslach/1243_02_14\", \"width\": 1}, {\"from\": \"1Timothy_chapter_6\", \"title\": \"Shared shingles: 1\", \"to\": \"AT-HHStA/SbgDK/AUR_1201_II_03\", \"width\": 1}, {\"from\": \"1Timothy_chapter_6\", \"title\": \"Shared shingles: 1\", \"to\": \"CH-StiASG/Urkunden/O.4.E.6\", \"width\": 1}, {\"from\": \"1Timothy_chapter_6\", \"title\": \"Shared shingles: 1\", \"to\": \"OOEUB/1139_III_29\", \"width\": 1}, {\"from\": \"1Thessalonians_chapter_1\", \"title\": \"Shared shingles: 1\", \"to\": \"CSGIII/Nr_915_S_35-37\", \"width\": 1}, {\"from\": \"1Thessalonians_chapter_1\", \"title\": \"Shared shingles: 1\", \"to\": \"DE-BayHStA/KURaitenhaslach/1243_02_14\", \"width\": 1}, {\"from\": \"1Thessalonians_chapter_1\", \"title\": \"Shared shingles: 1\", \"to\": \"AT-HHStA/SbgDK/AUR_1201_II_03\", \"width\": 1}, {\"from\": \"1Thessalonians_chapter_1\", \"title\": \"Shared shingles: 1\", \"to\": \"CH-StiASG/Urkunden/O.4.E.6\", \"width\": 1}, {\"from\": \"1Thessalonians_chapter_1\", \"title\": \"Shared shingles: 1\", \"to\": \"OOEUB/1139_III_29\", \"width\": 1}, {\"from\": \"Revelation_chapter_22\", \"title\": \"Shared shingles: 1\", \"to\": \"CSGIII/Nr_915_S_35-37\", \"width\": 1}, {\"from\": \"Revelation_chapter_22\", \"title\": \"Shared shingles: 1\", \"to\": \"AT-StiAHe/HerzogenburgCanReg/1151_IV_17\", \"width\": 1}, {\"from\": \"Revelation_chapter_22\", \"title\": \"Shared shingles: 1\", \"to\": \"DE-BayHStA/KURaitenhaslach/1243_02_14\", \"width\": 1}, {\"from\": \"Revelation_chapter_22\", \"title\": \"Shared shingles: 1\", \"to\": \"OOEUB/0890_XI_20\", \"width\": 1}, {\"from\": \"Revelation_chapter_22\", \"title\": \"Shared shingles: 1\", \"to\": \"AT-HHStA/SbgDK/AUR_1201_II_03\", \"width\": 1}, {\"from\": \"Revelation_chapter_22\", \"title\": \"Shared shingles: 1\", \"to\": \"CH-StiASG/Urkunden/O.4.E.6\", \"width\": 1}, {\"from\": \"Revelation_chapter_22\", \"title\": \"Shared shingles: 1\", \"to\": \"OOEUB/1139_III_29\", \"width\": 1}, {\"from\": \"1Corinthians_chapter_6\", \"title\": \"Shared shingles: 1\", \"to\": \"CSGIII/Nr_915_S_35-37\", \"width\": 1}, {\"from\": \"1Corinthians_chapter_6\", \"title\": \"Shared shingles: 1\", \"to\": \"DE-BayHStA/KURaitenhaslach/1243_02_14\", \"width\": 1}, {\"from\": \"1Corinthians_chapter_6\", \"title\": \"Shared shingles: 1\", \"to\": \"AT-HHStA/SbgDK/AUR_1201_II_03\", \"width\": 1}, {\"from\": \"1Corinthians_chapter_6\", \"title\": \"Shared shingles: 2\", \"to\": \"CH-StiASG/Urkunden/O.4.E.6\", \"width\": 2}, {\"from\": \"1Corinthians_chapter_6\", \"title\": \"Shared shingles: 1\", \"to\": \"OOEUB/1139_III_29\", \"width\": 1}, {\"from\": \"2Thessalonians_chapter_1\", \"title\": \"Shared shingles: 1\", \"to\": \"CSGIII/Nr_915_S_35-37\", \"width\": 1}, {\"from\": \"2Thessalonians_chapter_1\", \"title\": \"Shared shingles: 1\", \"to\": \"DE-BayHStA/KURaitenhaslach/1243_02_14\", \"width\": 1}, {\"from\": \"2Thessalonians_chapter_1\", \"title\": \"Shared shingles: 1\", \"to\": \"AT-HHStA/SbgDK/AUR_1201_II_03\", \"width\": 1}, {\"from\": \"2Thessalonians_chapter_1\", \"title\": \"Shared shingles: 1\", \"to\": \"CH-StiASG/Urkunden/O.4.E.6\", \"width\": 1}, {\"from\": \"2Thessalonians_chapter_1\", \"title\": \"Shared shingles: 1\", \"to\": \"OOEUB/1139_III_29\", \"width\": 1}, {\"from\": \"Galatians_chapter_6\", \"title\": \"Shared shingles: 1\", \"to\": \"CSGIII/Nr_915_S_35-37\", \"width\": 1}, {\"from\": \"Galatians_chapter_6\", \"title\": \"Shared shingles: 1\", \"to\": \"DE-BayHStA/KURaitenhaslach/1243_02_14\", \"width\": 1}, {\"from\": \"Galatians_chapter_6\", \"title\": \"Shared shingles: 1\", \"to\": \"AT-HHStA/SbgDK/AUR_1201_II_03\", \"width\": 1}, {\"from\": \"Galatians_chapter_6\", \"title\": \"Shared shingles: 1\", \"to\": \"CH-StiASG/Urkunden/O.4.E.6\", \"width\": 1}, {\"from\": \"Galatians_chapter_6\", \"title\": \"Shared shingles: 1\", \"to\": \"OOEUB/1139_III_29\", \"width\": 1}, {\"from\": \"1Peter_chapter_1\", \"title\": \"Shared shingles: 1\", \"to\": \"CSGIII/Nr_915_S_35-37\", \"width\": 1}, {\"from\": \"1Peter_chapter_1\", \"title\": \"Shared shingles: 1\", \"to\": \"DE-BayHStA/KURaitenhaslach/1243_02_14\", \"width\": 1}, {\"from\": \"1Peter_chapter_1\", \"title\": \"Shared shingles: 1\", \"to\": \"AT-HHStA/SbgDK/AUR_1201_II_03\", \"width\": 1}, {\"from\": \"1Peter_chapter_1\", \"title\": \"Shared shingles: 1\", \"to\": \"CH-StiASG/Urkunden/O.4.E.6\", \"width\": 1}, {\"from\": \"1Peter_chapter_1\", \"title\": \"Shared shingles: 1\", \"to\": \"OOEUB/1139_III_29\", \"width\": 1}, {\"from\": \"2Corinthians_chapter_8\", \"title\": \"Shared shingles: 1\", \"to\": \"CSGIII/Nr_915_S_35-37\", \"width\": 1}, {\"from\": \"2Corinthians_chapter_8\", \"title\": \"Shared shingles: 1\", \"to\": \"DE-BayHStA/KURaitenhaslach/1243_02_14\", \"width\": 1}, {\"from\": \"2Corinthians_chapter_8\", \"title\": \"Shared shingles: 1\", \"to\": \"AT-HHStA/SbgDK/AUR_1201_II_03\", \"width\": 1}, {\"from\": \"2Corinthians_chapter_8\", \"title\": \"Shared shingles: 1\", \"to\": \"CH-StiASG/Urkunden/O.4.E.6\", \"width\": 1}, {\"from\": \"2Corinthians_chapter_8\", \"title\": \"Shared shingles: 1\", \"to\": \"OOEUB/1139_III_29\", \"width\": 1}, {\"from\": \"1Thessalonians_chapter_5\", \"title\": \"Shared shingles: 1\", \"to\": \"CSGIII/Nr_915_S_35-37\", \"width\": 1}, {\"from\": \"1Thessalonians_chapter_5\", \"title\": \"Shared shingles: 1\", \"to\": \"DE-BayHStA/KURaitenhaslach/1243_02_14\", \"width\": 1}, {\"from\": \"1Thessalonians_chapter_5\", \"title\": \"Shared shingles: 1\", \"to\": \"AT-HHStA/SbgDK/AUR_1201_II_03\", \"width\": 1}, {\"from\": \"1Thessalonians_chapter_5\", \"title\": \"Shared shingles: 1\", \"to\": \"CH-StiASG/Urkunden/O.4.E.6\", \"width\": 1}, {\"from\": \"1Thessalonians_chapter_5\", \"title\": \"Shared shingles: 1\", \"to\": \"OOEUB/1139_III_29\", \"width\": 1}, {\"from\": \"Ephesians_chapter_5\", \"title\": \"Shared shingles: 1\", \"to\": \"CSGIII/Nr_915_S_35-37\", \"width\": 1}, {\"from\": \"Ephesians_chapter_5\", \"title\": \"Shared shingles: 1\", \"to\": \"DE-BayHStA/KURaitenhaslach/1243_02_14\", \"width\": 1}, {\"from\": \"Ephesians_chapter_5\", \"title\": \"Shared shingles: 1\", \"to\": \"AT-HHStA/SbgDK/AUR_1201_II_03\", \"width\": 1}, {\"from\": \"Ephesians_chapter_5\", \"title\": \"Shared shingles: 2\", \"to\": \"CH-StiASG/Urkunden/O.4.E.6\", \"width\": 2}, {\"from\": \"Ephesians_chapter_5\", \"title\": \"Shared shingles: 1\", \"to\": \"OOEUB/1139_III_29\", \"width\": 1}, {\"from\": \"2Corinthians_chapter_13\", \"title\": \"Shared shingles: 1\", \"to\": \"CSGIII/Nr_915_S_35-37\", \"width\": 1}, {\"from\": \"2Corinthians_chapter_13\", \"title\": \"Shared shingles: 1\", \"to\": \"DE-BayHStA/KURaitenhaslach/1243_02_14\", \"width\": 1}, {\"from\": \"2Corinthians_chapter_13\", \"title\": \"Shared shingles: 1\", \"to\": \"AT-HHStA/SbgDK/AUR_1201_II_03\", \"width\": 1}, {\"from\": \"2Corinthians_chapter_13\", \"title\": \"Shared shingles: 1\", \"to\": \"CH-StiASG/Urkunden/O.4.E.6\", \"width\": 1}, {\"from\": \"2Corinthians_chapter_13\", \"title\": \"Shared shingles: 1\", \"to\": \"OOEUB/1139_III_29\", \"width\": 1}, {\"from\": \"1Corinthians_chapter_5\", \"title\": \"Shared shingles: 1\", \"to\": \"CSGIII/Nr_915_S_35-37\", \"width\": 1}, {\"from\": \"1Corinthians_chapter_5\", \"title\": \"Shared shingles: 1\", \"to\": \"DE-BayHStA/KURaitenhaslach/1243_02_14\", \"width\": 1}, {\"from\": \"1Corinthians_chapter_5\", \"title\": \"Shared shingles: 2\", \"to\": \"AT-StiAR/ReichersbergCanReg/1179_II_10\", \"width\": 2}, {\"from\": \"1Corinthians_chapter_5\", \"title\": \"Shared shingles: 1\", \"to\": \"AT-HHStA/SbgDK/AUR_1201_II_03\", \"width\": 1}, {\"from\": \"1Corinthians_chapter_5\", \"title\": \"Shared shingles: 2\", \"to\": \"CH-StiASG/Urkunden/O.4.E.6\", \"width\": 2}, {\"from\": \"1Corinthians_chapter_5\", \"title\": \"Shared shingles: 1\", \"to\": \"OOEUB/1139_III_29\", \"width\": 1}, {\"from\": \"Colossians_chapter_1\", \"title\": \"Shared shingles: 1\", \"to\": \"CSGIII/Nr_915_S_35-37\", \"width\": 1}, {\"from\": \"Colossians_chapter_1\", \"title\": \"Shared shingles: 1\", \"to\": \"DE-BayHStA/KURaitenhaslach/1243_02_14\", \"width\": 1}, {\"from\": \"Colossians_chapter_1\", \"title\": \"Shared shingles: 1\", \"to\": \"AT-HHStA/SbgDK/AUR_1201_II_03\", \"width\": 1}, {\"from\": \"Colossians_chapter_1\", \"title\": \"Shared shingles: 1\", \"to\": \"CH-StiASG/Urkunden/O.4.E.6\", \"width\": 1}, {\"from\": \"Colossians_chapter_1\", \"title\": \"Shared shingles: 1\", \"to\": \"OOEUB/1139_III_29\", \"width\": 1}, {\"from\": \"2Corinthians_chapter_1\", \"title\": \"Shared shingles: 1\", \"to\": \"CSGIII/Nr_915_S_35-37\", \"width\": 1}, {\"from\": \"2Corinthians_chapter_1\", \"title\": \"Shared shingles: 1\", \"to\": \"DE-BayHStA/KURaitenhaslach/1243_02_14\", \"width\": 1}, {\"from\": \"2Corinthians_chapter_1\", \"title\": \"Shared shingles: 1\", \"to\": \"AT-HHStA/SbgDK/AUR_1201_II_03\", \"width\": 1}, {\"from\": \"2Corinthians_chapter_1\", \"title\": \"Shared shingles: 1\", \"to\": \"CH-StiASG/Urkunden/O.4.E.6\", \"width\": 1}, {\"from\": \"2Corinthians_chapter_1\", \"title\": \"Shared shingles: 1\", \"to\": \"OOEUB/1139_III_29\", \"width\": 1}, {\"from\": \"Jude_chapter_1\", \"title\": \"Shared shingles: 1\", \"to\": \"CSGIII/Nr_915_S_35-37\", \"width\": 1}, {\"from\": \"Jude_chapter_1\", \"title\": \"Shared shingles: 1\", \"to\": \"DE-BayHStA/KURaitenhaslach/1243_02_14\", \"width\": 1}, {\"from\": \"Jude_chapter_1\", \"title\": \"Shared shingles: 1\", \"to\": \"AT-HHStA/SbgDK/AUR_1201_II_03\", \"width\": 1}, {\"from\": \"Jude_chapter_1\", \"title\": \"Shared shingles: 1\", \"to\": \"CH-StiASG/Urkunden/O.4.E.6\", \"width\": 1}, {\"from\": \"Jude_chapter_1\", \"title\": \"Shared shingles: 1\", \"to\": \"OOEUB/1139_III_29\", \"width\": 1}, {\"from\": \"ActsoftheApostles_chapter_15\", \"title\": \"Shared shingles: 1\", \"to\": \"CSGIII/Nr_915_S_35-37\", \"width\": 1}, {\"from\": \"ActsoftheApostles_chapter_15\", \"title\": \"Shared shingles: 1\", \"to\": \"DE-BayHStA/KURaitenhaslach/1243_02_14\", \"width\": 1}, {\"from\": \"ActsoftheApostles_chapter_15\", \"title\": \"Shared shingles: 1\", \"to\": \"AT-HHStA/SbgDK/AUR_1201_II_03\", \"width\": 1}, {\"from\": \"ActsoftheApostles_chapter_15\", \"title\": \"Shared shingles: 2\", \"to\": \"CH-StiASG/Urkunden/O.4.E.6\", \"width\": 2}, {\"from\": \"ActsoftheApostles_chapter_15\", \"title\": \"Shared shingles: 1\", \"to\": \"OOEUB/1139_III_29\", \"width\": 1}, {\"from\": \"1Corinthians_chapter_1\", \"title\": \"Shared shingles: 1\", \"to\": \"CSGIII/Nr_915_S_35-37\", \"width\": 1}, {\"from\": \"1Corinthians_chapter_1\", \"title\": \"Shared shingles: 1\", \"to\": \"DE-BayHStA/KURaitenhaslach/1243_02_14\", \"width\": 1}, {\"from\": \"1Corinthians_chapter_1\", \"title\": \"Shared shingles: 1\", \"to\": \"AT-HHStA/SbgDK/AUR_1201_II_03\", \"width\": 1}, {\"from\": \"1Corinthians_chapter_1\", \"title\": \"Shared shingles: 1\", \"to\": \"CH-StiASG/Urkunden/O.4.E.6\", \"width\": 1}, {\"from\": \"1Corinthians_chapter_1\", \"title\": \"Shared shingles: 1\", \"to\": \"OOEUB/1139_III_29\", \"width\": 1}, {\"from\": \"James_chapter_2\", \"title\": \"Shared shingles: 1\", \"to\": \"CSGIII/Nr_915_S_35-37\", \"width\": 1}, {\"from\": \"James_chapter_2\", \"title\": \"Shared shingles: 1\", \"to\": \"DE-BayHStA/KURaitenhaslach/1243_02_14\", \"width\": 1}, {\"from\": \"James_chapter_2\", \"title\": \"Shared shingles: 1\", \"to\": \"AT-HHStA/SbgDK/AUR_1201_II_03\", \"width\": 1}, {\"from\": \"James_chapter_2\", \"title\": \"Shared shingles: 1\", \"to\": \"CH-StiASG/Urkunden/O.4.E.6\", \"width\": 1}, {\"from\": \"James_chapter_2\", \"title\": \"Shared shingles: 1\", \"to\": \"OOEUB/1139_III_29\", \"width\": 1}, {\"from\": \"2Thessalonians_chapter_3\", \"title\": \"Shared shingles: 1\", \"to\": \"CSGIII/Nr_915_S_35-37\", \"width\": 1}, {\"from\": \"2Thessalonians_chapter_3\", \"title\": \"Shared shingles: 1\", \"to\": \"DE-BayHStA/KURaitenhaslach/1243_02_14\", \"width\": 1}, {\"from\": \"2Thessalonians_chapter_3\", \"title\": \"Shared shingles: 1\", \"to\": \"AT-HHStA/SbgDK/AUR_1201_II_03\", \"width\": 1}, {\"from\": \"2Thessalonians_chapter_3\", \"title\": \"Shared shingles: 2\", \"to\": \"CH-StiASG/Urkunden/O.4.E.6\", \"width\": 2}, {\"from\": \"2Thessalonians_chapter_3\", \"title\": \"Shared shingles: 1\", \"to\": \"OOEUB/1139_III_29\", \"width\": 1}, {\"from\": \"Romans_chapter_16\", \"title\": \"Shared shingles: 1\", \"to\": \"CSGIII/Nr_915_S_35-37\", \"width\": 1}, {\"from\": \"Romans_chapter_16\", \"title\": \"Shared shingles: 1\", \"to\": \"DE-BayHStA/KURaitenhaslach/1243_02_14\", \"width\": 1}, {\"from\": \"Romans_chapter_16\", \"title\": \"Shared shingles: 1\", \"to\": \"AT-HHStA/SbgDK/AUR_1201_II_03\", \"width\": 1}, {\"from\": \"Romans_chapter_16\", \"title\": \"Shared shingles: 1\", \"to\": \"CH-StiASG/Urkunden/O.4.E.6\", \"width\": 1}, {\"from\": \"Romans_chapter_16\", \"title\": \"Shared shingles: 1\", \"to\": \"OOEUB/1139_III_29\", \"width\": 1}, {\"from\": \"James_chapter_1\", \"title\": \"Shared shingles: 1\", \"to\": \"CSGIII/Nr_915_S_35-37\", \"width\": 1}, {\"from\": \"James_chapter_1\", \"title\": \"Shared shingles: 1\", \"to\": \"DE-BayHStA/KURaitenhaslach/1243_02_14\", \"width\": 1}, {\"from\": \"James_chapter_1\", \"title\": \"Shared shingles: 1\", \"to\": \"AT-HHStA/SbgDK/AUR_1201_II_03\", \"width\": 1}, {\"from\": \"James_chapter_1\", \"title\": \"Shared shingles: 1\", \"to\": \"OOEUB/1148_III_30\", \"width\": 1}, {\"from\": \"James_chapter_1\", \"title\": \"Shared shingles: 1\", \"to\": \"CH-StiASG/Urkunden/O.4.E.6\", \"width\": 1}, {\"from\": \"James_chapter_1\", \"title\": \"Shared shingles: 1\", \"to\": \"OOEUB/1139_III_29\", \"width\": 1}, {\"from\": \"James_chapter_1\", \"title\": \"Shared shingles: 1\", \"to\": \"OOEUB/1179_IV_20\", \"width\": 1}, {\"from\": \"Philemon_chapter_1\", \"title\": \"Shared shingles: 1\", \"to\": \"CSGIII/Nr_915_S_35-37\", \"width\": 1}, {\"from\": \"Philemon_chapter_1\", \"title\": \"Shared shingles: 1\", \"to\": \"DE-BayHStA/KURaitenhaslach/1243_02_14\", \"width\": 1}, {\"from\": \"Philemon_chapter_1\", \"title\": \"Shared shingles: 1\", \"to\": \"AT-HHStA/SbgDK/AUR_1201_II_03\", \"width\": 1}, {\"from\": \"Philemon_chapter_1\", \"title\": \"Shared shingles: 1\", \"to\": \"CH-StiASG/Urkunden/O.4.E.6\", \"width\": 1}, {\"from\": \"Philemon_chapter_1\", \"title\": \"Shared shingles: 1\", \"to\": \"OOEUB/1139_III_29\", \"width\": 1}, {\"from\": \"AT-StiAW/Urkunden/1161\", \"title\": \"Shared shingles: 1\", \"to\": \"Hebrews_chapter_9\", \"width\": 1}, {\"from\": \"Hebrews_chapter_9\", \"title\": \"Shared shingles: 1\", \"to\": \"AT-StiAG/GoettweigOSB/1219_VIII_23\", \"width\": 1}, {\"from\": \"AT-HHStA/SbgE/AUR_1228_VIII_18\", \"title\": \"Shared shingles: 1\", \"to\": \"1Samuel_chapter_7\", \"width\": 1}, {\"from\": \"WaldCanReg/1285\", \"title\": \"Shared shingles: 1\", \"to\": \"Judges_chapter_15\", \"width\": 1}, {\"from\": \"AT-StiAScho/SchottenOSB/1238_XII_21\", \"title\": \"Shared shingles: 1\", \"to\": \"Judges_chapter_6\", \"width\": 1}, {\"from\": \"AT-StiAScho/SchottenOSB/1238_XII_21\", \"title\": \"Shared shingles: 1\", \"to\": \"1Kings_chapter_12\", \"width\": 1}, {\"from\": \"AT-SchlAWei/Urkunden/1384_07_10\", \"title\": \"Shared shingles: 1\", \"to\": \"2Kings_chapter_20\", \"width\": 1}, {\"from\": \"AT-SchlAWei/Urkunden/1384_07_10\", \"title\": \"Shared shingles: 1\", \"to\": \"Numbers_chapter_30\", \"width\": 1}, {\"from\": \"AT-SchlAWei/Urkunden/1384_07_10\", \"title\": \"Shared shingles: 1\", \"to\": \"Jeremiah_chapter_4\", \"width\": 1}, {\"from\": \"AT-SchlAWei/Urkunden/1384_07_10\", \"title\": \"Shared shingles: 1\", \"to\": \"Isaiah_chapter_38\", \"width\": 1}, {\"from\": \"AT-SchlAWei/Urkunden/1384_07_10\", \"title\": \"Shared shingles: 1\", \"to\": \"Deuteronomy_chapter_22\", \"width\": 1}, {\"from\": \"AT-SchlAWei/Urkunden/1384_07_10\", \"title\": \"Shared shingles: 1\", \"to\": \"Genesis_chapter_38\", \"width\": 1}, {\"from\": \"AT-SchlAWei/Urkunden/1384_07_10\", \"title\": \"Shared shingles: 1\", \"to\": \"ActsoftheApostles_chapter_7\", \"width\": 1}, {\"from\": \"AT-SchlAWei/Urkunden/1384_07_10\", \"title\": \"Shared shingles: 1\", \"to\": \"Judges_chapter_17\", \"width\": 1}, {\"from\": \"CH-StiASG/Urkunden/FF.4.F.3\", \"title\": \"Shared shingles: 1\", \"to\": \"1Samuel_chapter_6\", \"width\": 1}, {\"from\": \"AT-HHStA/SbgE/AUR_0816_II_05\", \"title\": \"Shared shingles: 1\", \"to\": \"Jeremiah_chapter_26\", \"width\": 1}, {\"from\": \"AT-HHStA/SbgE/AUR_0816_II_05\", \"title\": \"Shared shingles: 1\", \"to\": \"Micah_chapter_4\", \"width\": 1}, {\"from\": \"AT-HHStA/SbgE/AUR_0816_II_05\", \"title\": \"Shared shingles: 1\", \"to\": \"2Timothy_chapter_1\", \"width\": 1}, {\"from\": \"AT-HHStA/SbgE/AUR_0816_II_05\", \"title\": \"Shared shingles: 1\", \"to\": \"2Chronicles_chapter_33\", \"width\": 1}, {\"from\": \"AT-HHStA/SbgE/AUR_0816_II_05\", \"title\": \"Shared shingles: 1\", \"to\": \"Joshua_chapter_9\", \"width\": 1}, {\"from\": \"AT-HHStA/SbgE/AUR_0816_II_05\", \"title\": \"Shared shingles: 3\", \"to\": \"Titus_chapter_2\", \"width\": 3}, {\"from\": \"AT-HHStA/SbgDK/AUR_1159_VII_16\", \"title\": \"Shared shingles: 10\", \"to\": \"Matthew_chapter_25\", \"width\": 10}, {\"from\": \"AT-HHStA/SbgDK/AUR_1159_VII_16\", \"title\": \"Shared shingles: 1\", \"to\": \"Colossians_chapter_3\", \"width\": 1}, {\"from\": \"Colossians_chapter_3\", \"title\": \"Shared shingles: 1\", \"to\": \"StPCanReg/1366_I_17\", \"width\": 1}, {\"from\": \"Colossians_chapter_3\", \"title\": \"Shared shingles: 1\", \"to\": \"AT-HHStA/SbgE/AUR_1242_VII_13\", \"width\": 1}, {\"from\": \"AT-StiASei/SeitenstettenOSB/1269_XI_13\", \"title\": \"Shared shingles: 1\", \"to\": \"Leviticus_chapter_11\", \"width\": 1}, {\"from\": \"Leviticus_chapter_11\", \"title\": \"Shared shingles: 1\", \"to\": \"DE-BayHStA/KURaitenhaslach/1243_03_15\", \"width\": 1}, {\"from\": \"DE-BayHStA/KURaitenhaslach/1320_04_07\", \"title\": \"Shared shingles: 1\", \"to\": \"Job_chapter_41\", \"width\": 1}, {\"from\": \"CH-StaASG/Urkunden/Spitalarchiv_B.1.6a\", \"title\": \"Shared shingles: 12\", \"to\": \"2Corinthians_chapter_9\", \"width\": 12}, {\"from\": \"AT-StiASF/StFlorianCanReg/1256_X_07\", \"title\": \"Shared shingles: 1\", \"to\": \"Colossians_chapter_4\", \"width\": 1}, {\"from\": \"AT-StiASF/StFlorianCanReg/1256_X_07\", \"title\": \"Shared shingles: 1\", \"to\": \"Isaiah_chapter_51\", \"width\": 1}, {\"from\": \"AT-StiASF/StFlorianCanReg/1256_X_07\", \"title\": \"Shared shingles: 1\", \"to\": \"Proverbs_chapter_31\", \"width\": 1}, {\"from\": \"Colossians_chapter_4\", \"title\": \"Shared shingles: 1\", \"to\": \"CH-StiASG/StiAPfae/0000.180\", \"width\": 1}, {\"from\": \"Colossians_chapter_4\", \"title\": \"Shared shingles: 1\", \"to\": \"AT-HHStA/StBernhardOCist/1285_IV_26\", \"width\": 1}, {\"from\": \"Isaiah_chapter_51\", \"title\": \"Shared shingles: 1\", \"to\": \"CH-StiASG/StiAPfae/0000.180\", \"width\": 1}, {\"from\": \"Isaiah_chapter_51\", \"title\": \"Shared shingles: 1\", \"to\": \"AT-HHStA/StBernhardOCist/1285_IV_26\", \"width\": 1}, {\"from\": \"Proverbs_chapter_31\", \"title\": \"Shared shingles: 1\", \"to\": \"CH-StiASG/StiAPfae/0000.180\", \"width\": 1}, {\"from\": \"Proverbs_chapter_31\", \"title\": \"Shared shingles: 1\", \"to\": \"AT-HHStA/StBernhardOCist/1285_IV_26\", \"width\": 1}, {\"from\": \"AT-StiAH/HeiligenkreuzOCist/1203_III_25\", \"title\": \"Shared shingles: 1\", \"to\": \"Hebrews_chapter_12\", \"width\": 1}, {\"from\": \"OOEUB/0890_XI_20\", \"title\": \"Shared shingles: 1\", \"to\": \"John_chapter_11\", \"width\": 1}, {\"from\": \"StPCanReg/1279_VII_18\", \"title\": \"Shared shingles: 1\", \"to\": \"Exodus_chapter_37\", \"width\": 1}, {\"from\": \"Exodus_chapter_37\", \"title\": \"Shared shingles: 1\", \"to\": \"CSGIII/Nr_1515_S_386\", \"width\": 1}, {\"from\": \"Exodus_chapter_37\", \"title\": \"Shared shingles: 1\", \"to\": \"DE-BayHStA/KURaitenhaslach/1287_05_06\", \"width\": 1}, {\"from\": \"StPCanReg/1366_I_17\", \"title\": \"Shared shingles: 2\", \"to\": \"Ephesians_chapter_4\", \"width\": 2}, {\"from\": \"AT-StiASei/SeitenstettenOSB/1244_II_10\", \"title\": \"Shared shingles: 2\", \"to\": \"ActsoftheApostles_chapter_10\", \"width\": 2}, {\"from\": \"AT-StiASei/SeitenstettenOSB/1244_II_10\", \"title\": \"Shared shingles: 2\", \"to\": \"ActsoftheApostles_chapter_11\", \"width\": 2}, {\"from\": \"AT-StiASei/SeitenstettenOSB/1244_II_10\", \"title\": \"Shared shingles: 1\", \"to\": \"ActsoftheApostles_chapter_9\", \"width\": 1}, {\"from\": \"AT-StiASei/SeitenstettenOSB/1244_II_10\", \"title\": \"Shared shingles: 2\", \"to\": \"ActsoftheApostles_chapter_19\", \"width\": 2}, {\"from\": \"AT-StiASei/SeitenstettenOSB/1244_II_10\", \"title\": \"Shared shingles: 1\", \"to\": \"Matthew_chapter_21\", \"width\": 1}, {\"from\": \"ActsoftheApostles_chapter_19\", \"title\": \"Shared shingles: 1\", \"to\": \"AT-HHStA/SbgE/AUR_1242_VII_13\", \"width\": 1}, {\"from\": \"AT-StiASchl/Urkunden/1466_VII_24.1\", \"title\": \"Shared shingles: 1\", \"to\": \"Galatians_chapter_1\", \"width\": 1}, {\"from\": \"Galatians_chapter_1\", \"title\": \"Shared shingles: 1\", \"to\": \"DE-BayHStA/KURaitenhaslach/1251.1\", \"width\": 1}, {\"from\": \"Galatians_chapter_1\", \"title\": \"Shared shingles: 1\", \"to\": \"AT-StiASchl/Urkunden/1463_VII_23\", \"width\": 1}, {\"from\": \"AT-StiAK/KlosterneuburgCanReg/1289\", \"title\": \"Shared shingles: 1\", \"to\": \"Deuteronomy_chapter_23\", \"width\": 1}, {\"from\": \"DE-BayHStA/KURaitenhaslach/1251.1\", \"title\": \"Shared shingles: 3\", \"to\": \"Deuteronomy_chapter_17\", \"width\": 3}, {\"from\": \"DE-BayHStA/KURaitenhaslach/1251.1\", \"title\": \"Shared shingles: 3\", \"to\": \"Deuteronomy_chapter_19\", \"width\": 3}, {\"from\": \"CH-StaASG/Urkunden/Tr_XVI.2\", \"title\": \"Shared shingles: 1\", \"to\": \"1Chronicles_chapter_15\", \"width\": 1}, {\"from\": \"OOEUB/1184_V\", \"title\": \"Shared shingles: 1\", \"to\": \"Revelation_chapter_10\", \"width\": 1}, {\"from\": \"OOEUB/1184_V\", \"title\": \"Shared shingles: 1\", \"to\": \"Psalms_chapter_143\", \"width\": 1}, {\"from\": \"AT-StiASei/SeitenstettenOSB/1324_V_23\", \"title\": \"Shared shingles: 1\", \"to\": \"Isaiah_chapter_36\", \"width\": 1}, {\"from\": \"AT-StiASei/SeitenstettenOSB/1324_V_23\", \"title\": \"Shared shingles: 3\", \"to\": \"Hebrews_chapter_8\", \"width\": 3}, {\"from\": \"AT-StiASei/SeitenstettenOSB/1324_V_23\", \"title\": \"Shared shingles: 1\", \"to\": \"Ecclesiastes_chapter_9\", \"width\": 1}, {\"from\": \"AT-StiASei/SeitenstettenOSB/1324_V_23\", \"title\": \"Shared shingles: 6\", \"to\": \"Job_chapter_14\", \"width\": 6}, {\"from\": \"AT-HHStA/SbgE/AUR_1242_VII_13\", \"title\": \"Shared shingles: 1\", \"to\": \"ActsoftheApostles_chapter_8\", \"width\": 1}, {\"from\": \"AT-StiAScho/SchottenOSB/1302_V_25\", \"title\": \"Shared shingles: 1\", \"to\": \"Ezekiel_chapter_45\", \"width\": 1}, {\"from\": \"WaldCanReg/1396_VI_04\", \"title\": \"Shared shingles: 1\", \"to\": \"Romans_chapter_12\", \"width\": 1}, {\"from\": \"StPCanReg/1058_X_02\", \"title\": \"Shared shingles: 1\", \"to\": \"Judges_chapter_20\", \"width\": 1}, {\"from\": \"CSGV/1303_III_04\", \"title\": \"Shared shingles: 1\", \"to\": \"Exodus_chapter_8\", \"width\": 1}, {\"from\": \"CSGV/1303_III_04\", \"title\": \"Shared shingles: 1\", \"to\": \"1Kings_chapter_2\", \"width\": 1}, {\"from\": \"1Kings_chapter_2\", \"title\": \"Shared shingles: 1\", \"to\": \"AT-StiAG/GoettweigOSB/1418_VII_03-23\", \"width\": 1}, {\"from\": \"OOEUB/1135\", \"title\": \"Shared shingles: 1\", \"to\": \"2Kings_chapter_25\", \"width\": 1}, {\"from\": \"OOEUB/1135\", \"title\": \"Shared shingles: 1\", \"to\": \"Genesis_chapter_8\", \"width\": 1}, {\"from\": \"AT-StiAW/Urkunden/1319_XI_03\", \"title\": \"Shared shingles: 1\", \"to\": \"Nehemiah_chapter_5\", \"width\": 1}, {\"from\": \"DE-BayHStA/KURaitenhaslach/1194_06\", \"title\": \"Shared shingles: 1\", \"to\": \"1Kings_chapter_1\", \"width\": 1}, {\"from\": \"CSGIV/1279_XII_06\", \"title\": \"Shared shingles: 1\", \"to\": \"John_chapter_4\", \"width\": 1}, {\"from\": \"CSGIV/1279_XII_06\", \"title\": \"Shared shingles: 1\", \"to\": \"Exodus_chapter_18\", \"width\": 1}, {\"from\": \"CSGIV/1279_XII_06\", \"title\": \"Shared shingles: 1\", \"to\": \"Ezra_chapter_3\", \"width\": 1}, {\"from\": \"Ezra_chapter_3\", \"title\": \"Shared shingles: 1\", \"to\": \"AT-StiAG/GoettweigOSB/1418_VII_03-23\", \"width\": 1}, {\"from\": \"CSGV/1301_IX_23\", \"title\": \"Shared shingles: 2\", \"to\": \"Leviticus_chapter_16\", \"width\": 2}, {\"from\": \"AT-StiAG/GoettweigOSB/1418_VII_03-23\", \"title\": \"Shared shingles: 1\", \"to\": \"Psalms_chapter_148\", \"width\": 1}, {\"from\": \"AT-StiAG/GoettweigOSB/1418_VII_03-23\", \"title\": \"Shared shingles: 1\", \"to\": \"Psalms_chapter_54\", \"width\": 1}, {\"from\": \"AT-HHStA/SbgDK/AUR_1207_XII_10\", \"title\": \"Shared shingles: 1\", \"to\": \"Genesis_chapter_21\", \"width\": 1}, {\"from\": \"AT-HHStA/SbgDK/AUR_1207_XII_10\", \"title\": \"Shared shingles: 1\", \"to\": \"Joel_chapter_3\", \"width\": 1}, {\"from\": \"AT-HHStA/SbgDK/AUR_1207_XII_10\", \"title\": \"Shared shingles: 1\", \"to\": \"Exodus_chapter_10\", \"width\": 1}, {\"from\": \"OOEUB/0977_X_05\", \"title\": \"Shared shingles: 1\", \"to\": \"Joshua_chapter_7\", \"width\": 1}, {\"from\": \"AT-StiAKr/KremsmuensterOSB/1306_IV_17\", \"title\": \"Shared shingles: 2\", \"to\": \"Psalms_chapter_32\", \"width\": 2}]);\n",
       "\n",
       "                  nodeColors = {};\n",
       "                  allNodes = nodes.get({ returnType: \"Object\" });\n",
       "                  for (nodeId in allNodes) {\n",
       "                    nodeColors[nodeId] = allNodes[nodeId].color;\n",
       "                  }\n",
       "                  allEdges = edges.get({ returnType: \"Object\" });\n",
       "                  // adding nodes and edges to the graph\n",
       "                  data = {nodes: nodes, edges: edges};\n",
       "\n",
       "                  var options = {\"nodes\": {\"font\": {\"size\": 12}}, \"edges\": {\"color\": {\"inherit\": true}, \"smooth\": false}, \"physics\": {\"forceAtlas2Based\": {\"gravitationalConstant\": -50, \"centralGravity\": 0.01, \"springLength\": 100, \"springConstant\": 0.08}, \"maxVelocity\": 50, \"solver\": \"forceAtlas2Based\", \"timestep\": 0.35, \"stabilization\": {\"enabled\": true, \"iterations\": 1000, \"updateInterval\": 25}}};\n",
       "\n",
       "                  \n",
       "\n",
       "\n",
       "                  \n",
       "\n",
       "                  network = new vis.Network(container, data, options);\n",
       "\n",
       "                  \n",
       "\n",
       "                  \n",
       "\n",
       "                  \n",
       "\n",
       "\n",
       "                  \n",
       "                      network.on(\"stabilizationProgress\", function(params) {\n",
       "                          document.getElementById('loadingBar').removeAttribute(\"style\");\n",
       "                          var maxWidth = 496;\n",
       "                          var minWidth = 20;\n",
       "                          var widthFactor = params.iterations/params.total;\n",
       "                          var width = Math.max(minWidth,maxWidth * widthFactor);\n",
       "                          document.getElementById('bar').style.width = width + 'px';\n",
       "                          document.getElementById('text').innerHTML = Math.round(widthFactor*100) + '%';\n",
       "                      });\n",
       "                      network.once(\"stabilizationIterationsDone\", function() {\n",
       "                          document.getElementById('text').innerHTML = '100%';\n",
       "                          document.getElementById('bar').style.width = '496px';\n",
       "                          document.getElementById('loadingBar').style.opacity = 0;\n",
       "                          // really clean the dom element\n",
       "                          setTimeout(function () {document.getElementById('loadingBar').style.display = 'none';}, 500);\n",
       "                      });\n",
       "                  \n",
       "\n",
       "                  return network;\n",
       "\n",
       "              }\n",
       "              drawGraph();\n",
       "        </script>\n",
       "    </body>\n",
       "</html>"
      ],
      "text/plain": [
       "<IPython.core.display.HTML object>"
      ]
     },
     "metadata": {},
     "output_type": "display_data"
    }
   ],
   "source": [
    "from IPython.display import HTML, display\n",
    "with open('similarity_network.html', 'r') as f:\n",
    "    html_content = f.read()\n",
    "display(HTML(html_content))"
   ]
  }
 ],
 "metadata": {
  "colab": {
   "provenance": []
  },
  "kernelspec": {
   "display_name": "Python 3 (ipykernel)",
   "language": "python",
   "name": "python3"
  },
  "language_info": {
   "codemirror_mode": {
    "name": "ipython",
    "version": 3
   },
   "file_extension": ".py",
   "mimetype": "text/x-python",
   "name": "python",
   "nbconvert_exporter": "python",
   "pygments_lexer": "ipython3",
   "version": "3.11.5"
  }
 },
 "nbformat": 4,
 "nbformat_minor": 4
}
